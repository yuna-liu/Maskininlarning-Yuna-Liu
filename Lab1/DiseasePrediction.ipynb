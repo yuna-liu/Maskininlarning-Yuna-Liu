{
 "cells": [
  {
   "cell_type": "markdown",
   "metadata": {},
   "source": [
    "### Lab1.2. Disease prediction\n",
    "I det här momentet kommer vi jobba med ett dataset med data för hjärt-kärlsjukdom. Börja med att ladda\n",
    "ned datasetet från Kaggle och läs på vad de olika features betyder. Notera att detta dataset innehåller\n",
    "många felaktigheter, exempelvis finns negativa blodtryck och blodtryck som är omöjligt höga.\n",
    "\n",
    "---\n",
    "2.0 - EDA uppvärmning\n",
    "Använd pandas, matplotlib och seaborn för att besvara på följande frågor för datasetet:"
   ]
  },
  {
   "cell_type": "code",
   "execution_count": 1,
   "metadata": {},
   "outputs": [],
   "source": [
    "import numpy as np\n",
    "import pandas as pd\n",
    "import matplotlib.pyplot as plt\n",
    "import seaborn as sns\n",
    "import scipy.stats as stats\n",
    "from my_functions import fixOutliers, box_plot, getWhisker, cardioProp, train_val_test_split, getEvaMetrics"
   ]
  },
  {
   "cell_type": "markdown",
   "metadata": {},
   "source": [
    "Data description\n",
    "There are 3 types of input features:\n",
    "\n",
    "Objective: factual information;\n",
    "Examination: results of medical examination;\n",
    "Subjective: information given by the patient.\n",
    "Features:\n",
    "\n",
    "Age | Objective Feature | age | int (days)\n",
    "Height | Objective Feature | height | int (cm) |\n",
    "Weight | Objective Feature | weight | float (kg) |\n",
    "Gender | Objective Feature | gender | categorical code |\n",
    "Systolic blood pressure | Examination Feature | ap_hi | int |\n",
    "Diastolic blood pressure | Examination Feature | ap_lo | int |\n",
    "Cholesterol | Examination Feature | cholesterol | 1: normal, 2: above normal, 3: well above normal |\n",
    "Glucose | Examination Feature | gluc | 1: normal, 2: above normal, 3: well above normal |\n",
    "Smoking | Subjective Feature | smoke | binary |\n",
    "Alcohol intake | Subjective Feature | alco | binary |\n",
    "Physical activity | Subjective Feature | active | binary |\n",
    "Presence or absence of cardiovascular disease | Target Variable | cardio | binary |\n",
    "All of the dataset values were collected at the moment of medical examination."
   ]
  },
  {
   "cell_type": "markdown",
   "metadata": {},
   "source": [
    "a) Hur många är positiva för hjärt-kärlsjukdom och hur många är negativa?"
   ]
  },
  {
   "cell_type": "code",
   "execution_count": 2,
   "metadata": {},
   "outputs": [
    {
     "data": {
      "text/html": [
       "<div>\n",
       "<style scoped>\n",
       "    .dataframe tbody tr th:only-of-type {\n",
       "        vertical-align: middle;\n",
       "    }\n",
       "\n",
       "    .dataframe tbody tr th {\n",
       "        vertical-align: top;\n",
       "    }\n",
       "\n",
       "    .dataframe thead th {\n",
       "        text-align: right;\n",
       "    }\n",
       "</style>\n",
       "<table border=\"1\" class=\"dataframe\">\n",
       "  <thead>\n",
       "    <tr style=\"text-align: right;\">\n",
       "      <th></th>\n",
       "      <th>id</th>\n",
       "      <th>age</th>\n",
       "      <th>gender</th>\n",
       "      <th>height</th>\n",
       "      <th>weight</th>\n",
       "      <th>ap_hi</th>\n",
       "      <th>ap_lo</th>\n",
       "      <th>cholesterol</th>\n",
       "      <th>gluc</th>\n",
       "      <th>smoke</th>\n",
       "      <th>alco</th>\n",
       "      <th>active</th>\n",
       "      <th>cardio</th>\n",
       "    </tr>\n",
       "  </thead>\n",
       "  <tbody>\n",
       "    <tr>\n",
       "      <th>0</th>\n",
       "      <td>0</td>\n",
       "      <td>18393</td>\n",
       "      <td>2</td>\n",
       "      <td>168</td>\n",
       "      <td>62.0</td>\n",
       "      <td>110</td>\n",
       "      <td>80</td>\n",
       "      <td>1</td>\n",
       "      <td>1</td>\n",
       "      <td>0</td>\n",
       "      <td>0</td>\n",
       "      <td>1</td>\n",
       "      <td>0</td>\n",
       "    </tr>\n",
       "    <tr>\n",
       "      <th>1</th>\n",
       "      <td>1</td>\n",
       "      <td>20228</td>\n",
       "      <td>1</td>\n",
       "      <td>156</td>\n",
       "      <td>85.0</td>\n",
       "      <td>140</td>\n",
       "      <td>90</td>\n",
       "      <td>3</td>\n",
       "      <td>1</td>\n",
       "      <td>0</td>\n",
       "      <td>0</td>\n",
       "      <td>1</td>\n",
       "      <td>1</td>\n",
       "    </tr>\n",
       "    <tr>\n",
       "      <th>2</th>\n",
       "      <td>2</td>\n",
       "      <td>18857</td>\n",
       "      <td>1</td>\n",
       "      <td>165</td>\n",
       "      <td>64.0</td>\n",
       "      <td>130</td>\n",
       "      <td>70</td>\n",
       "      <td>3</td>\n",
       "      <td>1</td>\n",
       "      <td>0</td>\n",
       "      <td>0</td>\n",
       "      <td>0</td>\n",
       "      <td>1</td>\n",
       "    </tr>\n",
       "    <tr>\n",
       "      <th>3</th>\n",
       "      <td>3</td>\n",
       "      <td>17623</td>\n",
       "      <td>2</td>\n",
       "      <td>169</td>\n",
       "      <td>82.0</td>\n",
       "      <td>150</td>\n",
       "      <td>100</td>\n",
       "      <td>1</td>\n",
       "      <td>1</td>\n",
       "      <td>0</td>\n",
       "      <td>0</td>\n",
       "      <td>1</td>\n",
       "      <td>1</td>\n",
       "    </tr>\n",
       "    <tr>\n",
       "      <th>4</th>\n",
       "      <td>4</td>\n",
       "      <td>17474</td>\n",
       "      <td>1</td>\n",
       "      <td>156</td>\n",
       "      <td>56.0</td>\n",
       "      <td>100</td>\n",
       "      <td>60</td>\n",
       "      <td>1</td>\n",
       "      <td>1</td>\n",
       "      <td>0</td>\n",
       "      <td>0</td>\n",
       "      <td>0</td>\n",
       "      <td>0</td>\n",
       "    </tr>\n",
       "    <tr>\n",
       "      <th>...</th>\n",
       "      <td>...</td>\n",
       "      <td>...</td>\n",
       "      <td>...</td>\n",
       "      <td>...</td>\n",
       "      <td>...</td>\n",
       "      <td>...</td>\n",
       "      <td>...</td>\n",
       "      <td>...</td>\n",
       "      <td>...</td>\n",
       "      <td>...</td>\n",
       "      <td>...</td>\n",
       "      <td>...</td>\n",
       "      <td>...</td>\n",
       "    </tr>\n",
       "    <tr>\n",
       "      <th>69995</th>\n",
       "      <td>99993</td>\n",
       "      <td>19240</td>\n",
       "      <td>2</td>\n",
       "      <td>168</td>\n",
       "      <td>76.0</td>\n",
       "      <td>120</td>\n",
       "      <td>80</td>\n",
       "      <td>1</td>\n",
       "      <td>1</td>\n",
       "      <td>1</td>\n",
       "      <td>0</td>\n",
       "      <td>1</td>\n",
       "      <td>0</td>\n",
       "    </tr>\n",
       "    <tr>\n",
       "      <th>69996</th>\n",
       "      <td>99995</td>\n",
       "      <td>22601</td>\n",
       "      <td>1</td>\n",
       "      <td>158</td>\n",
       "      <td>126.0</td>\n",
       "      <td>140</td>\n",
       "      <td>90</td>\n",
       "      <td>2</td>\n",
       "      <td>2</td>\n",
       "      <td>0</td>\n",
       "      <td>0</td>\n",
       "      <td>1</td>\n",
       "      <td>1</td>\n",
       "    </tr>\n",
       "    <tr>\n",
       "      <th>69997</th>\n",
       "      <td>99996</td>\n",
       "      <td>19066</td>\n",
       "      <td>2</td>\n",
       "      <td>183</td>\n",
       "      <td>105.0</td>\n",
       "      <td>180</td>\n",
       "      <td>90</td>\n",
       "      <td>3</td>\n",
       "      <td>1</td>\n",
       "      <td>0</td>\n",
       "      <td>1</td>\n",
       "      <td>0</td>\n",
       "      <td>1</td>\n",
       "    </tr>\n",
       "    <tr>\n",
       "      <th>69998</th>\n",
       "      <td>99998</td>\n",
       "      <td>22431</td>\n",
       "      <td>1</td>\n",
       "      <td>163</td>\n",
       "      <td>72.0</td>\n",
       "      <td>135</td>\n",
       "      <td>80</td>\n",
       "      <td>1</td>\n",
       "      <td>2</td>\n",
       "      <td>0</td>\n",
       "      <td>0</td>\n",
       "      <td>0</td>\n",
       "      <td>1</td>\n",
       "    </tr>\n",
       "    <tr>\n",
       "      <th>69999</th>\n",
       "      <td>99999</td>\n",
       "      <td>20540</td>\n",
       "      <td>1</td>\n",
       "      <td>170</td>\n",
       "      <td>72.0</td>\n",
       "      <td>120</td>\n",
       "      <td>80</td>\n",
       "      <td>2</td>\n",
       "      <td>1</td>\n",
       "      <td>0</td>\n",
       "      <td>0</td>\n",
       "      <td>1</td>\n",
       "      <td>0</td>\n",
       "    </tr>\n",
       "  </tbody>\n",
       "</table>\n",
       "<p>70000 rows × 13 columns</p>\n",
       "</div>"
      ],
      "text/plain": [
       "          id    age  gender  height  weight  ap_hi  ap_lo  cholesterol  gluc  \\\n",
       "0          0  18393       2     168    62.0    110     80            1     1   \n",
       "1          1  20228       1     156    85.0    140     90            3     1   \n",
       "2          2  18857       1     165    64.0    130     70            3     1   \n",
       "3          3  17623       2     169    82.0    150    100            1     1   \n",
       "4          4  17474       1     156    56.0    100     60            1     1   \n",
       "...      ...    ...     ...     ...     ...    ...    ...          ...   ...   \n",
       "69995  99993  19240       2     168    76.0    120     80            1     1   \n",
       "69996  99995  22601       1     158   126.0    140     90            2     2   \n",
       "69997  99996  19066       2     183   105.0    180     90            3     1   \n",
       "69998  99998  22431       1     163    72.0    135     80            1     2   \n",
       "69999  99999  20540       1     170    72.0    120     80            2     1   \n",
       "\n",
       "       smoke  alco  active  cardio  \n",
       "0          0     0       1       0  \n",
       "1          0     0       1       1  \n",
       "2          0     0       0       1  \n",
       "3          0     0       1       1  \n",
       "4          0     0       0       0  \n",
       "...      ...   ...     ...     ...  \n",
       "69995      1     0       1       0  \n",
       "69996      0     0       1       1  \n",
       "69997      0     1       0       1  \n",
       "69998      0     0       0       1  \n",
       "69999      0     0       1       0  \n",
       "\n",
       "[70000 rows x 13 columns]"
      ]
     },
     "execution_count": 2,
     "metadata": {},
     "output_type": "execute_result"
    }
   ],
   "source": [
    "df_cardio_train = pd.read_csv(\"data/cardio_train.csv\", sep=\";\")\n",
    "df_cardio_train"
   ]
  },
  {
   "cell_type": "code",
   "execution_count": 3,
   "metadata": {},
   "outputs": [
    {
     "data": {
      "text/html": [
       "<div>\n",
       "<style scoped>\n",
       "    .dataframe tbody tr th:only-of-type {\n",
       "        vertical-align: middle;\n",
       "    }\n",
       "\n",
       "    .dataframe tbody tr th {\n",
       "        vertical-align: top;\n",
       "    }\n",
       "\n",
       "    .dataframe thead th {\n",
       "        text-align: right;\n",
       "    }\n",
       "</style>\n",
       "<table border=\"1\" class=\"dataframe\">\n",
       "  <thead>\n",
       "    <tr style=\"text-align: right;\">\n",
       "      <th></th>\n",
       "      <th>count</th>\n",
       "      <th>mean</th>\n",
       "      <th>std</th>\n",
       "      <th>min</th>\n",
       "      <th>25%</th>\n",
       "      <th>50%</th>\n",
       "      <th>75%</th>\n",
       "      <th>max</th>\n",
       "    </tr>\n",
       "  </thead>\n",
       "  <tbody>\n",
       "    <tr>\n",
       "      <th>id</th>\n",
       "      <td>70000.0</td>\n",
       "      <td>49972.419900</td>\n",
       "      <td>28851.302323</td>\n",
       "      <td>0.0</td>\n",
       "      <td>25006.75</td>\n",
       "      <td>50001.5</td>\n",
       "      <td>74889.25</td>\n",
       "      <td>99999.0</td>\n",
       "    </tr>\n",
       "    <tr>\n",
       "      <th>age</th>\n",
       "      <td>70000.0</td>\n",
       "      <td>19468.865814</td>\n",
       "      <td>2467.251667</td>\n",
       "      <td>10798.0</td>\n",
       "      <td>17664.00</td>\n",
       "      <td>19703.0</td>\n",
       "      <td>21327.00</td>\n",
       "      <td>23713.0</td>\n",
       "    </tr>\n",
       "    <tr>\n",
       "      <th>gender</th>\n",
       "      <td>70000.0</td>\n",
       "      <td>1.349571</td>\n",
       "      <td>0.476838</td>\n",
       "      <td>1.0</td>\n",
       "      <td>1.00</td>\n",
       "      <td>1.0</td>\n",
       "      <td>2.00</td>\n",
       "      <td>2.0</td>\n",
       "    </tr>\n",
       "    <tr>\n",
       "      <th>height</th>\n",
       "      <td>70000.0</td>\n",
       "      <td>164.359229</td>\n",
       "      <td>8.210126</td>\n",
       "      <td>55.0</td>\n",
       "      <td>159.00</td>\n",
       "      <td>165.0</td>\n",
       "      <td>170.00</td>\n",
       "      <td>250.0</td>\n",
       "    </tr>\n",
       "    <tr>\n",
       "      <th>weight</th>\n",
       "      <td>70000.0</td>\n",
       "      <td>74.205690</td>\n",
       "      <td>14.395757</td>\n",
       "      <td>10.0</td>\n",
       "      <td>65.00</td>\n",
       "      <td>72.0</td>\n",
       "      <td>82.00</td>\n",
       "      <td>200.0</td>\n",
       "    </tr>\n",
       "    <tr>\n",
       "      <th>ap_hi</th>\n",
       "      <td>70000.0</td>\n",
       "      <td>128.817286</td>\n",
       "      <td>154.011419</td>\n",
       "      <td>-150.0</td>\n",
       "      <td>120.00</td>\n",
       "      <td>120.0</td>\n",
       "      <td>140.00</td>\n",
       "      <td>16020.0</td>\n",
       "    </tr>\n",
       "    <tr>\n",
       "      <th>ap_lo</th>\n",
       "      <td>70000.0</td>\n",
       "      <td>96.630414</td>\n",
       "      <td>188.472530</td>\n",
       "      <td>-70.0</td>\n",
       "      <td>80.00</td>\n",
       "      <td>80.0</td>\n",
       "      <td>90.00</td>\n",
       "      <td>11000.0</td>\n",
       "    </tr>\n",
       "    <tr>\n",
       "      <th>cholesterol</th>\n",
       "      <td>70000.0</td>\n",
       "      <td>1.366871</td>\n",
       "      <td>0.680250</td>\n",
       "      <td>1.0</td>\n",
       "      <td>1.00</td>\n",
       "      <td>1.0</td>\n",
       "      <td>2.00</td>\n",
       "      <td>3.0</td>\n",
       "    </tr>\n",
       "    <tr>\n",
       "      <th>gluc</th>\n",
       "      <td>70000.0</td>\n",
       "      <td>1.226457</td>\n",
       "      <td>0.572270</td>\n",
       "      <td>1.0</td>\n",
       "      <td>1.00</td>\n",
       "      <td>1.0</td>\n",
       "      <td>1.00</td>\n",
       "      <td>3.0</td>\n",
       "    </tr>\n",
       "    <tr>\n",
       "      <th>smoke</th>\n",
       "      <td>70000.0</td>\n",
       "      <td>0.088129</td>\n",
       "      <td>0.283484</td>\n",
       "      <td>0.0</td>\n",
       "      <td>0.00</td>\n",
       "      <td>0.0</td>\n",
       "      <td>0.00</td>\n",
       "      <td>1.0</td>\n",
       "    </tr>\n",
       "    <tr>\n",
       "      <th>alco</th>\n",
       "      <td>70000.0</td>\n",
       "      <td>0.053771</td>\n",
       "      <td>0.225568</td>\n",
       "      <td>0.0</td>\n",
       "      <td>0.00</td>\n",
       "      <td>0.0</td>\n",
       "      <td>0.00</td>\n",
       "      <td>1.0</td>\n",
       "    </tr>\n",
       "    <tr>\n",
       "      <th>active</th>\n",
       "      <td>70000.0</td>\n",
       "      <td>0.803729</td>\n",
       "      <td>0.397179</td>\n",
       "      <td>0.0</td>\n",
       "      <td>1.00</td>\n",
       "      <td>1.0</td>\n",
       "      <td>1.00</td>\n",
       "      <td>1.0</td>\n",
       "    </tr>\n",
       "    <tr>\n",
       "      <th>cardio</th>\n",
       "      <td>70000.0</td>\n",
       "      <td>0.499700</td>\n",
       "      <td>0.500003</td>\n",
       "      <td>0.0</td>\n",
       "      <td>0.00</td>\n",
       "      <td>0.0</td>\n",
       "      <td>1.00</td>\n",
       "      <td>1.0</td>\n",
       "    </tr>\n",
       "  </tbody>\n",
       "</table>\n",
       "</div>"
      ],
      "text/plain": [
       "               count          mean           std      min       25%      50%  \\\n",
       "id           70000.0  49972.419900  28851.302323      0.0  25006.75  50001.5   \n",
       "age          70000.0  19468.865814   2467.251667  10798.0  17664.00  19703.0   \n",
       "gender       70000.0      1.349571      0.476838      1.0      1.00      1.0   \n",
       "height       70000.0    164.359229      8.210126     55.0    159.00    165.0   \n",
       "weight       70000.0     74.205690     14.395757     10.0     65.00     72.0   \n",
       "ap_hi        70000.0    128.817286    154.011419   -150.0    120.00    120.0   \n",
       "ap_lo        70000.0     96.630414    188.472530    -70.0     80.00     80.0   \n",
       "cholesterol  70000.0      1.366871      0.680250      1.0      1.00      1.0   \n",
       "gluc         70000.0      1.226457      0.572270      1.0      1.00      1.0   \n",
       "smoke        70000.0      0.088129      0.283484      0.0      0.00      0.0   \n",
       "alco         70000.0      0.053771      0.225568      0.0      0.00      0.0   \n",
       "active       70000.0      0.803729      0.397179      0.0      1.00      1.0   \n",
       "cardio       70000.0      0.499700      0.500003      0.0      0.00      0.0   \n",
       "\n",
       "                  75%      max  \n",
       "id           74889.25  99999.0  \n",
       "age          21327.00  23713.0  \n",
       "gender           2.00      2.0  \n",
       "height         170.00    250.0  \n",
       "weight          82.00    200.0  \n",
       "ap_hi          140.00  16020.0  \n",
       "ap_lo           90.00  11000.0  \n",
       "cholesterol      2.00      3.0  \n",
       "gluc             1.00      3.0  \n",
       "smoke            0.00      1.0  \n",
       "alco             0.00      1.0  \n",
       "active           1.00      1.0  \n",
       "cardio           1.00      1.0  "
      ]
     },
     "execution_count": 3,
     "metadata": {},
     "output_type": "execute_result"
    }
   ],
   "source": [
    "df_cardio_train.describe().T"
   ]
  },
  {
   "cell_type": "code",
   "execution_count": 4,
   "metadata": {},
   "outputs": [
    {
     "name": "stdout",
     "output_type": "stream",
     "text": [
      "<class 'pandas.core.frame.DataFrame'>\n",
      "RangeIndex: 70000 entries, 0 to 69999\n",
      "Data columns (total 13 columns):\n",
      " #   Column       Non-Null Count  Dtype  \n",
      "---  ------       --------------  -----  \n",
      " 0   id           70000 non-null  int64  \n",
      " 1   age          70000 non-null  int64  \n",
      " 2   gender       70000 non-null  int64  \n",
      " 3   height       70000 non-null  int64  \n",
      " 4   weight       70000 non-null  float64\n",
      " 5   ap_hi        70000 non-null  int64  \n",
      " 6   ap_lo        70000 non-null  int64  \n",
      " 7   cholesterol  70000 non-null  int64  \n",
      " 8   gluc         70000 non-null  int64  \n",
      " 9   smoke        70000 non-null  int64  \n",
      " 10  alco         70000 non-null  int64  \n",
      " 11  active       70000 non-null  int64  \n",
      " 12  cardio       70000 non-null  int64  \n",
      "dtypes: float64(1), int64(12)\n",
      "memory usage: 6.9 MB\n"
     ]
    }
   ],
   "source": [
    "df_cardio_train.info()"
   ]
  },
  {
   "cell_type": "code",
   "execution_count": 5,
   "metadata": {},
   "outputs": [],
   "source": [
    "cardio_n = pd.DataFrame(df_cardio_train[\"cardio\"].value_counts())"
   ]
  },
  {
   "cell_type": "code",
   "execution_count": 6,
   "metadata": {},
   "outputs": [
    {
     "data": {
      "text/html": [
       "<div>\n",
       "<style scoped>\n",
       "    .dataframe tbody tr th:only-of-type {\n",
       "        vertical-align: middle;\n",
       "    }\n",
       "\n",
       "    .dataframe tbody tr th {\n",
       "        vertical-align: top;\n",
       "    }\n",
       "\n",
       "    .dataframe thead th {\n",
       "        text-align: right;\n",
       "    }\n",
       "</style>\n",
       "<table border=\"1\" class=\"dataframe\">\n",
       "  <thead>\n",
       "    <tr style=\"text-align: right;\">\n",
       "      <th></th>\n",
       "      <th>cardio</th>\n",
       "    </tr>\n",
       "  </thead>\n",
       "  <tbody>\n",
       "    <tr>\n",
       "      <th>0</th>\n",
       "      <td>35021</td>\n",
       "    </tr>\n",
       "    <tr>\n",
       "      <th>1</th>\n",
       "      <td>34979</td>\n",
       "    </tr>\n",
       "  </tbody>\n",
       "</table>\n",
       "</div>"
      ],
      "text/plain": [
       "   cardio\n",
       "0   35021\n",
       "1   34979"
      ]
     },
     "execution_count": 6,
     "metadata": {},
     "output_type": "execute_result"
    }
   ],
   "source": [
    "cardio_n"
   ]
  },
  {
   "cell_type": "code",
   "execution_count": 7,
   "metadata": {},
   "outputs": [
    {
     "name": "stdout",
     "output_type": "stream",
     "text": [
      "There are 34979 positive cases for cardiovascular disease\n",
      "There are 35021 negative cases for cardiovascular disease\n"
     ]
    }
   ],
   "source": [
    "cardio_count = df_cardio_train[\"cardio\"].value_counts().to_frame()\n",
    "\n",
    "print(f\"There are {cardio_n['cardio'].iloc[1]} positive cases for cardiovascular disease\")\n",
    "print(f\"There are {cardio_n['cardio'].iloc[0]} negative cases for cardiovascular disease\")"
   ]
  },
  {
   "cell_type": "markdown",
   "metadata": {},
   "source": [
    "b) Hur stor andel har normala, över normala och långt över normala kolesterolvärden? Rita ett tårtdiagram."
   ]
  },
  {
   "cell_type": "code",
   "execution_count": 8,
   "metadata": {},
   "outputs": [],
   "source": [
    "cholesterol_n = pd.DataFrame(df_cardio_train[\"cholesterol\"].value_counts())"
   ]
  },
  {
   "cell_type": "code",
   "execution_count": 9,
   "metadata": {},
   "outputs": [],
   "source": [
    "cholesterol_sum=pd.DataFrame(cholesterol_n.sum(axis=0))"
   ]
  },
  {
   "cell_type": "code",
   "execution_count": 10,
   "metadata": {},
   "outputs": [
    {
     "data": {
      "text/html": [
       "<div>\n",
       "<style scoped>\n",
       "    .dataframe tbody tr th:only-of-type {\n",
       "        vertical-align: middle;\n",
       "    }\n",
       "\n",
       "    .dataframe tbody tr th {\n",
       "        vertical-align: top;\n",
       "    }\n",
       "\n",
       "    .dataframe thead th {\n",
       "        text-align: right;\n",
       "    }\n",
       "</style>\n",
       "<table border=\"1\" class=\"dataframe\">\n",
       "  <thead>\n",
       "    <tr style=\"text-align: right;\">\n",
       "      <th></th>\n",
       "      <th>cholesterol</th>\n",
       "      <th>prop_cholesterol</th>\n",
       "    </tr>\n",
       "  </thead>\n",
       "  <tbody>\n",
       "    <tr>\n",
       "      <th>1</th>\n",
       "      <td>52385</td>\n",
       "      <td>0.748357</td>\n",
       "    </tr>\n",
       "    <tr>\n",
       "      <th>2</th>\n",
       "      <td>9549</td>\n",
       "      <td>0.136414</td>\n",
       "    </tr>\n",
       "    <tr>\n",
       "      <th>3</th>\n",
       "      <td>8066</td>\n",
       "      <td>0.115229</td>\n",
       "    </tr>\n",
       "  </tbody>\n",
       "</table>\n",
       "</div>"
      ],
      "text/plain": [
       "   cholesterol  prop_cholesterol\n",
       "1        52385          0.748357\n",
       "2         9549          0.136414\n",
       "3         8066          0.115229"
      ]
     },
     "execution_count": 10,
     "metadata": {},
     "output_type": "execute_result"
    }
   ],
   "source": [
    "cholesterol_n['prop_cholesterol'] = cholesterol_n['cholesterol']/cholesterol_sum.iloc[0,0]\n",
    "cholesterol_n"
   ]
  },
  {
   "cell_type": "code",
   "execution_count": 11,
   "metadata": {},
   "outputs": [
    {
     "data": {
      "image/png": "[encoded data removed]",
      "text/plain": [
       "<Figure size 360x360 with 1 Axes>"
      ]
     },
     "metadata": {},
     "output_type": "display_data"
    }
   ],
   "source": [
    "fig, ax = plt.subplots(dpi=120, figsize=(3,3), facecolor=\"white\")\n",
    "plt.pie(cholesterol_n[\"cholesterol\"], labels=[\"Normal\", \"Above normal\", \"Long above normal\"], autopct=\"%1.2f%%\")\n",
    "ax.set_title(\"Proportion of Cholesterol\");"
   ]
  },
  {
   "cell_type": "markdown",
   "metadata": {},
   "source": [
    "c) Hur ser åldersfördelningen ut? Rita ett histogram.\n",
    "Age | Objective Feature | age | int (days)"
   ]
  },
  {
   "cell_type": "code",
   "execution_count": 12,
   "metadata": {},
   "outputs": [
    {
     "data": {
      "text/plain": [
       "count    70000.000000\n",
       "mean        53.339358\n",
       "std          6.759594\n",
       "min         29.583562\n",
       "25%         48.394521\n",
       "50%         53.980822\n",
       "75%         58.430137\n",
       "max         64.967123\n",
       "Name: age_in_years, dtype: float64"
      ]
     },
     "execution_count": 12,
     "metadata": {},
     "output_type": "execute_result"
    }
   ],
   "source": [
    "df_cardio_train['age_in_years'] = df_cardio_train[\"age\"]/365\n",
    "df_cardio_train['age_in_years'].describe()"
   ]
  },
  {
   "cell_type": "code",
   "execution_count": 13,
   "metadata": {},
   "outputs": [
    {
     "data": {
      "image/png": "[encoded data removed]",
      "text/plain": [
       "<Figure size 720x480 with 1 Axes>"
      ]
     },
     "metadata": {
      "needs_background": "light"
     },
     "output_type": "display_data"
    }
   ],
   "source": [
    "fig = plt.figure(dpi=120)\n",
    "ax = sns.histplot(df_cardio_train['age_in_years'], bins=range(25, 70, 5))\n",
    "ax.set(title=\"The distribution of ages\", xlabel=\"Age in years\");"
   ]
  },
  {
   "cell_type": "markdown",
   "metadata": {},
   "source": [
    "d) Hur stor andel röker?\n"
   ]
  },
  {
   "cell_type": "code",
   "execution_count": 14,
   "metadata": {},
   "outputs": [
    {
     "name": "stdout",
     "output_type": "stream",
     "text": [
      "There are 8.81% of the person in the dataset smoke.\n"
     ]
    }
   ],
   "source": [
    "print(f\"There are {df_cardio_train['smoke'].sum()/len(df_cardio_train)*100:.2f}% of the person in the dataset smoke.\")"
   ]
  },
  {
   "cell_type": "markdown",
   "metadata": {},
   "source": [
    "e) Hur ser viktfördelningen ut? Rita lämpligt diagram"
   ]
  },
  {
   "cell_type": "code",
   "execution_count": 15,
   "metadata": {},
   "outputs": [
    {
     "data": {
      "text/plain": [
       "count    70000.000000\n",
       "mean        74.205690\n",
       "std         14.395757\n",
       "min         10.000000\n",
       "25%         65.000000\n",
       "50%         72.000000\n",
       "75%         82.000000\n",
       "max        200.000000\n",
       "Name: weight, dtype: float64"
      ]
     },
     "execution_count": 15,
     "metadata": {},
     "output_type": "execute_result"
    }
   ],
   "source": [
    "df_cardio_train[\"weight\"].describe().T"
   ]
  },
  {
   "cell_type": "code",
   "execution_count": 16,
   "metadata": {},
   "outputs": [
    {
     "data": {
      "image/png": "[encoded data removed]",
      "text/plain": [
       "<Figure size 720x480 with 1 Axes>"
      ]
     },
     "metadata": {
      "needs_background": "light"
     },
     "output_type": "display_data"
    }
   ],
   "source": [
    "fig, ax = plt.subplots(dpi=120)\n",
    "sns.histplot(df_cardio_train[\"weight\"], bins=range(0, 205, 5))\n",
    "ax.set(title=\"The distribution of weight\", xlabel=\"Weight\");"
   ]
  },
  {
   "cell_type": "markdown",
   "metadata": {},
   "source": [
    "f) Hur ser längdfördelningen ut? Rita lämpligt diagram"
   ]
  },
  {
   "cell_type": "code",
   "execution_count": 17,
   "metadata": {},
   "outputs": [
    {
     "data": {
      "text/plain": [
       "count    70000.000000\n",
       "mean       164.359229\n",
       "std          8.210126\n",
       "min         55.000000\n",
       "25%        159.000000\n",
       "50%        165.000000\n",
       "75%        170.000000\n",
       "max        250.000000\n",
       "Name: height, dtype: float64"
      ]
     },
     "execution_count": 17,
     "metadata": {},
     "output_type": "execute_result"
    }
   ],
   "source": [
    "df_cardio_train[\"height\"].describe().T"
   ]
  },
  {
   "cell_type": "code",
   "execution_count": 18,
   "metadata": {},
   "outputs": [
    {
     "data": {
      "image/png": "[encoded data removed]",
      "text/plain": [
       "<Figure size 720x480 with 1 Axes>"
      ]
     },
     "metadata": {
      "needs_background": "light"
     },
     "output_type": "display_data"
    }
   ],
   "source": [
    "fig, ax = plt.subplots(dpi=120)\n",
    "sns.histplot(df_cardio_train[\"height\"], bins=range(50, 255, 5))\n",
    "ax.set(title=\"The distribution of height\", xlabel=\"Height\");"
   ]
  },
  {
   "cell_type": "markdown",
   "metadata": {},
   "source": [
    "g) Hur stor andel av kvinnor respektive män har hjärt-kärlsjukdom? Rita lämpligt diagram"
   ]
  },
  {
   "cell_type": "code",
   "execution_count": 19,
   "metadata": {},
   "outputs": [
    {
     "data": {
      "text/html": [
       "<div>\n",
       "<style scoped>\n",
       "    .dataframe tbody tr th:only-of-type {\n",
       "        vertical-align: middle;\n",
       "    }\n",
       "\n",
       "    .dataframe tbody tr th {\n",
       "        vertical-align: top;\n",
       "    }\n",
       "\n",
       "    .dataframe thead th {\n",
       "        text-align: right;\n",
       "    }\n",
       "</style>\n",
       "<table border=\"1\" class=\"dataframe\">\n",
       "  <thead>\n",
       "    <tr style=\"text-align: right;\">\n",
       "      <th></th>\n",
       "      <th>id</th>\n",
       "      <th>age</th>\n",
       "      <th>gender</th>\n",
       "      <th>height</th>\n",
       "      <th>weight</th>\n",
       "      <th>ap_hi</th>\n",
       "      <th>ap_lo</th>\n",
       "      <th>cholesterol</th>\n",
       "      <th>gluc</th>\n",
       "      <th>smoke</th>\n",
       "      <th>alco</th>\n",
       "      <th>active</th>\n",
       "      <th>cardio</th>\n",
       "      <th>age_in_years</th>\n",
       "    </tr>\n",
       "  </thead>\n",
       "  <tbody>\n",
       "    <tr>\n",
       "      <th>0</th>\n",
       "      <td>0</td>\n",
       "      <td>18393</td>\n",
       "      <td>2</td>\n",
       "      <td>168</td>\n",
       "      <td>62.0</td>\n",
       "      <td>110</td>\n",
       "      <td>80</td>\n",
       "      <td>1</td>\n",
       "      <td>1</td>\n",
       "      <td>0</td>\n",
       "      <td>0</td>\n",
       "      <td>1</td>\n",
       "      <td>0</td>\n",
       "      <td>50.391781</td>\n",
       "    </tr>\n",
       "    <tr>\n",
       "      <th>1</th>\n",
       "      <td>1</td>\n",
       "      <td>20228</td>\n",
       "      <td>1</td>\n",
       "      <td>156</td>\n",
       "      <td>85.0</td>\n",
       "      <td>140</td>\n",
       "      <td>90</td>\n",
       "      <td>3</td>\n",
       "      <td>1</td>\n",
       "      <td>0</td>\n",
       "      <td>0</td>\n",
       "      <td>1</td>\n",
       "      <td>1</td>\n",
       "      <td>55.419178</td>\n",
       "    </tr>\n",
       "    <tr>\n",
       "      <th>2</th>\n",
       "      <td>2</td>\n",
       "      <td>18857</td>\n",
       "      <td>1</td>\n",
       "      <td>165</td>\n",
       "      <td>64.0</td>\n",
       "      <td>130</td>\n",
       "      <td>70</td>\n",
       "      <td>3</td>\n",
       "      <td>1</td>\n",
       "      <td>0</td>\n",
       "      <td>0</td>\n",
       "      <td>0</td>\n",
       "      <td>1</td>\n",
       "      <td>51.663014</td>\n",
       "    </tr>\n",
       "    <tr>\n",
       "      <th>3</th>\n",
       "      <td>3</td>\n",
       "      <td>17623</td>\n",
       "      <td>2</td>\n",
       "      <td>169</td>\n",
       "      <td>82.0</td>\n",
       "      <td>150</td>\n",
       "      <td>100</td>\n",
       "      <td>1</td>\n",
       "      <td>1</td>\n",
       "      <td>0</td>\n",
       "      <td>0</td>\n",
       "      <td>1</td>\n",
       "      <td>1</td>\n",
       "      <td>48.282192</td>\n",
       "    </tr>\n",
       "    <tr>\n",
       "      <th>4</th>\n",
       "      <td>4</td>\n",
       "      <td>17474</td>\n",
       "      <td>1</td>\n",
       "      <td>156</td>\n",
       "      <td>56.0</td>\n",
       "      <td>100</td>\n",
       "      <td>60</td>\n",
       "      <td>1</td>\n",
       "      <td>1</td>\n",
       "      <td>0</td>\n",
       "      <td>0</td>\n",
       "      <td>0</td>\n",
       "      <td>0</td>\n",
       "      <td>47.873973</td>\n",
       "    </tr>\n",
       "  </tbody>\n",
       "</table>\n",
       "</div>"
      ],
      "text/plain": [
       "   id    age  gender  height  weight  ap_hi  ap_lo  cholesterol  gluc  smoke  \\\n",
       "0   0  18393       2     168    62.0    110     80            1     1      0   \n",
       "1   1  20228       1     156    85.0    140     90            3     1      0   \n",
       "2   2  18857       1     165    64.0    130     70            3     1      0   \n",
       "3   3  17623       2     169    82.0    150    100            1     1      0   \n",
       "4   4  17474       1     156    56.0    100     60            1     1      0   \n",
       "\n",
       "   alco  active  cardio  age_in_years  \n",
       "0     0       1       0     50.391781  \n",
       "1     0       1       1     55.419178  \n",
       "2     0       0       1     51.663014  \n",
       "3     0       1       1     48.282192  \n",
       "4     0       0       0     47.873973  "
      ]
     },
     "execution_count": 19,
     "metadata": {},
     "output_type": "execute_result"
    }
   ],
   "source": [
    "df_cardio_train.head()"
   ]
  },
  {
   "cell_type": "code",
   "execution_count": 20,
   "metadata": {},
   "outputs": [
    {
     "data": {
      "text/html": [
       "<div>\n",
       "<style scoped>\n",
       "    .dataframe tbody tr th:only-of-type {\n",
       "        vertical-align: middle;\n",
       "    }\n",
       "\n",
       "    .dataframe tbody tr th {\n",
       "        vertical-align: top;\n",
       "    }\n",
       "\n",
       "    .dataframe thead th {\n",
       "        text-align: right;\n",
       "    }\n",
       "</style>\n",
       "<table border=\"1\" class=\"dataframe\">\n",
       "  <thead>\n",
       "    <tr style=\"text-align: right;\">\n",
       "      <th></th>\n",
       "      <th>height</th>\n",
       "    </tr>\n",
       "    <tr>\n",
       "      <th>gender</th>\n",
       "      <th></th>\n",
       "    </tr>\n",
       "  </thead>\n",
       "  <tbody>\n",
       "    <tr>\n",
       "      <th>1</th>\n",
       "      <td>161.355612</td>\n",
       "    </tr>\n",
       "    <tr>\n",
       "      <th>2</th>\n",
       "      <td>169.947895</td>\n",
       "    </tr>\n",
       "  </tbody>\n",
       "</table>\n",
       "</div>"
      ],
      "text/plain": [
       "            height\n",
       "gender            \n",
       "1       161.355612\n",
       "2       169.947895"
      ]
     },
     "execution_count": 20,
     "metadata": {},
     "output_type": "execute_result"
    }
   ],
   "source": [
    "df_cardio_train[['height', 'gender']].groupby('gender').agg(np.mean)"
   ]
  },
  {
   "cell_type": "markdown",
   "metadata": {},
   "source": [
    "The data source does not tell which dummy value of gender stands for male, and which is female. To get an hint, I calculated the average height among gender 1 and 2. \n",
    "\n",
    "The result shows that gender 2 has a higher height compre to gender 1. \n",
    "\n",
    "It is thereby assumed in my answer that gender=1 when gender == female. And gender 2 stands for male."
   ]
  },
  {
   "cell_type": "code",
   "execution_count": 21,
   "metadata": {},
   "outputs": [],
   "source": [
    "cardio_gender = cardioProp(df_cardio_train, 'gender')"
   ]
  },
  {
   "cell_type": "code",
   "execution_count": 22,
   "metadata": {},
   "outputs": [
    {
     "data": {
      "image/png": "[encoded data removed]",
      "text/plain": [
       "<Figure size 720x480 with 1 Axes>"
      ]
     },
     "metadata": {
      "needs_background": "light"
     },
     "output_type": "display_data"
    }
   ],
   "source": [
    "fig, ax = plt.subplots(1,1, dpi=120)\n",
    "sns.barplot(data=cardio_gender, x=['Female', 'Male'], y='cardio_%')\n",
    "ax.set(xlabel=\"Gender\", title=\"The proportion of cardiovascular disease by Gender\")\n",
    "ax.bar_label(ax.containers[0]);\n",
    "#https://matplotlib.org/stable/api/_as_gen/matplotlib.axes.Axes.bar_label.html"
   ]
  },
  {
   "cell_type": "markdown",
   "metadata": {},
   "source": [
    "---\n",
    "### 2.1.0 - Feature engineering BMI\n",
    "\n",
    "Skapa en feature för BMI (Body Mass Index), läs på om formeln på wikipedia.\n",
    "\n",
    "a) Släng de samples med orimliga BMIer och outliers. Notera att detta kan vara svårt att avgöra i vilket\n",
    "range av BMIer som vi ska spara. Beskriv hur du gör avvägningen."
   ]
  },
  {
   "cell_type": "markdown",
   "metadata": {},
   "source": [
    " ---\n",
    " **Answers**: Firstly, I make a boxplot to check the distribution of BMI, weight, height and age. The points outside of the boxplot are statistically calculated outliers using Tukey's rule for boxplot. \n",
    "\n",
    " I consider height and weight is because I found that the max of height is 250cm and max weight of 200kg, which is kind of suspicious.\n",
    "\n",
    " I take age into consideration, because A child’s weight status is different from adult BMI categories [source][link_child]. \n",
    "\n",
    " [link_child]:https://www.cdc.gov/obesity/childhood/defining.html\n",
    "\n",
    "\n",
    " Thereafter, I try to check the following critirion, in a statistic sense, to remove the outliers in data. (**)\n",
    "\n",
    "- Lower bound outlier: $Q_1 - 1.5\\cdot IQR$\n",
    "- Upper bound outlier: $Q_3 + 1.5\\cdot IQR$\n",
    "\n",
    "where $Q_1$ is the 1st quartile or 25 percentile, $Q_3$ is the 3rd quartile or 75 percentile and $IQR = Q_3-Q_1$ is the interquartile range. \n",
    "\n",
    "Finally, I use the expert knowledge [Body Mass Index Table][link] to make judgement about the outliers. The tables shows a range of (19, 54). \n",
    "Considering the Adult Body Mass Index (BMI) in the same page.\n",
    "\n",
    "[link]: https://www.nhlbi.nih.gov/health/educational/lose_wt/BMI/bmi_tbl.pdf\n",
    "\n",
    "\n",
    "The source comes from Centers for disease control and prevention: [Defining Adult Overweight & Obesity][link of source]. \n",
    "\n",
    "[link of source]: https://www.cdc.gov/obesity/adult/defining.html?msclkid=6f823c0ea9c211ec87ed78aacca489be"
   ]
  },
  {
   "cell_type": "code",
   "execution_count": 23,
   "metadata": {},
   "outputs": [
    {
     "data": {
      "text/html": [
       "<div>\n",
       "<style scoped>\n",
       "    .dataframe tbody tr th:only-of-type {\n",
       "        vertical-align: middle;\n",
       "    }\n",
       "\n",
       "    .dataframe tbody tr th {\n",
       "        vertical-align: top;\n",
       "    }\n",
       "\n",
       "    .dataframe thead th {\n",
       "        text-align: right;\n",
       "    }\n",
       "</style>\n",
       "<table border=\"1\" class=\"dataframe\">\n",
       "  <thead>\n",
       "    <tr style=\"text-align: right;\">\n",
       "      <th></th>\n",
       "      <th>id</th>\n",
       "      <th>age</th>\n",
       "      <th>gender</th>\n",
       "      <th>height</th>\n",
       "      <th>weight</th>\n",
       "      <th>ap_hi</th>\n",
       "      <th>ap_lo</th>\n",
       "      <th>cholesterol</th>\n",
       "      <th>gluc</th>\n",
       "      <th>smoke</th>\n",
       "      <th>alco</th>\n",
       "      <th>active</th>\n",
       "      <th>cardio</th>\n",
       "      <th>age_in_years</th>\n",
       "      <th>BMI</th>\n",
       "    </tr>\n",
       "  </thead>\n",
       "  <tbody>\n",
       "    <tr>\n",
       "      <th>0</th>\n",
       "      <td>0</td>\n",
       "      <td>18393</td>\n",
       "      <td>2</td>\n",
       "      <td>168</td>\n",
       "      <td>62.0</td>\n",
       "      <td>110</td>\n",
       "      <td>80</td>\n",
       "      <td>1</td>\n",
       "      <td>1</td>\n",
       "      <td>0</td>\n",
       "      <td>0</td>\n",
       "      <td>1</td>\n",
       "      <td>0</td>\n",
       "      <td>50.391781</td>\n",
       "      <td>21.967120</td>\n",
       "    </tr>\n",
       "    <tr>\n",
       "      <th>1</th>\n",
       "      <td>1</td>\n",
       "      <td>20228</td>\n",
       "      <td>1</td>\n",
       "      <td>156</td>\n",
       "      <td>85.0</td>\n",
       "      <td>140</td>\n",
       "      <td>90</td>\n",
       "      <td>3</td>\n",
       "      <td>1</td>\n",
       "      <td>0</td>\n",
       "      <td>0</td>\n",
       "      <td>1</td>\n",
       "      <td>1</td>\n",
       "      <td>55.419178</td>\n",
       "      <td>34.927679</td>\n",
       "    </tr>\n",
       "    <tr>\n",
       "      <th>2</th>\n",
       "      <td>2</td>\n",
       "      <td>18857</td>\n",
       "      <td>1</td>\n",
       "      <td>165</td>\n",
       "      <td>64.0</td>\n",
       "      <td>130</td>\n",
       "      <td>70</td>\n",
       "      <td>3</td>\n",
       "      <td>1</td>\n",
       "      <td>0</td>\n",
       "      <td>0</td>\n",
       "      <td>0</td>\n",
       "      <td>1</td>\n",
       "      <td>51.663014</td>\n",
       "      <td>23.507805</td>\n",
       "    </tr>\n",
       "    <tr>\n",
       "      <th>3</th>\n",
       "      <td>3</td>\n",
       "      <td>17623</td>\n",
       "      <td>2</td>\n",
       "      <td>169</td>\n",
       "      <td>82.0</td>\n",
       "      <td>150</td>\n",
       "      <td>100</td>\n",
       "      <td>1</td>\n",
       "      <td>1</td>\n",
       "      <td>0</td>\n",
       "      <td>0</td>\n",
       "      <td>1</td>\n",
       "      <td>1</td>\n",
       "      <td>48.282192</td>\n",
       "      <td>28.710479</td>\n",
       "    </tr>\n",
       "    <tr>\n",
       "      <th>4</th>\n",
       "      <td>4</td>\n",
       "      <td>17474</td>\n",
       "      <td>1</td>\n",
       "      <td>156</td>\n",
       "      <td>56.0</td>\n",
       "      <td>100</td>\n",
       "      <td>60</td>\n",
       "      <td>1</td>\n",
       "      <td>1</td>\n",
       "      <td>0</td>\n",
       "      <td>0</td>\n",
       "      <td>0</td>\n",
       "      <td>0</td>\n",
       "      <td>47.873973</td>\n",
       "      <td>23.011177</td>\n",
       "    </tr>\n",
       "  </tbody>\n",
       "</table>\n",
       "</div>"
      ],
      "text/plain": [
       "   id    age  gender  height  weight  ap_hi  ap_lo  cholesterol  gluc  smoke  \\\n",
       "0   0  18393       2     168    62.0    110     80            1     1      0   \n",
       "1   1  20228       1     156    85.0    140     90            3     1      0   \n",
       "2   2  18857       1     165    64.0    130     70            3     1      0   \n",
       "3   3  17623       2     169    82.0    150    100            1     1      0   \n",
       "4   4  17474       1     156    56.0    100     60            1     1      0   \n",
       "\n",
       "   alco  active  cardio  age_in_years        BMI  \n",
       "0     0       1       0     50.391781  21.967120  \n",
       "1     0       1       1     55.419178  34.927679  \n",
       "2     0       0       1     51.663014  23.507805  \n",
       "3     0       1       1     48.282192  28.710479  \n",
       "4     0       0       0     47.873973  23.011177  "
      ]
     },
     "execution_count": 23,
     "metadata": {},
     "output_type": "execute_result"
    }
   ],
   "source": [
    "df_cardio_train[\"BMI\"] = df_cardio_train[\"weight\"] / ((df_cardio_train[\"height\"]/100)**2)\n",
    "df_cardio_train.head()"
   ]
  },
  {
   "cell_type": "code",
   "execution_count": 24,
   "metadata": {},
   "outputs": [
    {
     "data": {
      "text/html": [
       "<div>\n",
       "<style scoped>\n",
       "    .dataframe tbody tr th:only-of-type {\n",
       "        vertical-align: middle;\n",
       "    }\n",
       "\n",
       "    .dataframe tbody tr th {\n",
       "        vertical-align: top;\n",
       "    }\n",
       "\n",
       "    .dataframe thead th {\n",
       "        text-align: right;\n",
       "    }\n",
       "</style>\n",
       "<table border=\"1\" class=\"dataframe\">\n",
       "  <thead>\n",
       "    <tr style=\"text-align: right;\">\n",
       "      <th></th>\n",
       "      <th>BMI</th>\n",
       "      <th>weight</th>\n",
       "      <th>height</th>\n",
       "      <th>age_in_years</th>\n",
       "    </tr>\n",
       "  </thead>\n",
       "  <tbody>\n",
       "    <tr>\n",
       "      <th>count</th>\n",
       "      <td>70000.000000</td>\n",
       "      <td>70000.000000</td>\n",
       "      <td>70000.000000</td>\n",
       "      <td>70000.000000</td>\n",
       "    </tr>\n",
       "    <tr>\n",
       "      <th>mean</th>\n",
       "      <td>27.556513</td>\n",
       "      <td>74.205690</td>\n",
       "      <td>164.359229</td>\n",
       "      <td>53.339358</td>\n",
       "    </tr>\n",
       "    <tr>\n",
       "      <th>std</th>\n",
       "      <td>6.091511</td>\n",
       "      <td>14.395757</td>\n",
       "      <td>8.210126</td>\n",
       "      <td>6.759594</td>\n",
       "    </tr>\n",
       "    <tr>\n",
       "      <th>min</th>\n",
       "      <td>3.471784</td>\n",
       "      <td>10.000000</td>\n",
       "      <td>55.000000</td>\n",
       "      <td>29.583562</td>\n",
       "    </tr>\n",
       "    <tr>\n",
       "      <th>25%</th>\n",
       "      <td>23.875115</td>\n",
       "      <td>65.000000</td>\n",
       "      <td>159.000000</td>\n",
       "      <td>48.394521</td>\n",
       "    </tr>\n",
       "    <tr>\n",
       "      <th>50%</th>\n",
       "      <td>26.374068</td>\n",
       "      <td>72.000000</td>\n",
       "      <td>165.000000</td>\n",
       "      <td>53.980822</td>\n",
       "    </tr>\n",
       "    <tr>\n",
       "      <th>75%</th>\n",
       "      <td>30.222222</td>\n",
       "      <td>82.000000</td>\n",
       "      <td>170.000000</td>\n",
       "      <td>58.430137</td>\n",
       "    </tr>\n",
       "    <tr>\n",
       "      <th>max</th>\n",
       "      <td>298.666667</td>\n",
       "      <td>200.000000</td>\n",
       "      <td>250.000000</td>\n",
       "      <td>64.967123</td>\n",
       "    </tr>\n",
       "  </tbody>\n",
       "</table>\n",
       "</div>"
      ],
      "text/plain": [
       "                BMI        weight        height  age_in_years\n",
       "count  70000.000000  70000.000000  70000.000000  70000.000000\n",
       "mean      27.556513     74.205690    164.359229     53.339358\n",
       "std        6.091511     14.395757      8.210126      6.759594\n",
       "min        3.471784     10.000000     55.000000     29.583562\n",
       "25%       23.875115     65.000000    159.000000     48.394521\n",
       "50%       26.374068     72.000000    165.000000     53.980822\n",
       "75%       30.222222     82.000000    170.000000     58.430137\n",
       "max      298.666667    200.000000    250.000000     64.967123"
      ]
     },
     "execution_count": 24,
     "metadata": {},
     "output_type": "execute_result"
    }
   ],
   "source": [
    "df_cardio_train[[\"BMI\", \"weight\", \"height\", \"age_in_years\"]].describe()"
   ]
  },
  {
   "cell_type": "code",
   "execution_count": 25,
   "metadata": {},
   "outputs": [
    {
     "data": {
      "image/png": "[encoded data removed]",
      "text/plain": [
       "<Figure size 1440x720 with 4 Axes>"
      ]
     },
     "metadata": {
      "needs_background": "light"
     },
     "output_type": "display_data"
    }
   ],
   "source": [
    "box_plot(df_cardio_train, 'BMI', 'weight', 'height', 'age_in_years')"
   ]
  },
  {
   "cell_type": "code",
   "execution_count": 26,
   "metadata": {},
   "outputs": [
    {
     "name": "stdout",
     "output_type": "stream",
     "text": [
      "the lower whisker of BMI: 14.35, the upper whisker of BMI: 39.74\n",
      "the lower whisker of weight: 39.50, the upper whisker of weight: 107.50\n",
      "the lower whisker of height: 142.50, the upper whisker of height: 186.50\n",
      "the lower whisker of age_in_years: 33.34, the upper whisker of age_in_years: 73.48\n"
     ]
    }
   ],
   "source": [
    "getWhisker(df_cardio_train, 'BMI')\n",
    "getWhisker(df_cardio_train, 'weight')\n",
    "getWhisker(df_cardio_train, 'height')\n",
    "getWhisker(df_cardio_train, 'age_in_years')"
   ]
  },
  {
   "cell_type": "markdown",
   "metadata": {},
   "source": [
    "1. From both the description and boxplot of BMI, we find that the space between 1st quantile(25%) and 3rd qunatile(75%) is very small, like a black box. It is in a range round (24, 30).\n",
    "\n",
    "2. There are a lot of extreme BMI values locates far away from the  interquartile range (IRQ).\n",
    "\n",
    "3. we can see clearly that all the sample data are adult in age_in_years figure. The lower point is 29 years old, which means that we should remove the weight and height with extremely small numbers for adults.\n",
    "\n",
    "4. The [List of heaviest people][link_List of heaviest people] shows that highest peak weight is 635kg, and highest BMI is 251.\n",
    "\n",
    "[link_List of heaviest people]:https://en.wikipedia.org/wiki/List_of_heaviest_people?msclkid=b09850e1a9cf11ec8af5a02c225eca23\n",
    "\n",
    "5. The [List of the verified shortest people][link shortest people] shows that the shortest adultc lived in the world is 54.6cm. Height confirmed by Guinness World Records.\n",
    "\n",
    "[link shortest people]: https://en.wikipedia.org/wiki/List_of_the_verified_shortest_people?msclkid=a04fa7faa9d411ec9a2e552a9d4480a0\n",
    "\n",
    "6. The [List of tallest people][link List of tallest people] shows that the tallest people is 275cm.\n",
    "\n",
    "[link List of tallest people]: https://en.wikipedia.org/wiki/List_of_tallest_people?msclkid=2fe4d495a9d711ec8b761a29c1510d5b\n",
    "\n",
    "7. I therefore think it is saft to remove the weight under 54.6cm or the lower whisker, instead of high outliers of weight and height. After that, I am goint to check again the description of BMI."
   ]
  },
  {
   "cell_type": "code",
   "execution_count": 27,
   "metadata": {},
   "outputs": [],
   "source": [
    "df_cardio_train_reduce_weight = fixOutliers(df_cardio_train, 'weight', to_do='low')\n",
    "df_cardio_train_reduce_weight_height = fixOutliers(df_cardio_train_reduce_weight, 'height', to_do='low', low_boundary= 54.6)"
   ]
  },
  {
   "cell_type": "code",
   "execution_count": 28,
   "metadata": {},
   "outputs": [
    {
     "data": {
      "text/plain": [
       "((69948, 15), (69948, 15), (70000, 15))"
      ]
     },
     "execution_count": 28,
     "metadata": {},
     "output_type": "execute_result"
    }
   ],
   "source": [
    "df_cardio_train_reduce_weight_height.shape, df_cardio_train_reduce_weight.shape, df_cardio_train.shape"
   ]
  },
  {
   "cell_type": "code",
   "execution_count": 29,
   "metadata": {},
   "outputs": [
    {
     "data": {
      "text/html": [
       "<div>\n",
       "<style scoped>\n",
       "    .dataframe tbody tr th:only-of-type {\n",
       "        vertical-align: middle;\n",
       "    }\n",
       "\n",
       "    .dataframe tbody tr th {\n",
       "        vertical-align: top;\n",
       "    }\n",
       "\n",
       "    .dataframe thead th {\n",
       "        text-align: right;\n",
       "    }\n",
       "</style>\n",
       "<table border=\"1\" class=\"dataframe\">\n",
       "  <thead>\n",
       "    <tr style=\"text-align: right;\">\n",
       "      <th></th>\n",
       "      <th>count</th>\n",
       "      <th>mean</th>\n",
       "      <th>std</th>\n",
       "      <th>min</th>\n",
       "      <th>25%</th>\n",
       "      <th>50%</th>\n",
       "      <th>75%</th>\n",
       "      <th>max</th>\n",
       "    </tr>\n",
       "  </thead>\n",
       "  <tbody>\n",
       "    <tr>\n",
       "      <th>BMI</th>\n",
       "      <td>69948.0</td>\n",
       "      <td>27.565729</td>\n",
       "      <td>6.083558</td>\n",
       "      <td>13.520822</td>\n",
       "      <td>23.875115</td>\n",
       "      <td>26.395803</td>\n",
       "      <td>30.222222</td>\n",
       "      <td>298.666667</td>\n",
       "    </tr>\n",
       "    <tr>\n",
       "      <th>weight</th>\n",
       "      <td>69948.0</td>\n",
       "      <td>74.235659</td>\n",
       "      <td>14.358018</td>\n",
       "      <td>40.000000</td>\n",
       "      <td>65.000000</td>\n",
       "      <td>72.000000</td>\n",
       "      <td>82.000000</td>\n",
       "      <td>200.000000</td>\n",
       "    </tr>\n",
       "    <tr>\n",
       "      <th>height</th>\n",
       "      <td>69948.0</td>\n",
       "      <td>164.368874</td>\n",
       "      <td>8.199857</td>\n",
       "      <td>55.000000</td>\n",
       "      <td>159.000000</td>\n",
       "      <td>165.000000</td>\n",
       "      <td>170.000000</td>\n",
       "      <td>250.000000</td>\n",
       "    </tr>\n",
       "    <tr>\n",
       "      <th>age_in_years</th>\n",
       "      <td>69948.0</td>\n",
       "      <td>53.337994</td>\n",
       "      <td>6.759549</td>\n",
       "      <td>29.583562</td>\n",
       "      <td>48.391781</td>\n",
       "      <td>53.980822</td>\n",
       "      <td>58.427397</td>\n",
       "      <td>64.967123</td>\n",
       "    </tr>\n",
       "  </tbody>\n",
       "</table>\n",
       "</div>"
      ],
      "text/plain": [
       "                count        mean        std        min         25%  \\\n",
       "BMI           69948.0   27.565729   6.083558  13.520822   23.875115   \n",
       "weight        69948.0   74.235659  14.358018  40.000000   65.000000   \n",
       "height        69948.0  164.368874   8.199857  55.000000  159.000000   \n",
       "age_in_years  69948.0   53.337994   6.759549  29.583562   48.391781   \n",
       "\n",
       "                     50%         75%         max  \n",
       "BMI            26.395803   30.222222  298.666667  \n",
       "weight         72.000000   82.000000  200.000000  \n",
       "height        165.000000  170.000000  250.000000  \n",
       "age_in_years   53.980822   58.427397   64.967123  "
      ]
     },
     "execution_count": 29,
     "metadata": {},
     "output_type": "execute_result"
    }
   ],
   "source": [
    "df_cardio_train_reduce_weight_height[[\"BMI\", \"weight\", \"height\", \"age_in_years\"]].describe().T"
   ]
  },
  {
   "cell_type": "code",
   "execution_count": 30,
   "metadata": {},
   "outputs": [
    {
     "data": {
      "text/html": [
       "<div>\n",
       "<style scoped>\n",
       "    .dataframe tbody tr th:only-of-type {\n",
       "        vertical-align: middle;\n",
       "    }\n",
       "\n",
       "    .dataframe tbody tr th {\n",
       "        vertical-align: top;\n",
       "    }\n",
       "\n",
       "    .dataframe thead th {\n",
       "        text-align: right;\n",
       "    }\n",
       "</style>\n",
       "<table border=\"1\" class=\"dataframe\">\n",
       "  <thead>\n",
       "    <tr style=\"text-align: right;\">\n",
       "      <th></th>\n",
       "      <th>id</th>\n",
       "      <th>age</th>\n",
       "      <th>gender</th>\n",
       "      <th>height</th>\n",
       "      <th>weight</th>\n",
       "      <th>ap_hi</th>\n",
       "      <th>ap_lo</th>\n",
       "      <th>cholesterol</th>\n",
       "      <th>gluc</th>\n",
       "      <th>smoke</th>\n",
       "      <th>alco</th>\n",
       "      <th>active</th>\n",
       "      <th>cardio</th>\n",
       "      <th>age_in_years</th>\n",
       "      <th>BMI</th>\n",
       "    </tr>\n",
       "  </thead>\n",
       "  <tbody>\n",
       "    <tr>\n",
       "      <th>12770</th>\n",
       "      <td>18218</td>\n",
       "      <td>19594</td>\n",
       "      <td>1</td>\n",
       "      <td>75</td>\n",
       "      <td>168.0</td>\n",
       "      <td>120</td>\n",
       "      <td>80</td>\n",
       "      <td>1</td>\n",
       "      <td>1</td>\n",
       "      <td>1</td>\n",
       "      <td>0</td>\n",
       "      <td>1</td>\n",
       "      <td>1</td>\n",
       "      <td>53.682192</td>\n",
       "      <td>298.666667</td>\n",
       "    </tr>\n",
       "    <tr>\n",
       "      <th>22723</th>\n",
       "      <td>32456</td>\n",
       "      <td>23386</td>\n",
       "      <td>1</td>\n",
       "      <td>55</td>\n",
       "      <td>81.0</td>\n",
       "      <td>130</td>\n",
       "      <td>90</td>\n",
       "      <td>1</td>\n",
       "      <td>1</td>\n",
       "      <td>0</td>\n",
       "      <td>0</td>\n",
       "      <td>1</td>\n",
       "      <td>1</td>\n",
       "      <td>64.071233</td>\n",
       "      <td>267.768595</td>\n",
       "    </tr>\n",
       "    <tr>\n",
       "      <th>27384</th>\n",
       "      <td>39156</td>\n",
       "      <td>15292</td>\n",
       "      <td>1</td>\n",
       "      <td>80</td>\n",
       "      <td>178.0</td>\n",
       "      <td>140</td>\n",
       "      <td>90</td>\n",
       "      <td>3</td>\n",
       "      <td>3</td>\n",
       "      <td>0</td>\n",
       "      <td>0</td>\n",
       "      <td>1</td>\n",
       "      <td>1</td>\n",
       "      <td>41.895890</td>\n",
       "      <td>278.125000</td>\n",
       "    </tr>\n",
       "  </tbody>\n",
       "</table>\n",
       "</div>"
      ],
      "text/plain": [
       "          id    age  gender  height  weight  ap_hi  ap_lo  cholesterol  gluc  \\\n",
       "12770  18218  19594       1      75   168.0    120     80            1     1   \n",
       "22723  32456  23386       1      55    81.0    130     90            1     1   \n",
       "27384  39156  15292       1      80   178.0    140     90            3     3   \n",
       "\n",
       "       smoke  alco  active  cardio  age_in_years         BMI  \n",
       "12770      1     0       1       1     53.682192  298.666667  \n",
       "22723      0     0       1       1     64.071233  267.768595  \n",
       "27384      0     0       1       1     41.895890  278.125000  "
      ]
     },
     "execution_count": 30,
     "metadata": {},
     "output_type": "execute_result"
    }
   ],
   "source": [
    "df_cardio_train_reduce_weight_height[df_cardio_train_reduce_weight_height['BMI']>250]\n",
    "# shows the samples whose BMI is larger than 250."
   ]
  },
  {
   "cell_type": "markdown",
   "metadata": {},
   "source": [
    "Now check again the description of BMI, it is located in the range of [13.52, 298.7]. This is still high, considering the BMI information in wikipedia and Centers for disease control and prevention. I therefore choose to filter the high outliers to 251, highest in the list of the heavist people."
   ]
  },
  {
   "cell_type": "code",
   "execution_count": 31,
   "metadata": {},
   "outputs": [
    {
     "data": {
      "text/plain": [
       "((69945, 15), (69948, 15))"
      ]
     },
     "execution_count": 31,
     "metadata": {},
     "output_type": "execute_result"
    }
   ],
   "source": [
    "df_cardio_train_reduce_weight_height_BMI=fixOutliers(df_cardio_train_reduce_weight_height, 'BMI', 'high', high_boundary=251)\n",
    "df_cardio_train_reduce_weight_height_BMI.shape, df_cardio_train_reduce_weight_height.shape"
   ]
  },
  {
   "cell_type": "code",
   "execution_count": 32,
   "metadata": {},
   "outputs": [
    {
     "data": {
      "text/html": [
       "<div>\n",
       "<style scoped>\n",
       "    .dataframe tbody tr th:only-of-type {\n",
       "        vertical-align: middle;\n",
       "    }\n",
       "\n",
       "    .dataframe tbody tr th {\n",
       "        vertical-align: top;\n",
       "    }\n",
       "\n",
       "    .dataframe thead th {\n",
       "        text-align: right;\n",
       "    }\n",
       "</style>\n",
       "<table border=\"1\" class=\"dataframe\">\n",
       "  <thead>\n",
       "    <tr style=\"text-align: right;\">\n",
       "      <th></th>\n",
       "      <th>id</th>\n",
       "      <th>age</th>\n",
       "      <th>gender</th>\n",
       "      <th>height</th>\n",
       "      <th>weight</th>\n",
       "      <th>ap_hi</th>\n",
       "      <th>ap_lo</th>\n",
       "      <th>cholesterol</th>\n",
       "      <th>gluc</th>\n",
       "      <th>smoke</th>\n",
       "      <th>alco</th>\n",
       "      <th>active</th>\n",
       "      <th>cardio</th>\n",
       "      <th>age_in_years</th>\n",
       "      <th>BMI</th>\n",
       "    </tr>\n",
       "  </thead>\n",
       "  <tbody>\n",
       "    <tr>\n",
       "      <th>8171</th>\n",
       "      <td>11662</td>\n",
       "      <td>17646</td>\n",
       "      <td>2</td>\n",
       "      <td>97</td>\n",
       "      <td>170.0</td>\n",
       "      <td>160</td>\n",
       "      <td>100</td>\n",
       "      <td>1</td>\n",
       "      <td>1</td>\n",
       "      <td>1</td>\n",
       "      <td>0</td>\n",
       "      <td>1</td>\n",
       "      <td>1</td>\n",
       "      <td>48.345205</td>\n",
       "      <td>180.678074</td>\n",
       "    </tr>\n",
       "    <tr>\n",
       "      <th>23913</th>\n",
       "      <td>34186</td>\n",
       "      <td>19074</td>\n",
       "      <td>1</td>\n",
       "      <td>81</td>\n",
       "      <td>156.0</td>\n",
       "      <td>140</td>\n",
       "      <td>90</td>\n",
       "      <td>1</td>\n",
       "      <td>1</td>\n",
       "      <td>0</td>\n",
       "      <td>0</td>\n",
       "      <td>1</td>\n",
       "      <td>0</td>\n",
       "      <td>52.257534</td>\n",
       "      <td>237.768633</td>\n",
       "    </tr>\n",
       "    <tr>\n",
       "      <th>29157</th>\n",
       "      <td>41661</td>\n",
       "      <td>19088</td>\n",
       "      <td>1</td>\n",
       "      <td>60</td>\n",
       "      <td>69.0</td>\n",
       "      <td>110</td>\n",
       "      <td>70</td>\n",
       "      <td>1</td>\n",
       "      <td>1</td>\n",
       "      <td>0</td>\n",
       "      <td>0</td>\n",
       "      <td>0</td>\n",
       "      <td>0</td>\n",
       "      <td>52.295890</td>\n",
       "      <td>191.666667</td>\n",
       "    </tr>\n",
       "    <tr>\n",
       "      <th>66643</th>\n",
       "      <td>95141</td>\n",
       "      <td>18830</td>\n",
       "      <td>1</td>\n",
       "      <td>57</td>\n",
       "      <td>61.0</td>\n",
       "      <td>130</td>\n",
       "      <td>90</td>\n",
       "      <td>1</td>\n",
       "      <td>1</td>\n",
       "      <td>0</td>\n",
       "      <td>0</td>\n",
       "      <td>1</td>\n",
       "      <td>1</td>\n",
       "      <td>51.589041</td>\n",
       "      <td>187.750077</td>\n",
       "    </tr>\n",
       "  </tbody>\n",
       "</table>\n",
       "</div>"
      ],
      "text/plain": [
       "          id    age  gender  height  weight  ap_hi  ap_lo  cholesterol  gluc  \\\n",
       "8171   11662  17646       2      97   170.0    160    100            1     1   \n",
       "23913  34186  19074       1      81   156.0    140     90            1     1   \n",
       "29157  41661  19088       1      60    69.0    110     70            1     1   \n",
       "66643  95141  18830       1      57    61.0    130     90            1     1   \n",
       "\n",
       "       smoke  alco  active  cardio  age_in_years         BMI  \n",
       "8171       1     0       1       1     48.345205  180.678074  \n",
       "23913      0     0       1       0     52.257534  237.768633  \n",
       "29157      0     0       0       0     52.295890  191.666667  \n",
       "66643      0     0       1       1     51.589041  187.750077  "
      ]
     },
     "execution_count": 32,
     "metadata": {},
     "output_type": "execute_result"
    }
   ],
   "source": [
    "df_cardio_train_reduce_weight_height_BMI[df_cardio_train_reduce_weight_height_BMI['BMI']>180]\n",
    "# shows the samples whose BMI is larger than 180."
   ]
  },
  {
   "cell_type": "markdown",
   "metadata": {},
   "source": [
    "b) Skapa en kategorisk BMI-feature med kategorierna: normal range, overweight, obese (class I), obese\n",
    "(class II), obese (class III)."
   ]
  },
  {
   "cell_type": "code",
   "execution_count": 33,
   "metadata": {},
   "outputs": [],
   "source": [
    "df_reduced = df_cardio_train_reduce_weight_height_BMI.copy()"
   ]
  },
  {
   "cell_type": "code",
   "execution_count": 34,
   "metadata": {},
   "outputs": [
    {
     "data": {
      "text/html": [
       "<div>\n",
       "<style scoped>\n",
       "    .dataframe tbody tr th:only-of-type {\n",
       "        vertical-align: middle;\n",
       "    }\n",
       "\n",
       "    .dataframe tbody tr th {\n",
       "        vertical-align: top;\n",
       "    }\n",
       "\n",
       "    .dataframe thead th {\n",
       "        text-align: right;\n",
       "    }\n",
       "</style>\n",
       "<table border=\"1\" class=\"dataframe\">\n",
       "  <thead>\n",
       "    <tr style=\"text-align: right;\">\n",
       "      <th></th>\n",
       "      <th>id</th>\n",
       "      <th>age</th>\n",
       "      <th>gender</th>\n",
       "      <th>height</th>\n",
       "      <th>weight</th>\n",
       "      <th>ap_hi</th>\n",
       "      <th>ap_lo</th>\n",
       "      <th>cholesterol</th>\n",
       "      <th>gluc</th>\n",
       "      <th>smoke</th>\n",
       "      <th>alco</th>\n",
       "      <th>active</th>\n",
       "      <th>cardio</th>\n",
       "      <th>age_in_years</th>\n",
       "      <th>BMI</th>\n",
       "    </tr>\n",
       "  </thead>\n",
       "  <tbody>\n",
       "    <tr>\n",
       "      <th>0</th>\n",
       "      <td>0</td>\n",
       "      <td>18393</td>\n",
       "      <td>2</td>\n",
       "      <td>168</td>\n",
       "      <td>62.0</td>\n",
       "      <td>110</td>\n",
       "      <td>80</td>\n",
       "      <td>1</td>\n",
       "      <td>1</td>\n",
       "      <td>0</td>\n",
       "      <td>0</td>\n",
       "      <td>1</td>\n",
       "      <td>0</td>\n",
       "      <td>50.391781</td>\n",
       "      <td>21.967120</td>\n",
       "    </tr>\n",
       "    <tr>\n",
       "      <th>1</th>\n",
       "      <td>1</td>\n",
       "      <td>20228</td>\n",
       "      <td>1</td>\n",
       "      <td>156</td>\n",
       "      <td>85.0</td>\n",
       "      <td>140</td>\n",
       "      <td>90</td>\n",
       "      <td>3</td>\n",
       "      <td>1</td>\n",
       "      <td>0</td>\n",
       "      <td>0</td>\n",
       "      <td>1</td>\n",
       "      <td>1</td>\n",
       "      <td>55.419178</td>\n",
       "      <td>34.927679</td>\n",
       "    </tr>\n",
       "    <tr>\n",
       "      <th>2</th>\n",
       "      <td>2</td>\n",
       "      <td>18857</td>\n",
       "      <td>1</td>\n",
       "      <td>165</td>\n",
       "      <td>64.0</td>\n",
       "      <td>130</td>\n",
       "      <td>70</td>\n",
       "      <td>3</td>\n",
       "      <td>1</td>\n",
       "      <td>0</td>\n",
       "      <td>0</td>\n",
       "      <td>0</td>\n",
       "      <td>1</td>\n",
       "      <td>51.663014</td>\n",
       "      <td>23.507805</td>\n",
       "    </tr>\n",
       "    <tr>\n",
       "      <th>3</th>\n",
       "      <td>3</td>\n",
       "      <td>17623</td>\n",
       "      <td>2</td>\n",
       "      <td>169</td>\n",
       "      <td>82.0</td>\n",
       "      <td>150</td>\n",
       "      <td>100</td>\n",
       "      <td>1</td>\n",
       "      <td>1</td>\n",
       "      <td>0</td>\n",
       "      <td>0</td>\n",
       "      <td>1</td>\n",
       "      <td>1</td>\n",
       "      <td>48.282192</td>\n",
       "      <td>28.710479</td>\n",
       "    </tr>\n",
       "    <tr>\n",
       "      <th>4</th>\n",
       "      <td>4</td>\n",
       "      <td>17474</td>\n",
       "      <td>1</td>\n",
       "      <td>156</td>\n",
       "      <td>56.0</td>\n",
       "      <td>100</td>\n",
       "      <td>60</td>\n",
       "      <td>1</td>\n",
       "      <td>1</td>\n",
       "      <td>0</td>\n",
       "      <td>0</td>\n",
       "      <td>0</td>\n",
       "      <td>0</td>\n",
       "      <td>47.873973</td>\n",
       "      <td>23.011177</td>\n",
       "    </tr>\n",
       "  </tbody>\n",
       "</table>\n",
       "</div>"
      ],
      "text/plain": [
       "   id    age  gender  height  weight  ap_hi  ap_lo  cholesterol  gluc  smoke  \\\n",
       "0   0  18393       2     168    62.0    110     80            1     1      0   \n",
       "1   1  20228       1     156    85.0    140     90            3     1      0   \n",
       "2   2  18857       1     165    64.0    130     70            3     1      0   \n",
       "3   3  17623       2     169    82.0    150    100            1     1      0   \n",
       "4   4  17474       1     156    56.0    100     60            1     1      0   \n",
       "\n",
       "   alco  active  cardio  age_in_years        BMI  \n",
       "0     0       1       0     50.391781  21.967120  \n",
       "1     0       1       1     55.419178  34.927679  \n",
       "2     0       0       1     51.663014  23.507805  \n",
       "3     0       1       1     48.282192  28.710479  \n",
       "4     0       0       0     47.873973  23.011177  "
      ]
     },
     "execution_count": 34,
     "metadata": {},
     "output_type": "execute_result"
    }
   ],
   "source": [
    "df_reduced.head()"
   ]
  },
  {
   "cell_type": "code",
   "execution_count": 35,
   "metadata": {},
   "outputs": [
    {
     "data": {
      "text/html": [
       "<div>\n",
       "<style scoped>\n",
       "    .dataframe tbody tr th:only-of-type {\n",
       "        vertical-align: middle;\n",
       "    }\n",
       "\n",
       "    .dataframe tbody tr th {\n",
       "        vertical-align: top;\n",
       "    }\n",
       "\n",
       "    .dataframe thead th {\n",
       "        text-align: right;\n",
       "    }\n",
       "</style>\n",
       "<table border=\"1\" class=\"dataframe\">\n",
       "  <thead>\n",
       "    <tr style=\"text-align: right;\">\n",
       "      <th></th>\n",
       "      <th>id</th>\n",
       "      <th>age</th>\n",
       "      <th>gender</th>\n",
       "      <th>height</th>\n",
       "      <th>weight</th>\n",
       "      <th>ap_hi</th>\n",
       "      <th>ap_lo</th>\n",
       "      <th>cholesterol</th>\n",
       "      <th>gluc</th>\n",
       "      <th>smoke</th>\n",
       "      <th>alco</th>\n",
       "      <th>active</th>\n",
       "      <th>cardio</th>\n",
       "      <th>age_in_years</th>\n",
       "      <th>BMI</th>\n",
       "      <th>blood_cat</th>\n",
       "      <th>BMI_cat</th>\n",
       "    </tr>\n",
       "  </thead>\n",
       "  <tbody>\n",
       "    <tr>\n",
       "      <th>0</th>\n",
       "      <td>0</td>\n",
       "      <td>18393</td>\n",
       "      <td>2</td>\n",
       "      <td>168</td>\n",
       "      <td>62.0</td>\n",
       "      <td>110</td>\n",
       "      <td>80</td>\n",
       "      <td>1</td>\n",
       "      <td>1</td>\n",
       "      <td>0</td>\n",
       "      <td>0</td>\n",
       "      <td>1</td>\n",
       "      <td>0</td>\n",
       "      <td>50.391781</td>\n",
       "      <td>21.967120</td>\n",
       "      <td>NaN</td>\n",
       "      <td>normal</td>\n",
       "    </tr>\n",
       "    <tr>\n",
       "      <th>1</th>\n",
       "      <td>1</td>\n",
       "      <td>20228</td>\n",
       "      <td>1</td>\n",
       "      <td>156</td>\n",
       "      <td>85.0</td>\n",
       "      <td>140</td>\n",
       "      <td>90</td>\n",
       "      <td>3</td>\n",
       "      <td>1</td>\n",
       "      <td>0</td>\n",
       "      <td>0</td>\n",
       "      <td>1</td>\n",
       "      <td>1</td>\n",
       "      <td>55.419178</td>\n",
       "      <td>34.927679</td>\n",
       "      <td>NaN</td>\n",
       "      <td>obese(class I)</td>\n",
       "    </tr>\n",
       "    <tr>\n",
       "      <th>2</th>\n",
       "      <td>2</td>\n",
       "      <td>18857</td>\n",
       "      <td>1</td>\n",
       "      <td>165</td>\n",
       "      <td>64.0</td>\n",
       "      <td>130</td>\n",
       "      <td>70</td>\n",
       "      <td>3</td>\n",
       "      <td>1</td>\n",
       "      <td>0</td>\n",
       "      <td>0</td>\n",
       "      <td>0</td>\n",
       "      <td>1</td>\n",
       "      <td>51.663014</td>\n",
       "      <td>23.507805</td>\n",
       "      <td>NaN</td>\n",
       "      <td>normal</td>\n",
       "    </tr>\n",
       "    <tr>\n",
       "      <th>3</th>\n",
       "      <td>3</td>\n",
       "      <td>17623</td>\n",
       "      <td>2</td>\n",
       "      <td>169</td>\n",
       "      <td>82.0</td>\n",
       "      <td>150</td>\n",
       "      <td>100</td>\n",
       "      <td>1</td>\n",
       "      <td>1</td>\n",
       "      <td>0</td>\n",
       "      <td>0</td>\n",
       "      <td>1</td>\n",
       "      <td>1</td>\n",
       "      <td>48.282192</td>\n",
       "      <td>28.710479</td>\n",
       "      <td>NaN</td>\n",
       "      <td>overweight</td>\n",
       "    </tr>\n",
       "    <tr>\n",
       "      <th>4</th>\n",
       "      <td>4</td>\n",
       "      <td>17474</td>\n",
       "      <td>1</td>\n",
       "      <td>156</td>\n",
       "      <td>56.0</td>\n",
       "      <td>100</td>\n",
       "      <td>60</td>\n",
       "      <td>1</td>\n",
       "      <td>1</td>\n",
       "      <td>0</td>\n",
       "      <td>0</td>\n",
       "      <td>0</td>\n",
       "      <td>0</td>\n",
       "      <td>47.873973</td>\n",
       "      <td>23.011177</td>\n",
       "      <td>NaN</td>\n",
       "      <td>normal</td>\n",
       "    </tr>\n",
       "  </tbody>\n",
       "</table>\n",
       "</div>"
      ],
      "text/plain": [
       "   id    age  gender  height  weight  ap_hi  ap_lo  cholesterol  gluc  smoke  \\\n",
       "0   0  18393       2     168    62.0    110     80            1     1      0   \n",
       "1   1  20228       1     156    85.0    140     90            3     1      0   \n",
       "2   2  18857       1     165    64.0    130     70            3     1      0   \n",
       "3   3  17623       2     169    82.0    150    100            1     1      0   \n",
       "4   4  17474       1     156    56.0    100     60            1     1      0   \n",
       "\n",
       "   alco  active  cardio  age_in_years        BMI  blood_cat         BMI_cat  \n",
       "0     0       1       0     50.391781  21.967120        NaN          normal  \n",
       "1     0       1       1     55.419178  34.927679        NaN  obese(class I)  \n",
       "2     0       0       1     51.663014  23.507805        NaN          normal  \n",
       "3     0       1       1     48.282192  28.710479        NaN      overweight  \n",
       "4     0       0       0     47.873973  23.011177        NaN          normal  "
      ]
     },
     "execution_count": 35,
     "metadata": {},
     "output_type": "execute_result"
    }
   ],
   "source": [
    "# Reference: https://stackoverflow.com/questions/32633977/how-to-create-categorical-variable-based-on-a-numerical-variable\n",
    "df_reduced=df_reduced.assign(blood_cat=np.nan)\n",
    "\n",
    "df_reduced.loc[(df_reduced[\"BMI\"] < 18.5), \"BMI_cat\"] = \"underweight\"\n",
    "df_reduced.loc[(df_reduced[\"BMI\"] >= 18.5) & (df_reduced[\"BMI\"] < 25), \"BMI_cat\"] = \"normal\"\n",
    "df_reduced.loc[(df_reduced[\"BMI\"] >= 25) & (df_reduced[\"BMI\"] < 30), \"BMI_cat\"] = \"overweight\"\n",
    "df_reduced.loc[(df_reduced[\"BMI\"] >= 30) & (df_reduced[\"BMI\"] < 35), \"BMI_cat\"] = \"obese(class I)\"\n",
    "df_reduced.loc[(df_reduced[\"BMI\"] >= 35) & (df_reduced[\"BMI\"] < 40), \"BMI_cat\"] = \"obese(class II)\"\n",
    "df_reduced.loc[(df_reduced[\"BMI\"] >= 40), \"BMI_cat\"] = \"obese(class III)\"\n",
    "\n",
    "df_reduced.head()"
   ]
  },
  {
   "cell_type": "markdown",
   "metadata": {},
   "source": [
    "### 2.1.1 - Feature engineering blodtryck\n",
    "Släng bort samples med orimliga blodtryck och outliers. Likt uppgift 2.1.0 är det inte trivialt att sätta\n",
    "gränserna. Skapa en feature för blodtryckskategorier enligt tabellen i denna artikel.\n"
   ]
  },
  {
   "cell_type": "code",
   "execution_count": 36,
   "metadata": {},
   "outputs": [
    {
     "name": "stdout",
     "output_type": "stream",
     "text": [
      "the lower whisker of ap_hi: 90.00, the upper whisker of ap_hi: 170.00\n",
      "the lower whisker of ap_lo: 65.00, the upper whisker of ap_lo: 105.00\n"
     ]
    }
   ],
   "source": [
    "getWhisker(df_reduced, 'ap_hi')\n",
    "getWhisker(df_reduced, 'ap_lo')"
   ]
  },
  {
   "cell_type": "code",
   "execution_count": 37,
   "metadata": {},
   "outputs": [
    {
     "data": {
      "text/html": [
       "<div>\n",
       "<style scoped>\n",
       "    .dataframe tbody tr th:only-of-type {\n",
       "        vertical-align: middle;\n",
       "    }\n",
       "\n",
       "    .dataframe tbody tr th {\n",
       "        vertical-align: top;\n",
       "    }\n",
       "\n",
       "    .dataframe thead th {\n",
       "        text-align: right;\n",
       "    }\n",
       "</style>\n",
       "<table border=\"1\" class=\"dataframe\">\n",
       "  <thead>\n",
       "    <tr style=\"text-align: right;\">\n",
       "      <th></th>\n",
       "      <th>ap_hi</th>\n",
       "      <th>ap_lo</th>\n",
       "    </tr>\n",
       "  </thead>\n",
       "  <tbody>\n",
       "    <tr>\n",
       "      <th>count</th>\n",
       "      <td>69945.000000</td>\n",
       "      <td>69945.000000</td>\n",
       "    </tr>\n",
       "    <tr>\n",
       "      <th>mean</th>\n",
       "      <td>128.826178</td>\n",
       "      <td>96.606448</td>\n",
       "    </tr>\n",
       "    <tr>\n",
       "      <th>std</th>\n",
       "      <td>154.070532</td>\n",
       "      <td>188.445400</td>\n",
       "    </tr>\n",
       "    <tr>\n",
       "      <th>min</th>\n",
       "      <td>-150.000000</td>\n",
       "      <td>-70.000000</td>\n",
       "    </tr>\n",
       "    <tr>\n",
       "      <th>25%</th>\n",
       "      <td>120.000000</td>\n",
       "      <td>80.000000</td>\n",
       "    </tr>\n",
       "    <tr>\n",
       "      <th>50%</th>\n",
       "      <td>120.000000</td>\n",
       "      <td>80.000000</td>\n",
       "    </tr>\n",
       "    <tr>\n",
       "      <th>75%</th>\n",
       "      <td>140.000000</td>\n",
       "      <td>90.000000</td>\n",
       "    </tr>\n",
       "    <tr>\n",
       "      <th>max</th>\n",
       "      <td>16020.000000</td>\n",
       "      <td>11000.000000</td>\n",
       "    </tr>\n",
       "  </tbody>\n",
       "</table>\n",
       "</div>"
      ],
      "text/plain": [
       "              ap_hi         ap_lo\n",
       "count  69945.000000  69945.000000\n",
       "mean     128.826178     96.606448\n",
       "std      154.070532    188.445400\n",
       "min     -150.000000    -70.000000\n",
       "25%      120.000000     80.000000\n",
       "50%      120.000000     80.000000\n",
       "75%      140.000000     90.000000\n",
       "max    16020.000000  11000.000000"
      ]
     },
     "execution_count": 37,
     "metadata": {},
     "output_type": "execute_result"
    }
   ],
   "source": [
    "df_reduced[['ap_hi', 'ap_lo']].describe()"
   ]
  },
  {
   "cell_type": "code",
   "execution_count": 38,
   "metadata": {},
   "outputs": [
    {
     "data": {
      "image/png": "[encoded data removed]",
      "text/plain": [
       "<Figure size 1440x720 with 2 Axes>"
      ]
     },
     "metadata": {
      "needs_background": "light"
     },
     "output_type": "display_data"
    }
   ],
   "source": [
    "box_plot(df_reduced, 'ap_hi', 'ap_lo')\n",
    "# boxplot of data removed unrealistic weight and height"
   ]
  },
  {
   "cell_type": "code",
   "execution_count": 39,
   "metadata": {},
   "outputs": [
    {
     "data": {
      "image/png": "[encoded data removed]",
      "text/plain": [
       "<Figure size 1440x720 with 2 Axes>"
      ]
     },
     "metadata": {
      "needs_background": "light"
     },
     "output_type": "display_data"
    }
   ],
   "source": [
    "# boxplot of orginal data\n",
    "box_plot(df_cardio_train, 'ap_hi', 'ap_lo')"
   ]
  },
  {
   "cell_type": "markdown",
   "metadata": {},
   "source": [
    "In both figures, we see that there are some outliers, t.ex. above 16000, and negative numbers.\n",
    "\n",
    "In [Everything You Need to Know About High Blood Pressure (Hypertension)][link_Everything You Need to Know About High Blood Pressure (Hypertension)]:\n",
    "\n",
    "[link_Everything You Need to Know About High Blood Pressure (Hypertension)]: https://www.healthline.com/health/high-blood-pressure-hypertension, \n",
    "It stated that: \"Hypertensive crisis: The systolic number is over 180 mm Hg, or the diastolic number is over 120 mm Hg. Blood pressure in this range requires urgent medical attention. If any symptoms like chest pain, headache, shortness of breath, or visual changes occur when blood pressure is this high, medical care in the emergency room is needed.\"\n",
    "\n",
    "since the systolic blood pressure with 180 is larger than our upper whisker 170, I therefore neglect the upper wisker, and choose 200. the low boundary is set to 120-20\n",
    "\n",
    "since the diastolic blood pressure with 120 is larger than our upper whisker 105, I therefore neglect the upper wisker, and choose 140. the low boundary is set to 80-20"
   ]
  },
  {
   "cell_type": "code",
   "execution_count": 40,
   "metadata": {},
   "outputs": [
    {
     "data": {
      "text/plain": [
       "((68307, 17), (69945, 17))"
      ]
     },
     "execution_count": 40,
     "metadata": {},
     "output_type": "execute_result"
    }
   ],
   "source": [
    "df_reduced_temp = fixOutliers(df_reduced, 'ap_hi', to_do='high', high_boundary=200)\n",
    "df_reduced_temp = fixOutliers(df_reduced_temp, 'ap_hi', to_do='low', low_boundary=100)\n",
    "df_reduced_temp = fixOutliers(df_reduced_temp, 'ap_lo', to_do='high', high_boundary=140)\n",
    "df_reduced_2 = fixOutliers(df_reduced_temp, 'ap_lo', to_do='low', low_boundary=60)\n",
    "df_reduced_2.shape, df_reduced.shape"
   ]
  },
  {
   "cell_type": "code",
   "execution_count": 41,
   "metadata": {},
   "outputs": [
    {
     "data": {
      "image/png": "[encoded data removed]",
      "text/plain": [
       "<Figure size 1440x720 with 2 Axes>"
      ]
     },
     "metadata": {
      "needs_background": "light"
     },
     "output_type": "display_data"
    }
   ],
   "source": [
    "# boxplot of reduced dataset by unrealistic weight, height, and blood pressure\n",
    "box_plot(df_reduced_2, 'ap_hi', 'ap_lo')"
   ]
  },
  {
   "cell_type": "code",
   "execution_count": 42,
   "metadata": {},
   "outputs": [],
   "source": [
    "# Reference: https://stackoverflow.com/questions/32633977/how-to-create-categorical-variable-based-on-a-numerical-variable\n",
    "df_reduced_2=df_reduced_2.assign(blood_cat=np.nan)\n",
    "\n",
    "df_reduced_2.loc[(df_reduced_2[\"ap_hi\"] < 120) & (df_reduced_2[\"ap_lo\"] < 80), \"blood_cat\"] = \"healthy\"\n",
    "df_reduced_2.loc[(df_reduced_2[\"ap_hi\"] >= 120) & (df_reduced_2[\"ap_hi\"] < 130) & (df_reduced_2[\"ap_lo\"] < 80), \n",
    "            \"blood_cat\"] = \"elevated\"\n",
    "df_reduced_2.loc[((df_reduced_2[\"ap_hi\"] >= 130) & (df_reduced_2[\"ap_hi\"] < 140)) | ((df_reduced_2[\"ap_lo\"] >= 80) & (df_reduced_2[\"ap_lo\"] < 90)), \n",
    "            \"blood_cat\"] = \"hypertension stage 1\"\n",
    "df_reduced_2.loc[((df_reduced_2[\"ap_hi\"] >= 140) & (df_reduced_2[\"ap_hi\"] <= 180)) | ((df_reduced_2[\"ap_lo\"] >= 90) & (df_reduced_2[\"ap_lo\"] <= 120)), \n",
    "            \"blood_cat\"] = \"hypertension stage 2\"\n",
    "df_reduced_2.loc[(df_reduced_2[\"ap_hi\"] > 180) | (df_reduced_2[\"ap_lo\"] > 120), \"blood_cat\"] = \"hypertension crisis\"\n"
   ]
  },
  {
   "cell_type": "code",
   "execution_count": 43,
   "metadata": {},
   "outputs": [
    {
     "data": {
      "text/html": [
       "<div>\n",
       "<style scoped>\n",
       "    .dataframe tbody tr th:only-of-type {\n",
       "        vertical-align: middle;\n",
       "    }\n",
       "\n",
       "    .dataframe tbody tr th {\n",
       "        vertical-align: top;\n",
       "    }\n",
       "\n",
       "    .dataframe thead th {\n",
       "        text-align: right;\n",
       "    }\n",
       "</style>\n",
       "<table border=\"1\" class=\"dataframe\">\n",
       "  <thead>\n",
       "    <tr style=\"text-align: right;\">\n",
       "      <th></th>\n",
       "      <th>id</th>\n",
       "      <th>age</th>\n",
       "      <th>gender</th>\n",
       "      <th>height</th>\n",
       "      <th>weight</th>\n",
       "      <th>ap_hi</th>\n",
       "      <th>ap_lo</th>\n",
       "      <th>cholesterol</th>\n",
       "      <th>gluc</th>\n",
       "      <th>smoke</th>\n",
       "      <th>alco</th>\n",
       "      <th>active</th>\n",
       "      <th>cardio</th>\n",
       "      <th>age_in_years</th>\n",
       "      <th>BMI</th>\n",
       "      <th>blood_cat</th>\n",
       "      <th>BMI_cat</th>\n",
       "    </tr>\n",
       "  </thead>\n",
       "  <tbody>\n",
       "    <tr>\n",
       "      <th>0</th>\n",
       "      <td>0</td>\n",
       "      <td>18393</td>\n",
       "      <td>2</td>\n",
       "      <td>168</td>\n",
       "      <td>62.0</td>\n",
       "      <td>110</td>\n",
       "      <td>80</td>\n",
       "      <td>1</td>\n",
       "      <td>1</td>\n",
       "      <td>0</td>\n",
       "      <td>0</td>\n",
       "      <td>1</td>\n",
       "      <td>0</td>\n",
       "      <td>50.391781</td>\n",
       "      <td>21.967120</td>\n",
       "      <td>hypertension stage 1</td>\n",
       "      <td>normal</td>\n",
       "    </tr>\n",
       "    <tr>\n",
       "      <th>1</th>\n",
       "      <td>1</td>\n",
       "      <td>20228</td>\n",
       "      <td>1</td>\n",
       "      <td>156</td>\n",
       "      <td>85.0</td>\n",
       "      <td>140</td>\n",
       "      <td>90</td>\n",
       "      <td>3</td>\n",
       "      <td>1</td>\n",
       "      <td>0</td>\n",
       "      <td>0</td>\n",
       "      <td>1</td>\n",
       "      <td>1</td>\n",
       "      <td>55.419178</td>\n",
       "      <td>34.927679</td>\n",
       "      <td>hypertension stage 2</td>\n",
       "      <td>obese(class I)</td>\n",
       "    </tr>\n",
       "    <tr>\n",
       "      <th>2</th>\n",
       "      <td>2</td>\n",
       "      <td>18857</td>\n",
       "      <td>1</td>\n",
       "      <td>165</td>\n",
       "      <td>64.0</td>\n",
       "      <td>130</td>\n",
       "      <td>70</td>\n",
       "      <td>3</td>\n",
       "      <td>1</td>\n",
       "      <td>0</td>\n",
       "      <td>0</td>\n",
       "      <td>0</td>\n",
       "      <td>1</td>\n",
       "      <td>51.663014</td>\n",
       "      <td>23.507805</td>\n",
       "      <td>hypertension stage 1</td>\n",
       "      <td>normal</td>\n",
       "    </tr>\n",
       "    <tr>\n",
       "      <th>3</th>\n",
       "      <td>3</td>\n",
       "      <td>17623</td>\n",
       "      <td>2</td>\n",
       "      <td>169</td>\n",
       "      <td>82.0</td>\n",
       "      <td>150</td>\n",
       "      <td>100</td>\n",
       "      <td>1</td>\n",
       "      <td>1</td>\n",
       "      <td>0</td>\n",
       "      <td>0</td>\n",
       "      <td>1</td>\n",
       "      <td>1</td>\n",
       "      <td>48.282192</td>\n",
       "      <td>28.710479</td>\n",
       "      <td>hypertension stage 2</td>\n",
       "      <td>overweight</td>\n",
       "    </tr>\n",
       "    <tr>\n",
       "      <th>4</th>\n",
       "      <td>4</td>\n",
       "      <td>17474</td>\n",
       "      <td>1</td>\n",
       "      <td>156</td>\n",
       "      <td>56.0</td>\n",
       "      <td>100</td>\n",
       "      <td>60</td>\n",
       "      <td>1</td>\n",
       "      <td>1</td>\n",
       "      <td>0</td>\n",
       "      <td>0</td>\n",
       "      <td>0</td>\n",
       "      <td>0</td>\n",
       "      <td>47.873973</td>\n",
       "      <td>23.011177</td>\n",
       "      <td>healthy</td>\n",
       "      <td>normal</td>\n",
       "    </tr>\n",
       "    <tr>\n",
       "      <th>...</th>\n",
       "      <td>...</td>\n",
       "      <td>...</td>\n",
       "      <td>...</td>\n",
       "      <td>...</td>\n",
       "      <td>...</td>\n",
       "      <td>...</td>\n",
       "      <td>...</td>\n",
       "      <td>...</td>\n",
       "      <td>...</td>\n",
       "      <td>...</td>\n",
       "      <td>...</td>\n",
       "      <td>...</td>\n",
       "      <td>...</td>\n",
       "      <td>...</td>\n",
       "      <td>...</td>\n",
       "      <td>...</td>\n",
       "      <td>...</td>\n",
       "    </tr>\n",
       "    <tr>\n",
       "      <th>69995</th>\n",
       "      <td>99993</td>\n",
       "      <td>19240</td>\n",
       "      <td>2</td>\n",
       "      <td>168</td>\n",
       "      <td>76.0</td>\n",
       "      <td>120</td>\n",
       "      <td>80</td>\n",
       "      <td>1</td>\n",
       "      <td>1</td>\n",
       "      <td>1</td>\n",
       "      <td>0</td>\n",
       "      <td>1</td>\n",
       "      <td>0</td>\n",
       "      <td>52.712329</td>\n",
       "      <td>26.927438</td>\n",
       "      <td>hypertension stage 1</td>\n",
       "      <td>overweight</td>\n",
       "    </tr>\n",
       "    <tr>\n",
       "      <th>69996</th>\n",
       "      <td>99995</td>\n",
       "      <td>22601</td>\n",
       "      <td>1</td>\n",
       "      <td>158</td>\n",
       "      <td>126.0</td>\n",
       "      <td>140</td>\n",
       "      <td>90</td>\n",
       "      <td>2</td>\n",
       "      <td>2</td>\n",
       "      <td>0</td>\n",
       "      <td>0</td>\n",
       "      <td>1</td>\n",
       "      <td>1</td>\n",
       "      <td>61.920548</td>\n",
       "      <td>50.472681</td>\n",
       "      <td>hypertension stage 2</td>\n",
       "      <td>obese(class III)</td>\n",
       "    </tr>\n",
       "    <tr>\n",
       "      <th>69997</th>\n",
       "      <td>99996</td>\n",
       "      <td>19066</td>\n",
       "      <td>2</td>\n",
       "      <td>183</td>\n",
       "      <td>105.0</td>\n",
       "      <td>180</td>\n",
       "      <td>90</td>\n",
       "      <td>3</td>\n",
       "      <td>1</td>\n",
       "      <td>0</td>\n",
       "      <td>1</td>\n",
       "      <td>0</td>\n",
       "      <td>1</td>\n",
       "      <td>52.235616</td>\n",
       "      <td>31.353579</td>\n",
       "      <td>hypertension stage 2</td>\n",
       "      <td>obese(class I)</td>\n",
       "    </tr>\n",
       "    <tr>\n",
       "      <th>69998</th>\n",
       "      <td>99998</td>\n",
       "      <td>22431</td>\n",
       "      <td>1</td>\n",
       "      <td>163</td>\n",
       "      <td>72.0</td>\n",
       "      <td>135</td>\n",
       "      <td>80</td>\n",
       "      <td>1</td>\n",
       "      <td>2</td>\n",
       "      <td>0</td>\n",
       "      <td>0</td>\n",
       "      <td>0</td>\n",
       "      <td>1</td>\n",
       "      <td>61.454795</td>\n",
       "      <td>27.099251</td>\n",
       "      <td>hypertension stage 1</td>\n",
       "      <td>overweight</td>\n",
       "    </tr>\n",
       "    <tr>\n",
       "      <th>69999</th>\n",
       "      <td>99999</td>\n",
       "      <td>20540</td>\n",
       "      <td>1</td>\n",
       "      <td>170</td>\n",
       "      <td>72.0</td>\n",
       "      <td>120</td>\n",
       "      <td>80</td>\n",
       "      <td>2</td>\n",
       "      <td>1</td>\n",
       "      <td>0</td>\n",
       "      <td>0</td>\n",
       "      <td>1</td>\n",
       "      <td>0</td>\n",
       "      <td>56.273973</td>\n",
       "      <td>24.913495</td>\n",
       "      <td>hypertension stage 1</td>\n",
       "      <td>normal</td>\n",
       "    </tr>\n",
       "  </tbody>\n",
       "</table>\n",
       "<p>68307 rows × 17 columns</p>\n",
       "</div>"
      ],
      "text/plain": [
       "          id    age  gender  height  weight  ap_hi  ap_lo  cholesterol  gluc  \\\n",
       "0          0  18393       2     168    62.0    110     80            1     1   \n",
       "1          1  20228       1     156    85.0    140     90            3     1   \n",
       "2          2  18857       1     165    64.0    130     70            3     1   \n",
       "3          3  17623       2     169    82.0    150    100            1     1   \n",
       "4          4  17474       1     156    56.0    100     60            1     1   \n",
       "...      ...    ...     ...     ...     ...    ...    ...          ...   ...   \n",
       "69995  99993  19240       2     168    76.0    120     80            1     1   \n",
       "69996  99995  22601       1     158   126.0    140     90            2     2   \n",
       "69997  99996  19066       2     183   105.0    180     90            3     1   \n",
       "69998  99998  22431       1     163    72.0    135     80            1     2   \n",
       "69999  99999  20540       1     170    72.0    120     80            2     1   \n",
       "\n",
       "       smoke  alco  active  cardio  age_in_years        BMI  \\\n",
       "0          0     0       1       0     50.391781  21.967120   \n",
       "1          0     0       1       1     55.419178  34.927679   \n",
       "2          0     0       0       1     51.663014  23.507805   \n",
       "3          0     0       1       1     48.282192  28.710479   \n",
       "4          0     0       0       0     47.873973  23.011177   \n",
       "...      ...   ...     ...     ...           ...        ...   \n",
       "69995      1     0       1       0     52.712329  26.927438   \n",
       "69996      0     0       1       1     61.920548  50.472681   \n",
       "69997      0     1       0       1     52.235616  31.353579   \n",
       "69998      0     0       0       1     61.454795  27.099251   \n",
       "69999      0     0       1       0     56.273973  24.913495   \n",
       "\n",
       "                  blood_cat           BMI_cat  \n",
       "0      hypertension stage 1            normal  \n",
       "1      hypertension stage 2    obese(class I)  \n",
       "2      hypertension stage 1            normal  \n",
       "3      hypertension stage 2        overweight  \n",
       "4                   healthy            normal  \n",
       "...                     ...               ...  \n",
       "69995  hypertension stage 1        overweight  \n",
       "69996  hypertension stage 2  obese(class III)  \n",
       "69997  hypertension stage 2    obese(class I)  \n",
       "69998  hypertension stage 1        overweight  \n",
       "69999  hypertension stage 1            normal  \n",
       "\n",
       "[68307 rows x 17 columns]"
      ]
     },
     "execution_count": 43,
     "metadata": {},
     "output_type": "execute_result"
    }
   ],
   "source": [
    "df_reduced_2"
   ]
  },
  {
   "cell_type": "markdown",
   "metadata": {},
   "source": [
    "### 2.2.0 - Visualiseringar andel sjukdomar\n",
    "Skapa barplots med en feature mot andelen positiva för hjärt-kärlsjukdom. Exempelvis blodtryckskategorier\n",
    "mot andel positiva, BMI kategori mot andel positiva mm. Gör dessa plots i en figur med flera subplots."
   ]
  },
  {
   "cell_type": "code",
   "execution_count": 44,
   "metadata": {},
   "outputs": [
    {
     "data": {
      "image/png": "[encoded data removed]",
      "text/plain": [
       "<Figure size 1440x1920 with 8 Axes>"
      ]
     },
     "metadata": {
      "needs_background": "light"
     },
     "output_type": "display_data"
    }
   ],
   "source": [
    "features= [\"BMI_cat\", \"blood_cat\", \"gender\",  \"active\", \"cholesterol\", \"gluc\", \"smoke\", \"alco\"]\n",
    "\n",
    "fig, axes = plt.subplots(4, 2, figsize=(12, 16), dpi=120)\n",
    "count_n = 0\n",
    "\n",
    "\n",
    "for ax, feature in zip(axes.flatten(), features):\n",
    "    df_temp = cardioProp(df_reduced_2, feature)\n",
    "    if count_n <=1:\n",
    "        sns.barplot(data=df_temp, y=df_temp.index, x='cardio_%',  ax=ax)\n",
    "    else:\n",
    "        sns.barplot(data=df_temp, x=df_temp.index, y='cardio_%',  ax=ax)\n",
    "    ax.set(xlabel=feature)\n",
    "    ax.bar_label(ax.containers[0])\n",
    "    fig.tight_layout()\n",
    "    fig.suptitle(f\"Barplot of heart disease by different features\", y=1.03, fontweight=\"bold\");\n",
    "    count_n += 1"
   ]
  },
  {
   "cell_type": "markdown",
   "metadata": {},
   "source": [
    "### 2.2.1 - Visualiseringar korrelation\n",
    "\n",
    "Skapa en heatmap av korrelationer och se om du hittar features som är starkt korrelerade, dvs nära 1 eller\n",
    "features som är starkt negativt korrelerade, dvs nära -1. Kan du förklara varför de kan vara korrelerade?"
   ]
  },
  {
   "cell_type": "code",
   "execution_count": 45,
   "metadata": {},
   "outputs": [
    {
     "data": {
      "image/png": "[encoded data removed]",
      "text/plain": [
       "<Figure size 720x480 with 2 Axes>"
      ]
     },
     "metadata": {
      "needs_background": "light"
     },
     "output_type": "display_data"
    }
   ],
   "source": [
    "features= [\"weight\", \"height\", \"age_in_years\", \"BMI\", \"ap_hi\", \"ap_lo\"]\n",
    "features_names= [\"weight\", \"height\", \"age\", \"BMI\", \"Systolic\", \"Diastolic\"]\n",
    "\n",
    "\n",
    "fig, ax = plt.subplots(dpi=120)\n",
    "sns.heatmap(df_reduced_2[features].corr(), \n",
    "                cmap=\"flare\", \n",
    "                annot=True, \n",
    "                xticklabels=features_names, \n",
    "                yticklabels=features_names\n",
    "                )\n",
    "\n",
    "ax.set_title(\"Correlations between the features and heart disease\");"
   ]
  },
  {
   "cell_type": "markdown",
   "metadata": {},
   "source": [
    "**Findings**:\n",
    "1. The linear correlation between BMI and weight is 0.79. The correaltion between BMI and height is -0.28. \n",
    "This finding can be explained by the definition of BMI: BMI=weight/height.\n",
    "The definition indicates that BMI is higher in case weight is heavior(positive correlation), given same height. On the other hand, the BMI is lower in case height is taller(negative correlation), given same weight value.\n",
    "\n",
    "2. The correlation between weight and height is 0.29, which indicates a slight positive correlation. It is reasonale because generally the taller person has larger weight.\n",
    "\n",
    "3. The ap_hi and ap_lo has a slight positive correlation between weight, 0.27 and 0.25. It is reasonable that heavier person generally have more heart disease. \n",
    "On the contrary, the ap_hi and ap_lo has alsmot no relationship between height, which is also promising. The height is neutral to heart disease. For every person, no matter tall or short, we should work on keeping our weight in the healthy range to prevent heart disease.\n",
    "\n",
    "4. I find a slight positive correlation between ap_hi and BMI, and so do ap_lo and BMI. This is because these features have a common effect from weight. Higher weight is positively correlated with both heart disease and BMI. \n",
    "\n"
   ]
  },
  {
   "cell_type": "markdown",
   "metadata": {},
   "source": [
    "---\n",
    "### 2.3 - Skapa två dataset\n",
    "\n",
    "Skapa en kopia av ditt dataframe. På ena dataframet:\n",
    "- ta bort följande features: ap_hi, ap_lo, height, weight, BMI\n",
    "- gör one-hot encoding på BMI-kategori, blodtryckskategori, kön\n",
    "\n",
    "På andra dataframet:\n",
    "- ta bort följande features: BMI-kategori, blodtryckskategori, height, weight\n",
    "- gör one-hot encoding på kön"
   ]
  },
  {
   "cell_type": "code",
   "execution_count": 46,
   "metadata": {},
   "outputs": [
    {
     "data": {
      "text/html": [
       "<div>\n",
       "<style scoped>\n",
       "    .dataframe tbody tr th:only-of-type {\n",
       "        vertical-align: middle;\n",
       "    }\n",
       "\n",
       "    .dataframe tbody tr th {\n",
       "        vertical-align: top;\n",
       "    }\n",
       "\n",
       "    .dataframe thead th {\n",
       "        text-align: right;\n",
       "    }\n",
       "</style>\n",
       "<table border=\"1\" class=\"dataframe\">\n",
       "  <thead>\n",
       "    <tr style=\"text-align: right;\">\n",
       "      <th></th>\n",
       "      <th>id</th>\n",
       "      <th>age</th>\n",
       "      <th>cholesterol</th>\n",
       "      <th>gluc</th>\n",
       "      <th>smoke</th>\n",
       "      <th>alco</th>\n",
       "      <th>active</th>\n",
       "      <th>cardio</th>\n",
       "      <th>age_in_years</th>\n",
       "      <th>BMI</th>\n",
       "      <th>gender_2</th>\n",
       "      <th>BMI__obese(class I)</th>\n",
       "      <th>BMI__obese(class II)</th>\n",
       "      <th>BMI__obese(class III)</th>\n",
       "      <th>BMI__overweight</th>\n",
       "      <th>BMI__underweight</th>\n",
       "      <th>blood__healthy</th>\n",
       "      <th>blood__hypertension crisis</th>\n",
       "      <th>blood__hypertension stage 1</th>\n",
       "      <th>blood__hypertension stage 2</th>\n",
       "    </tr>\n",
       "  </thead>\n",
       "  <tbody>\n",
       "    <tr>\n",
       "      <th>0</th>\n",
       "      <td>0</td>\n",
       "      <td>18393</td>\n",
       "      <td>1</td>\n",
       "      <td>1</td>\n",
       "      <td>0</td>\n",
       "      <td>0</td>\n",
       "      <td>1</td>\n",
       "      <td>0</td>\n",
       "      <td>50.391781</td>\n",
       "      <td>21.967120</td>\n",
       "      <td>1</td>\n",
       "      <td>0</td>\n",
       "      <td>0</td>\n",
       "      <td>0</td>\n",
       "      <td>0</td>\n",
       "      <td>0</td>\n",
       "      <td>0</td>\n",
       "      <td>0</td>\n",
       "      <td>1</td>\n",
       "      <td>0</td>\n",
       "    </tr>\n",
       "    <tr>\n",
       "      <th>1</th>\n",
       "      <td>1</td>\n",
       "      <td>20228</td>\n",
       "      <td>3</td>\n",
       "      <td>1</td>\n",
       "      <td>0</td>\n",
       "      <td>0</td>\n",
       "      <td>1</td>\n",
       "      <td>1</td>\n",
       "      <td>55.419178</td>\n",
       "      <td>34.927679</td>\n",
       "      <td>0</td>\n",
       "      <td>1</td>\n",
       "      <td>0</td>\n",
       "      <td>0</td>\n",
       "      <td>0</td>\n",
       "      <td>0</td>\n",
       "      <td>0</td>\n",
       "      <td>0</td>\n",
       "      <td>0</td>\n",
       "      <td>1</td>\n",
       "    </tr>\n",
       "    <tr>\n",
       "      <th>2</th>\n",
       "      <td>2</td>\n",
       "      <td>18857</td>\n",
       "      <td>3</td>\n",
       "      <td>1</td>\n",
       "      <td>0</td>\n",
       "      <td>0</td>\n",
       "      <td>0</td>\n",
       "      <td>1</td>\n",
       "      <td>51.663014</td>\n",
       "      <td>23.507805</td>\n",
       "      <td>0</td>\n",
       "      <td>0</td>\n",
       "      <td>0</td>\n",
       "      <td>0</td>\n",
       "      <td>0</td>\n",
       "      <td>0</td>\n",
       "      <td>0</td>\n",
       "      <td>0</td>\n",
       "      <td>1</td>\n",
       "      <td>0</td>\n",
       "    </tr>\n",
       "    <tr>\n",
       "      <th>3</th>\n",
       "      <td>3</td>\n",
       "      <td>17623</td>\n",
       "      <td>1</td>\n",
       "      <td>1</td>\n",
       "      <td>0</td>\n",
       "      <td>0</td>\n",
       "      <td>1</td>\n",
       "      <td>1</td>\n",
       "      <td>48.282192</td>\n",
       "      <td>28.710479</td>\n",
       "      <td>1</td>\n",
       "      <td>0</td>\n",
       "      <td>0</td>\n",
       "      <td>0</td>\n",
       "      <td>1</td>\n",
       "      <td>0</td>\n",
       "      <td>0</td>\n",
       "      <td>0</td>\n",
       "      <td>0</td>\n",
       "      <td>1</td>\n",
       "    </tr>\n",
       "    <tr>\n",
       "      <th>4</th>\n",
       "      <td>4</td>\n",
       "      <td>17474</td>\n",
       "      <td>1</td>\n",
       "      <td>1</td>\n",
       "      <td>0</td>\n",
       "      <td>0</td>\n",
       "      <td>0</td>\n",
       "      <td>0</td>\n",
       "      <td>47.873973</td>\n",
       "      <td>23.011177</td>\n",
       "      <td>0</td>\n",
       "      <td>0</td>\n",
       "      <td>0</td>\n",
       "      <td>0</td>\n",
       "      <td>0</td>\n",
       "      <td>0</td>\n",
       "      <td>1</td>\n",
       "      <td>0</td>\n",
       "      <td>0</td>\n",
       "      <td>0</td>\n",
       "    </tr>\n",
       "  </tbody>\n",
       "</table>\n",
       "</div>"
      ],
      "text/plain": [
       "   id    age  cholesterol  gluc  smoke  alco  active  cardio  age_in_years  \\\n",
       "0   0  18393            1     1      0     0       1       0     50.391781   \n",
       "1   1  20228            3     1      0     0       1       1     55.419178   \n",
       "2   2  18857            3     1      0     0       0       1     51.663014   \n",
       "3   3  17623            1     1      0     0       1       1     48.282192   \n",
       "4   4  17474            1     1      0     0       0       0     47.873973   \n",
       "\n",
       "         BMI  gender_2  BMI__obese(class I)  BMI__obese(class II)  \\\n",
       "0  21.967120         1                    0                     0   \n",
       "1  34.927679         0                    1                     0   \n",
       "2  23.507805         0                    0                     0   \n",
       "3  28.710479         1                    0                     0   \n",
       "4  23.011177         0                    0                     0   \n",
       "\n",
       "   BMI__obese(class III)  BMI__overweight  BMI__underweight  blood__healthy  \\\n",
       "0                      0                0                 0               0   \n",
       "1                      0                0                 0               0   \n",
       "2                      0                0                 0               0   \n",
       "3                      0                1                 0               0   \n",
       "4                      0                0                 0               1   \n",
       "\n",
       "   blood__hypertension crisis  blood__hypertension stage 1  \\\n",
       "0                           0                            1   \n",
       "1                           0                            0   \n",
       "2                           0                            1   \n",
       "3                           0                            0   \n",
       "4                           0                            0   \n",
       "\n",
       "   blood__hypertension stage 2  \n",
       "0                            0  \n",
       "1                            1  \n",
       "2                            0  \n",
       "3                            1  \n",
       "4                            0  "
      ]
     },
     "execution_count": 46,
     "metadata": {},
     "output_type": "execute_result"
    }
   ],
   "source": [
    "df_categorical_1 = pd.get_dummies(df_reduced_2, columns = [\"gender\", \"BMI_cat\", \"blood_cat\"], prefix=[\"gender\", \"BMI_\", \"blood_\"], prefix_sep=\"_\", drop_first=True)\n",
    "df_categorical_1 = df_categorical_1.drop([\"height\", \"weight\", \"ap_hi\", \"ap_lo\"], axis=1)\n",
    "df_categorical_1.head()"
   ]
  },
  {
   "cell_type": "code",
   "execution_count": 47,
   "metadata": {},
   "outputs": [
    {
     "data": {
      "text/html": [
       "<div>\n",
       "<style scoped>\n",
       "    .dataframe tbody tr th:only-of-type {\n",
       "        vertical-align: middle;\n",
       "    }\n",
       "\n",
       "    .dataframe tbody tr th {\n",
       "        vertical-align: top;\n",
       "    }\n",
       "\n",
       "    .dataframe thead th {\n",
       "        text-align: right;\n",
       "    }\n",
       "</style>\n",
       "<table border=\"1\" class=\"dataframe\">\n",
       "  <thead>\n",
       "    <tr style=\"text-align: right;\">\n",
       "      <th></th>\n",
       "      <th>id</th>\n",
       "      <th>age</th>\n",
       "      <th>ap_hi</th>\n",
       "      <th>ap_lo</th>\n",
       "      <th>cholesterol</th>\n",
       "      <th>gluc</th>\n",
       "      <th>smoke</th>\n",
       "      <th>alco</th>\n",
       "      <th>active</th>\n",
       "      <th>cardio</th>\n",
       "      <th>age_in_years</th>\n",
       "      <th>BMI</th>\n",
       "      <th>gender_dum_2</th>\n",
       "    </tr>\n",
       "  </thead>\n",
       "  <tbody>\n",
       "    <tr>\n",
       "      <th>0</th>\n",
       "      <td>0</td>\n",
       "      <td>18393</td>\n",
       "      <td>110</td>\n",
       "      <td>80</td>\n",
       "      <td>1</td>\n",
       "      <td>1</td>\n",
       "      <td>0</td>\n",
       "      <td>0</td>\n",
       "      <td>1</td>\n",
       "      <td>0</td>\n",
       "      <td>50.391781</td>\n",
       "      <td>21.967120</td>\n",
       "      <td>1</td>\n",
       "    </tr>\n",
       "    <tr>\n",
       "      <th>1</th>\n",
       "      <td>1</td>\n",
       "      <td>20228</td>\n",
       "      <td>140</td>\n",
       "      <td>90</td>\n",
       "      <td>3</td>\n",
       "      <td>1</td>\n",
       "      <td>0</td>\n",
       "      <td>0</td>\n",
       "      <td>1</td>\n",
       "      <td>1</td>\n",
       "      <td>55.419178</td>\n",
       "      <td>34.927679</td>\n",
       "      <td>0</td>\n",
       "    </tr>\n",
       "    <tr>\n",
       "      <th>2</th>\n",
       "      <td>2</td>\n",
       "      <td>18857</td>\n",
       "      <td>130</td>\n",
       "      <td>70</td>\n",
       "      <td>3</td>\n",
       "      <td>1</td>\n",
       "      <td>0</td>\n",
       "      <td>0</td>\n",
       "      <td>0</td>\n",
       "      <td>1</td>\n",
       "      <td>51.663014</td>\n",
       "      <td>23.507805</td>\n",
       "      <td>0</td>\n",
       "    </tr>\n",
       "    <tr>\n",
       "      <th>3</th>\n",
       "      <td>3</td>\n",
       "      <td>17623</td>\n",
       "      <td>150</td>\n",
       "      <td>100</td>\n",
       "      <td>1</td>\n",
       "      <td>1</td>\n",
       "      <td>0</td>\n",
       "      <td>0</td>\n",
       "      <td>1</td>\n",
       "      <td>1</td>\n",
       "      <td>48.282192</td>\n",
       "      <td>28.710479</td>\n",
       "      <td>1</td>\n",
       "    </tr>\n",
       "    <tr>\n",
       "      <th>4</th>\n",
       "      <td>4</td>\n",
       "      <td>17474</td>\n",
       "      <td>100</td>\n",
       "      <td>60</td>\n",
       "      <td>1</td>\n",
       "      <td>1</td>\n",
       "      <td>0</td>\n",
       "      <td>0</td>\n",
       "      <td>0</td>\n",
       "      <td>0</td>\n",
       "      <td>47.873973</td>\n",
       "      <td>23.011177</td>\n",
       "      <td>0</td>\n",
       "    </tr>\n",
       "  </tbody>\n",
       "</table>\n",
       "</div>"
      ],
      "text/plain": [
       "   id    age  ap_hi  ap_lo  cholesterol  gluc  smoke  alco  active  cardio  \\\n",
       "0   0  18393    110     80            1     1      0     0       1       0   \n",
       "1   1  20228    140     90            3     1      0     0       1       1   \n",
       "2   2  18857    130     70            3     1      0     0       0       1   \n",
       "3   3  17623    150    100            1     1      0     0       1       1   \n",
       "4   4  17474    100     60            1     1      0     0       0       0   \n",
       "\n",
       "   age_in_years        BMI  gender_dum_2  \n",
       "0     50.391781  21.967120             1  \n",
       "1     55.419178  34.927679             0  \n",
       "2     51.663014  23.507805             0  \n",
       "3     48.282192  28.710479             1  \n",
       "4     47.873973  23.011177             0  "
      ]
     },
     "execution_count": 47,
     "metadata": {},
     "output_type": "execute_result"
    }
   ],
   "source": [
    "df_categorical_2 = pd.get_dummies(df_reduced_2, columns = [\"gender\"], prefix='gender_dum', drop_first=True)\n",
    "df_categorical_2 = df_categorical_2.drop([\"BMI_cat\", \"blood_cat\", \"weight\", \"height\"], axis=1)\n",
    "df_categorical_2.head()"
   ]
  },
  {
   "cell_type": "markdown",
   "metadata": {},
   "source": [
    "---\n",
    "### 2.4 - Välja modell\n",
    "\n",
    "Välj 3-5 maskininlärningsmodeller, gärna så olika som möjligt. För varje dataset som vi skapade i uppgift 2.3\n",
    "gör följande:\n",
    "- train|validation|test split\n",
    "- skala datasetet med feature standardization och normalization\n",
    "- definiera hyperparametrar (param_grids) att testa för varje modell\n",
    "- använd GridSearchCV() och välja lämplig evalueringsmetric\n",
    "- gör prediction på valideringsdata\n",
    "- beräkna och spara evaluation score för ditt valda metric\n",
    "- checka bästa parametrarna för respektive modell\n",
    "\n",
    "Vilket dataset väljer du och vilken modell väljer du? Använd den modellen du valt och träna på hela\n",
    "träningsdatan."
   ]
  },
  {
   "cell_type": "markdown",
   "metadata": {},
   "source": [
    "**Answers**:\n",
    "\n",
    "Cardio: 1 means positive/yes with disease, and 0 means negative/no disease. I want to minimize the false negative, which means that a patient whose true label is positive with disease but given a test result as negative. Then the patient lose the chance to get medicine and operation.\n",
    "In this sense, recall should be a good evaluation metrics: recall=TP/(TP+FN)\n",
    "\n",
    "A lower FN level tells from a higher recall level of cardio label 1. I thereafter use this critirion to choose models and datasets."
   ]
  },
  {
   "cell_type": "markdown",
   "metadata": {},
   "source": [
    "1. Logistic regression\n",
    "2. k nearest neighbours, KNN\n",
    "3. Random Forest"
   ]
  },
  {
   "cell_type": "markdown",
   "metadata": {},
   "source": [
    "Pipeline:"
   ]
  },
  {
   "cell_type": "markdown",
   "metadata": {},
   "source": [
    "Pipelines:\n",
    "- with feature standardizatio(StandardScaler) and normalization(MinMaxScaler)\n",
    "- define hyperparameters with param_grids to test for different models\n",
    "- use scoring=\"recall\" in GridSearchCV() \n",
    "\n",
    "\n",
    "In our lab1:\n",
    "\n",
    "- 1. train|validation|test split. without 100 patients random.\n",
    "- 2. Use GridSearch() to choose the best hyperparameters. Here only train data used, no validation data. Get best hyperparameters for each type of models.\n",
    "- 3. use models to predict validation data, in oder to compare different models. get the best dataset and best model.\n",
    "- 4. In the ensemble step, I train with the most training samples that I have: train+validation data, in order to make maximal use of the available information. Then I test Votingclassifier() with test data because these models did not see our test data before. So there is no data leakage problem.\n",
    "\n",
    "- 5. In the deploy step, train på alla data train validation test data without 100 patients: to get the final model. save 100 patients data as new patients and use as test data. 100 patients no labels\n",
    "no evaluation metrics.  \n",
    "\n"
   ]
  },
  {
   "cell_type": "code",
   "execution_count": 48,
   "metadata": {},
   "outputs": [],
   "source": [
    "from sklearn.model_selection import GridSearchCV, train_test_split\n",
    "from sklearn.pipeline import Pipeline\n",
    "from sklearn.preprocessing import StandardScaler, MinMaxScaler\n",
    "from sklearn.neighbors import KNeighborsClassifier\n",
    "from sklearn.linear_model import LogisticRegression\n",
    "from sklearn.metrics import classification_report, ConfusionMatrixDisplay, confusion_matrix"
   ]
  },
  {
   "cell_type": "code",
   "execution_count": 49,
   "metadata": {},
   "outputs": [],
   "source": [
    "def train_val_test_split_100(df, response_variable):\n",
    "    \"\"\" use train_test_split twice to obtain train|val|test split \"\"\"\n",
    "    # split 100 samples\n",
    "    df_100 = df.sample(n=100, random_state=42, replace=False)\n",
    "    df_remain = df.drop(df_100.index)\n",
    "    #X_100, y_100 = df_100.drop(response_variable, axis=1), df_100[response_variable] \n",
    "\n",
    "    # the rest of the data is the train_validation_test_split\n",
    "    X, y = df_remain.drop(response_variable, axis=1), df_remain[response_variable] \n",
    "    X_train, X_test, y_train, y_test = train_test_split(X, y, test_size=0.33, random_state=42)\n",
    "    X_val, X_test, y_val, y_test = train_test_split(X_test, y_test, test_size=0.5, random_state=42)\n",
    "        \n",
    "    return X_train, X_val, X_test, y_train, y_val, y_test, df_100, df_remain "
   ]
  },
  {
   "cell_type": "code",
   "execution_count": 50,
   "metadata": {},
   "outputs": [],
   "source": [
    "X_train_cat1, X_val_cat1, X_test_cat1, y_train_cat1, y_val_cat1, y_test_cat1, df_100_cat1, df_remain_cat1  = train_val_test_split_100(df_categorical_1, \"cardio\")\n",
    "X_train_cat2, X_val_cat2, X_test_cat2, y_train_cat2, y_val_cat2, y_test_cat2, df_100_cat2, df_remain_cat2  = train_val_test_split_100(df_categorical_2, \"cardio\")\n"
   ]
  },
  {
   "cell_type": "markdown",
   "metadata": {},
   "source": [
    "Use GridSearch() to choose the best hyperparameters. Here only train data used, no validation data. Get best hyperparameters for each type of models."
   ]
  },
  {
   "cell_type": "code",
   "execution_count": 51,
   "metadata": {},
   "outputs": [],
   "source": [
    "# pipeline with StandardScaler and KNN\n",
    "pipe_KNN_standard = Pipeline([(\"scaler\", StandardScaler()), (\"knn\", KNeighborsClassifier())])\n",
    "\n",
    "# pipeline with Normal Scaler and KNN\n",
    "pipe_KNN_normal = Pipeline([(\"scaler\", MinMaxScaler()), (\"knn\", KNeighborsClassifier())])\n",
    "\n",
    "# pipeline with StandardScaler and LogisticRegression\n",
    "pipe_log_reg_standard = Pipeline([(\"scaler\", StandardScaler()), (\"log\", LogisticRegression(\n",
    "    solver=\"saga\", multi_class = \"ovr\", max_iter=100, penalty=\"elasticnet\"))])\n",
    "\n",
    "# pipeline with StandardScaler and LogisticRegression\n",
    "pipe_log_reg_normal = Pipeline([(\"scaler\", MinMaxScaler()), (\"log\", LogisticRegression(\n",
    "    solver=\"saga\", multi_class = \"ovr\", max_iter=100, penalty=\"elasticnet\"))])\n",
    "\n",
    "param_grid_KNN = {\"knn__n_neighbors\": list(range(1, 20))}\n",
    "\n",
    "l1_ratio = np.linspace(0, 1, 20)\n",
    "param_grid_log_reg = {\"log__l1_ratio\": l1_ratio}\n",
    "\n",
    "\n",
    "classifier_KNN_standard = GridSearchCV(\n",
    "    estimator=pipe_KNN_standard, param_grid=param_grid_KNN, cv=5, scoring=\"recall\")\n",
    "\n",
    "classifier_KNN_normal = GridSearchCV(\n",
    "    estimator=pipe_KNN_normal, param_grid=param_grid_KNN, cv=5, scoring=\"recall\")\n",
    "\n",
    "\n",
    "classifier_log_reg_standard = GridSearchCV(\n",
    "    estimator=pipe_log_reg_standard, param_grid=param_grid_log_reg, cv=5, scoring=\"recall\")\n",
    "\n",
    "classifier_log_reg_normal = GridSearchCV(\n",
    "    estimator=pipe_log_reg_normal, param_grid=param_grid_log_reg, cv=5, scoring=\"recall\")"
   ]
  },
  {
   "cell_type": "code",
   "execution_count": 74,
   "metadata": {},
   "outputs": [],
   "source": [
    "# Random forest\n",
    "from sklearn.ensemble import RandomForestClassifier\n",
    "\n",
    "# pipeline with StandardScaler and random_forest\n",
    "pipe_rfc_standard = Pipeline([(\"scaler\", StandardScaler()), (\"random_forest\", RandomForestClassifier())])\n",
    "\n",
    "# pipeline with Normal Scaler and random_forest\n",
    "pipe_rfc_normal = Pipeline([(\"scaler\", MinMaxScaler()), (\"random_forest\", RandomForestClassifier())])\n",
    "\n",
    "\n",
    "param_grid_rfc = {\"random_forest__n_estimators\": [100, 150,300], \"random_forest__criterion\": [\"gini\", \"entropy\"], \"random_forest__max_features\": [\"auto\",\"sqrt\", \"log2\"]}\n",
    "\n",
    "classifier_rfc_standard = GridSearchCV(estimator=pipe_rfc_standard, param_grid=param_grid_rfc, cv=5, verbose=1, scoring=\"recall\")\n",
    "\n",
    "classifier_rfc_normal = GridSearchCV(estimator=pipe_rfc_normal, param_grid=param_grid_rfc, cv=5, verbose=1, scoring=\"recall\")"
   ]
  },
  {
   "cell_type": "markdown",
   "metadata": {},
   "source": [
    "use models to predict validation data, in oder to compare different models. "
   ]
  },
  {
   "cell_type": "code",
   "execution_count": 53,
   "metadata": {},
   "outputs": [],
   "source": [
    "def getEvaMetrics(df_metrics, dataset, model, df_val_X, df_val_y):\n",
    "\n",
    "    y_pred = model.predict(df_val_X)\n",
    "    \n",
    "    print(classification_report(df_val_y, y_pred))\n",
    "\n",
    "    cm = confusion_matrix(df_val_y, y_pred)\n",
    "    ConfusionMatrixDisplay(cm).plot()\n",
    "\n",
    "    #get tp, tp_and_fn and tp_and_fp w.r.t all classes\n",
    "    tn, fp, fn, tp = cm.ravel()\n",
    "    # https://scikit-learn.org/stable/modules/generated/sklearn.metrics.confusion_matrix.html?msclkid=e1fb3d73abb311eca626f27972c45ef5\n",
    "\n",
    "    precision = tp / (tp+fp)\n",
    "    recall = tp / (tp+fn)\n",
    "\n",
    "    #add new row to end of metrics DataFrame\n",
    "    df_metrics.loc[len(df_metrics.index)] = [dataset, model, recall, precision]\n",
    "    return df_metrics"
   ]
  },
  {
   "cell_type": "code",
   "execution_count": 54,
   "metadata": {},
   "outputs": [],
   "source": [
    "# create a empty metrics dataframe\n",
    "df_metrics = pd.DataFrame(columns=['dataset','model','recall','precision'])"
   ]
  },
  {
   "cell_type": "code",
   "execution_count": 55,
   "metadata": {},
   "outputs": [
    {
     "name": "stdout",
     "output_type": "stream",
     "text": [
      "{'memory': None, 'steps': [('scaler', StandardScaler()), ('knn', KNeighborsClassifier(n_neighbors=13))], 'verbose': False, 'scaler': StandardScaler(), 'knn': KNeighborsClassifier(n_neighbors=13), 'scaler__copy': True, 'scaler__with_mean': True, 'scaler__with_std': True, 'knn__algorithm': 'auto', 'knn__leaf_size': 30, 'knn__metric': 'minkowski', 'knn__metric_params': None, 'knn__n_jobs': None, 'knn__n_neighbors': 13, 'knn__p': 2, 'knn__weights': 'uniform'}\n"
     ]
    }
   ],
   "source": [
    "# KNN and StandardScaler for X_train_cat1\n",
    "classifier_KNN_standard.fit(X_train_cat1, y_train_cat1)\n",
    "print(classifier_KNN_standard.best_estimator_.get_params())"
   ]
  },
  {
   "cell_type": "code",
   "execution_count": 56,
   "metadata": {},
   "outputs": [
    {
     "name": "stdout",
     "output_type": "stream",
     "text": [
      "              precision    recall  f1-score   support\n",
      "\n",
      "           0       0.70      0.72      0.71      5671\n",
      "           1       0.71      0.69      0.70      5583\n",
      "\n",
      "    accuracy                           0.71     11254\n",
      "   macro avg       0.71      0.71      0.71     11254\n",
      "weighted avg       0.71      0.71      0.71     11254\n",
      "\n"
     ]
    },
    {
     "data": {
      "image/png": "[encoded data removed]",
      "text/plain": [
       "<Figure size 432x288 with 2 Axes>"
      ]
     },
     "metadata": {
      "needs_background": "light"
     },
     "output_type": "display_data"
    }
   ],
   "source": [
    "# KNN and StandardScaler for X_train_cat1\n",
    "df_metrics = getEvaMetrics(df_metrics, 'df_categorical_1', classifier_KNN_standard, X_val_cat1, y_val_cat1)\n"
   ]
  },
  {
   "cell_type": "code",
   "execution_count": 57,
   "metadata": {},
   "outputs": [
    {
     "name": "stdout",
     "output_type": "stream",
     "text": [
      "{'memory': None, 'steps': [('scaler', StandardScaler()), ('knn', KNeighborsClassifier(n_neighbors=15))], 'verbose': False, 'scaler': StandardScaler(), 'knn': KNeighborsClassifier(n_neighbors=15), 'scaler__copy': True, 'scaler__with_mean': True, 'scaler__with_std': True, 'knn__algorithm': 'auto', 'knn__leaf_size': 30, 'knn__metric': 'minkowski', 'knn__metric_params': None, 'knn__n_jobs': None, 'knn__n_neighbors': 15, 'knn__p': 2, 'knn__weights': 'uniform'}\n"
     ]
    }
   ],
   "source": [
    "# KNN and StandardScaler for X_train_cat2\n",
    "classifier_KNN_standard.fit(X_train_cat2, y_train_cat2)\n",
    "print(classifier_KNN_standard.best_estimator_.get_params())\n"
   ]
  },
  {
   "cell_type": "code",
   "execution_count": 58,
   "metadata": {},
   "outputs": [
    {
     "name": "stdout",
     "output_type": "stream",
     "text": [
      "              precision    recall  f1-score   support\n",
      "\n",
      "           0       0.70      0.75      0.72      5671\n",
      "           1       0.72      0.68      0.70      5583\n",
      "\n",
      "    accuracy                           0.71     11254\n",
      "   macro avg       0.71      0.71      0.71     11254\n",
      "weighted avg       0.71      0.71      0.71     11254\n",
      "\n"
     ]
    },
    {
     "data": {
      "image/png": "[encoded data removed]",
      "text/plain": [
       "<Figure size 432x288 with 2 Axes>"
      ]
     },
     "metadata": {
      "needs_background": "light"
     },
     "output_type": "display_data"
    }
   ],
   "source": [
    "df_metrics = getEvaMetrics(df_metrics, 'df_categorical_2', classifier_KNN_standard, X_val_cat2, y_val_cat2)\n"
   ]
  },
  {
   "cell_type": "code",
   "execution_count": 59,
   "metadata": {},
   "outputs": [
    {
     "name": "stdout",
     "output_type": "stream",
     "text": [
      "{'memory': None, 'steps': [('scaler', MinMaxScaler()), ('knn', KNeighborsClassifier(n_neighbors=13))], 'verbose': False, 'scaler': MinMaxScaler(), 'knn': KNeighborsClassifier(n_neighbors=13), 'scaler__clip': False, 'scaler__copy': True, 'scaler__feature_range': (0, 1), 'knn__algorithm': 'auto', 'knn__leaf_size': 30, 'knn__metric': 'minkowski', 'knn__metric_params': None, 'knn__n_jobs': None, 'knn__n_neighbors': 13, 'knn__p': 2, 'knn__weights': 'uniform'}\n"
     ]
    }
   ],
   "source": [
    "# KNN and MinMaxScaler for X_train_cat1\n",
    "classifier_KNN_normal.fit(X_train_cat1, y_train_cat1)\n",
    "print(classifier_KNN_normal.best_estimator_.get_params())\n"
   ]
  },
  {
   "cell_type": "code",
   "execution_count": 60,
   "metadata": {},
   "outputs": [
    {
     "name": "stdout",
     "output_type": "stream",
     "text": [
      "              precision    recall  f1-score   support\n",
      "\n",
      "           0       0.70      0.72      0.71      5671\n",
      "           1       0.71      0.68      0.70      5583\n",
      "\n",
      "    accuracy                           0.70     11254\n",
      "   macro avg       0.70      0.70      0.70     11254\n",
      "weighted avg       0.70      0.70      0.70     11254\n",
      "\n"
     ]
    },
    {
     "data": {
      "image/png": "[encoded data removed]",
      "text/plain": [
       "<Figure size 432x288 with 2 Axes>"
      ]
     },
     "metadata": {
      "needs_background": "light"
     },
     "output_type": "display_data"
    }
   ],
   "source": [
    "df_metrics = getEvaMetrics(df_metrics, 'df_categorical_1', classifier_KNN_normal, X_val_cat1, y_val_cat1)"
   ]
  },
  {
   "cell_type": "code",
   "execution_count": 61,
   "metadata": {},
   "outputs": [
    {
     "name": "stdout",
     "output_type": "stream",
     "text": [
      "{'memory': None, 'steps': [('scaler', MinMaxScaler()), ('knn', KNeighborsClassifier(n_neighbors=17))], 'verbose': False, 'scaler': MinMaxScaler(), 'knn': KNeighborsClassifier(n_neighbors=17), 'scaler__clip': False, 'scaler__copy': True, 'scaler__feature_range': (0, 1), 'knn__algorithm': 'auto', 'knn__leaf_size': 30, 'knn__metric': 'minkowski', 'knn__metric_params': None, 'knn__n_jobs': None, 'knn__n_neighbors': 17, 'knn__p': 2, 'knn__weights': 'uniform'}\n"
     ]
    }
   ],
   "source": [
    "# KNN and MinMaxScaler for X_train_cat2\n",
    "classifier_KNN_normal.fit(X_train_cat2, y_train_cat2)\n",
    "print(classifier_KNN_normal.best_estimator_.get_params())"
   ]
  },
  {
   "cell_type": "code",
   "execution_count": 62,
   "metadata": {},
   "outputs": [
    {
     "name": "stdout",
     "output_type": "stream",
     "text": [
      "              precision    recall  f1-score   support\n",
      "\n",
      "           0       0.70      0.75      0.72      5671\n",
      "           1       0.72      0.68      0.70      5583\n",
      "\n",
      "    accuracy                           0.71     11254\n",
      "   macro avg       0.71      0.71      0.71     11254\n",
      "weighted avg       0.71      0.71      0.71     11254\n",
      "\n"
     ]
    },
    {
     "data": {
      "image/png": "[encoded data removed]",
      "text/plain": [
       "<Figure size 432x288 with 2 Axes>"
      ]
     },
     "metadata": {
      "needs_background": "light"
     },
     "output_type": "display_data"
    }
   ],
   "source": [
    "df_metrics = getEvaMetrics(df_metrics, 'df_categorical_2', classifier_KNN_normal, X_val_cat2, y_val_cat2)"
   ]
  },
  {
   "cell_type": "code",
   "execution_count": 63,
   "metadata": {},
   "outputs": [
    {
     "name": "stdout",
     "output_type": "stream",
     "text": [
      "{'memory': None, 'steps': [('scaler', StandardScaler()), ('log', LogisticRegression(l1_ratio=0.0, multi_class='ovr', penalty='elasticnet',\n",
      "                   solver='saga'))], 'verbose': False, 'scaler': StandardScaler(), 'log': LogisticRegression(l1_ratio=0.0, multi_class='ovr', penalty='elasticnet',\n",
      "                   solver='saga'), 'scaler__copy': True, 'scaler__with_mean': True, 'scaler__with_std': True, 'log__C': 1.0, 'log__class_weight': None, 'log__dual': False, 'log__fit_intercept': True, 'log__intercept_scaling': 1, 'log__l1_ratio': 0.0, 'log__max_iter': 100, 'log__multi_class': 'ovr', 'log__n_jobs': None, 'log__penalty': 'elasticnet', 'log__random_state': None, 'log__solver': 'saga', 'log__tol': 0.0001, 'log__verbose': 0, 'log__warm_start': False}\n"
     ]
    }
   ],
   "source": [
    "# Logistic regression and StandardScaler for X_train_cat1\n",
    "classifier_log_reg_standard.fit(X_train_cat1, y_train_cat1)\n",
    "print(classifier_log_reg_standard.best_estimator_.get_params())\n"
   ]
  },
  {
   "cell_type": "code",
   "execution_count": 64,
   "metadata": {},
   "outputs": [
    {
     "name": "stdout",
     "output_type": "stream",
     "text": [
      "              precision    recall  f1-score   support\n",
      "\n",
      "           0       0.69      0.78      0.74      5671\n",
      "           1       0.75      0.65      0.70      5583\n",
      "\n",
      "    accuracy                           0.72     11254\n",
      "   macro avg       0.72      0.72      0.72     11254\n",
      "weighted avg       0.72      0.72      0.72     11254\n",
      "\n"
     ]
    },
    {
     "data": {
      "image/png": "[encoded data removed]",
      "text/plain": [
       "<Figure size 432x288 with 2 Axes>"
      ]
     },
     "metadata": {
      "needs_background": "light"
     },
     "output_type": "display_data"
    }
   ],
   "source": [
    "df_metrics = getEvaMetrics(df_metrics, 'df_categorical_1', classifier_log_reg_standard, X_val_cat1, y_val_cat1)"
   ]
  },
  {
   "cell_type": "code",
   "execution_count": 65,
   "metadata": {},
   "outputs": [
    {
     "name": "stdout",
     "output_type": "stream",
     "text": [
      "{'memory': None, 'steps': [('scaler', StandardScaler()), ('log', LogisticRegression(l1_ratio=0.7368421052631579, multi_class='ovr',\n",
      "                   penalty='elasticnet', solver='saga'))], 'verbose': False, 'scaler': StandardScaler(), 'log': LogisticRegression(l1_ratio=0.7368421052631579, multi_class='ovr',\n",
      "                   penalty='elasticnet', solver='saga'), 'scaler__copy': True, 'scaler__with_mean': True, 'scaler__with_std': True, 'log__C': 1.0, 'log__class_weight': None, 'log__dual': False, 'log__fit_intercept': True, 'log__intercept_scaling': 1, 'log__l1_ratio': 0.7368421052631579, 'log__max_iter': 100, 'log__multi_class': 'ovr', 'log__n_jobs': None, 'log__penalty': 'elasticnet', 'log__random_state': None, 'log__solver': 'saga', 'log__tol': 0.0001, 'log__verbose': 0, 'log__warm_start': False}\n"
     ]
    }
   ],
   "source": [
    "# Logistic regression and StandardScaler for X_train_cat2\n",
    "classifier_log_reg_standard.fit(X_train_cat2, y_train_cat2)\n",
    "print(classifier_log_reg_standard.best_estimator_.get_params())"
   ]
  },
  {
   "cell_type": "code",
   "execution_count": 66,
   "metadata": {},
   "outputs": [
    {
     "name": "stdout",
     "output_type": "stream",
     "text": [
      "              precision    recall  f1-score   support\n",
      "\n",
      "           0       0.70      0.78      0.74      5671\n",
      "           1       0.75      0.66      0.70      5583\n",
      "\n",
      "    accuracy                           0.72     11254\n",
      "   macro avg       0.72      0.72      0.72     11254\n",
      "weighted avg       0.72      0.72      0.72     11254\n",
      "\n"
     ]
    },
    {
     "data": {
      "image/png": "[encoded data removed]",
      "text/plain": [
       "<Figure size 432x288 with 2 Axes>"
      ]
     },
     "metadata": {
      "needs_background": "light"
     },
     "output_type": "display_data"
    }
   ],
   "source": [
    "df_metrics = getEvaMetrics(df_metrics, 'df_categorical_2', classifier_log_reg_standard, X_val_cat2, y_val_cat2)"
   ]
  },
  {
   "cell_type": "code",
   "execution_count": 67,
   "metadata": {},
   "outputs": [
    {
     "name": "stdout",
     "output_type": "stream",
     "text": [
      "{'memory': None, 'steps': [('scaler', MinMaxScaler()), ('log', LogisticRegression(l1_ratio=0.0, multi_class='ovr', penalty='elasticnet',\n",
      "                   solver='saga'))], 'verbose': False, 'scaler': MinMaxScaler(), 'log': LogisticRegression(l1_ratio=0.0, multi_class='ovr', penalty='elasticnet',\n",
      "                   solver='saga'), 'scaler__clip': False, 'scaler__copy': True, 'scaler__feature_range': (0, 1), 'log__C': 1.0, 'log__class_weight': None, 'log__dual': False, 'log__fit_intercept': True, 'log__intercept_scaling': 1, 'log__l1_ratio': 0.0, 'log__max_iter': 100, 'log__multi_class': 'ovr', 'log__n_jobs': None, 'log__penalty': 'elasticnet', 'log__random_state': None, 'log__solver': 'saga', 'log__tol': 0.0001, 'log__verbose': 0, 'log__warm_start': False}\n"
     ]
    }
   ],
   "source": [
    "# Logistic regression and MinMaxScaler for X_train_cat1\n",
    "classifier_log_reg_normal.fit(X_train_cat1, y_train_cat1)\n",
    "print(classifier_log_reg_normal.best_estimator_.get_params())"
   ]
  },
  {
   "cell_type": "code",
   "execution_count": 68,
   "metadata": {},
   "outputs": [
    {
     "name": "stdout",
     "output_type": "stream",
     "text": [
      "              precision    recall  f1-score   support\n",
      "\n",
      "           0       0.69      0.78      0.74      5671\n",
      "           1       0.75      0.65      0.70      5583\n",
      "\n",
      "    accuracy                           0.72     11254\n",
      "   macro avg       0.72      0.72      0.72     11254\n",
      "weighted avg       0.72      0.72      0.72     11254\n",
      "\n"
     ]
    },
    {
     "data": {
      "image/png": "[encoded data removed]",
      "text/plain": [
       "<Figure size 432x288 with 2 Axes>"
      ]
     },
     "metadata": {
      "needs_background": "light"
     },
     "output_type": "display_data"
    }
   ],
   "source": [
    "df_metrics = getEvaMetrics(df_metrics, 'df_categorical_1', classifier_log_reg_normal, X_val_cat1, y_val_cat1)"
   ]
  },
  {
   "cell_type": "code",
   "execution_count": 69,
   "metadata": {},
   "outputs": [
    {
     "name": "stdout",
     "output_type": "stream",
     "text": [
      "{'memory': None, 'steps': [('scaler', MinMaxScaler()), ('log', LogisticRegression(l1_ratio=0.631578947368421, multi_class='ovr',\n",
      "                   penalty='elasticnet', solver='saga'))], 'verbose': False, 'scaler': MinMaxScaler(), 'log': LogisticRegression(l1_ratio=0.631578947368421, multi_class='ovr',\n",
      "                   penalty='elasticnet', solver='saga'), 'scaler__clip': False, 'scaler__copy': True, 'scaler__feature_range': (0, 1), 'log__C': 1.0, 'log__class_weight': None, 'log__dual': False, 'log__fit_intercept': True, 'log__intercept_scaling': 1, 'log__l1_ratio': 0.631578947368421, 'log__max_iter': 100, 'log__multi_class': 'ovr', 'log__n_jobs': None, 'log__penalty': 'elasticnet', 'log__random_state': None, 'log__solver': 'saga', 'log__tol': 0.0001, 'log__verbose': 0, 'log__warm_start': False}\n"
     ]
    }
   ],
   "source": [
    "# Logistic regression and MinMaxScaler for X_train_cat2\n",
    "classifier_log_reg_normal.fit(X_train_cat2, y_train_cat2)\n",
    "print(classifier_log_reg_normal.best_estimator_.get_params())"
   ]
  },
  {
   "cell_type": "code",
   "execution_count": 70,
   "metadata": {},
   "outputs": [
    {
     "name": "stdout",
     "output_type": "stream",
     "text": [
      "              precision    recall  f1-score   support\n",
      "\n",
      "           0       0.70      0.78      0.74      5671\n",
      "           1       0.75      0.66      0.70      5583\n",
      "\n",
      "    accuracy                           0.72     11254\n",
      "   macro avg       0.72      0.72      0.72     11254\n",
      "weighted avg       0.72      0.72      0.72     11254\n",
      "\n"
     ]
    },
    {
     "data": {
      "image/png": "[encoded data removed]",
      "text/plain": [
       "<Figure size 432x288 with 2 Axes>"
      ]
     },
     "metadata": {
      "needs_background": "light"
     },
     "output_type": "display_data"
    }
   ],
   "source": [
    "df_metrics = getEvaMetrics(df_metrics, 'df_categorical_2', classifier_log_reg_normal, X_val_cat2, y_val_cat2)"
   ]
  },
  {
   "cell_type": "code",
   "execution_count": 75,
   "metadata": {},
   "outputs": [
    {
     "name": "stdout",
     "output_type": "stream",
     "text": [
      "Fitting 5 folds for each of 18 candidates, totalling 90 fits\n",
      "{'memory': None, 'steps': [('scaler', StandardScaler()), ('random_forest', RandomForestClassifier(max_features='log2', n_estimators=300))], 'verbose': False, 'scaler': StandardScaler(), 'random_forest': RandomForestClassifier(max_features='log2', n_estimators=300), 'scaler__copy': True, 'scaler__with_mean': True, 'scaler__with_std': True, 'random_forest__bootstrap': True, 'random_forest__ccp_alpha': 0.0, 'random_forest__class_weight': None, 'random_forest__criterion': 'gini', 'random_forest__max_depth': None, 'random_forest__max_features': 'log2', 'random_forest__max_leaf_nodes': None, 'random_forest__max_samples': None, 'random_forest__min_impurity_decrease': 0.0, 'random_forest__min_samples_leaf': 1, 'random_forest__min_samples_split': 2, 'random_forest__min_weight_fraction_leaf': 0.0, 'random_forest__n_estimators': 300, 'random_forest__n_jobs': None, 'random_forest__oob_score': False, 'random_forest__random_state': None, 'random_forest__verbose': 0, 'random_forest__warm_start': False}\n"
     ]
    }
   ],
   "source": [
    "# Random forest classifier and StandardScaler for X_train_cat1\n",
    "classifier_rfc_standard.fit(X_train_cat1, y_train_cat1)\n",
    "print(classifier_rfc_standard.best_estimator_.get_params())"
   ]
  },
  {
   "cell_type": "code",
   "execution_count": 76,
   "metadata": {},
   "outputs": [
    {
     "name": "stdout",
     "output_type": "stream",
     "text": [
      "              precision    recall  f1-score   support\n",
      "\n",
      "           0       0.70      0.71      0.71      5671\n",
      "           1       0.70      0.69      0.69      5583\n",
      "\n",
      "    accuracy                           0.70     11254\n",
      "   macro avg       0.70      0.70      0.70     11254\n",
      "weighted avg       0.70      0.70      0.70     11254\n",
      "\n"
     ]
    },
    {
     "data": {
      "image/png": "[encoded data removed]",
      "text/plain": [
       "<Figure size 432x288 with 2 Axes>"
      ]
     },
     "metadata": {
      "needs_background": "light"
     },
     "output_type": "display_data"
    }
   ],
   "source": [
    "df_metrics = getEvaMetrics(df_metrics, 'df_categorical_1', classifier_rfc_standard, X_val_cat1, y_val_cat1)"
   ]
  },
  {
   "cell_type": "code",
   "execution_count": 77,
   "metadata": {},
   "outputs": [
    {
     "name": "stdout",
     "output_type": "stream",
     "text": [
      "Fitting 5 folds for each of 18 candidates, totalling 90 fits\n",
      "{'memory': None, 'steps': [('scaler', StandardScaler()), ('random_forest', RandomForestClassifier(max_features='sqrt', n_estimators=300))], 'verbose': False, 'scaler': StandardScaler(), 'random_forest': RandomForestClassifier(max_features='sqrt', n_estimators=300), 'scaler__copy': True, 'scaler__with_mean': True, 'scaler__with_std': True, 'random_forest__bootstrap': True, 'random_forest__ccp_alpha': 0.0, 'random_forest__class_weight': None, 'random_forest__criterion': 'gini', 'random_forest__max_depth': None, 'random_forest__max_features': 'sqrt', 'random_forest__max_leaf_nodes': None, 'random_forest__max_samples': None, 'random_forest__min_impurity_decrease': 0.0, 'random_forest__min_samples_leaf': 1, 'random_forest__min_samples_split': 2, 'random_forest__min_weight_fraction_leaf': 0.0, 'random_forest__n_estimators': 300, 'random_forest__n_jobs': None, 'random_forest__oob_score': False, 'random_forest__random_state': None, 'random_forest__verbose': 0, 'random_forest__warm_start': False}\n"
     ]
    }
   ],
   "source": [
    "# Random forest classifier and StandardScaler for X_train_cat2\n",
    "classifier_rfc_standard.fit(X_train_cat2, y_train_cat2)\n",
    "print(classifier_rfc_standard.best_estimator_.get_params())"
   ]
  },
  {
   "cell_type": "code",
   "execution_count": 78,
   "metadata": {},
   "outputs": [
    {
     "name": "stdout",
     "output_type": "stream",
     "text": [
      "              precision    recall  f1-score   support\n",
      "\n",
      "           0       0.71      0.74      0.72      5671\n",
      "           1       0.72      0.69      0.70      5583\n",
      "\n",
      "    accuracy                           0.71     11254\n",
      "   macro avg       0.71      0.71      0.71     11254\n",
      "weighted avg       0.71      0.71      0.71     11254\n",
      "\n"
     ]
    },
    {
     "data": {
      "image/png": "[encoded data removed]",
      "text/plain": [
       "<Figure size 432x288 with 2 Axes>"
      ]
     },
     "metadata": {
      "needs_background": "light"
     },
     "output_type": "display_data"
    }
   ],
   "source": [
    "df_metrics = getEvaMetrics(df_metrics, 'df_categorical_2', classifier_rfc_standard, X_val_cat2, y_val_cat2)"
   ]
  },
  {
   "cell_type": "code",
   "execution_count": 79,
   "metadata": {},
   "outputs": [
    {
     "name": "stdout",
     "output_type": "stream",
     "text": [
      "Fitting 5 folds for each of 18 candidates, totalling 90 fits\n",
      "{'memory': None, 'steps': [('scaler', MinMaxScaler()), ('random_forest', RandomForestClassifier(max_features='sqrt', n_estimators=300))], 'verbose': False, 'scaler': MinMaxScaler(), 'random_forest': RandomForestClassifier(max_features='sqrt', n_estimators=300), 'scaler__clip': False, 'scaler__copy': True, 'scaler__feature_range': (0, 1), 'random_forest__bootstrap': True, 'random_forest__ccp_alpha': 0.0, 'random_forest__class_weight': None, 'random_forest__criterion': 'gini', 'random_forest__max_depth': None, 'random_forest__max_features': 'sqrt', 'random_forest__max_leaf_nodes': None, 'random_forest__max_samples': None, 'random_forest__min_impurity_decrease': 0.0, 'random_forest__min_samples_leaf': 1, 'random_forest__min_samples_split': 2, 'random_forest__min_weight_fraction_leaf': 0.0, 'random_forest__n_estimators': 300, 'random_forest__n_jobs': None, 'random_forest__oob_score': False, 'random_forest__random_state': None, 'random_forest__verbose': 0, 'random_forest__warm_start': False}\n"
     ]
    }
   ],
   "source": [
    "# Random forest classifier and MinMaxScaler for X_train_cat1\n",
    "classifier_rfc_normal.fit(X_train_cat1, y_train_cat1)\n",
    "print(classifier_rfc_normal.best_estimator_.get_params())"
   ]
  },
  {
   "cell_type": "code",
   "execution_count": 80,
   "metadata": {},
   "outputs": [
    {
     "name": "stdout",
     "output_type": "stream",
     "text": [
      "              precision    recall  f1-score   support\n",
      "\n",
      "           0       0.70      0.71      0.71      5671\n",
      "           1       0.70      0.69      0.69      5583\n",
      "\n",
      "    accuracy                           0.70     11254\n",
      "   macro avg       0.70      0.70      0.70     11254\n",
      "weighted avg       0.70      0.70      0.70     11254\n",
      "\n"
     ]
    },
    {
     "data": {
      "image/png": "[encoded data removed]",
      "text/plain": [
       "<Figure size 432x288 with 2 Axes>"
      ]
     },
     "metadata": {
      "needs_background": "light"
     },
     "output_type": "display_data"
    }
   ],
   "source": [
    "df_metrics = getEvaMetrics(df_metrics, 'df_categorical_1', classifier_rfc_normal, X_val_cat1, y_val_cat1)"
   ]
  },
  {
   "cell_type": "code",
   "execution_count": 81,
   "metadata": {},
   "outputs": [
    {
     "name": "stdout",
     "output_type": "stream",
     "text": [
      "Fitting 5 folds for each of 18 candidates, totalling 90 fits\n",
      "{'memory': None, 'steps': [('scaler', MinMaxScaler()), ('random_forest', RandomForestClassifier(max_features='sqrt', n_estimators=300))], 'verbose': False, 'scaler': MinMaxScaler(), 'random_forest': RandomForestClassifier(max_features='sqrt', n_estimators=300), 'scaler__clip': False, 'scaler__copy': True, 'scaler__feature_range': (0, 1), 'random_forest__bootstrap': True, 'random_forest__ccp_alpha': 0.0, 'random_forest__class_weight': None, 'random_forest__criterion': 'gini', 'random_forest__max_depth': None, 'random_forest__max_features': 'sqrt', 'random_forest__max_leaf_nodes': None, 'random_forest__max_samples': None, 'random_forest__min_impurity_decrease': 0.0, 'random_forest__min_samples_leaf': 1, 'random_forest__min_samples_split': 2, 'random_forest__min_weight_fraction_leaf': 0.0, 'random_forest__n_estimators': 300, 'random_forest__n_jobs': None, 'random_forest__oob_score': False, 'random_forest__random_state': None, 'random_forest__verbose': 0, 'random_forest__warm_start': False}\n"
     ]
    }
   ],
   "source": [
    "# Random forest classifier and MinMaxScaler for X_train_cat2\n",
    "classifier_rfc_normal.fit(X_train_cat2, y_train_cat2)\n",
    "print(classifier_rfc_normal.best_estimator_.get_params())"
   ]
  },
  {
   "cell_type": "code",
   "execution_count": 82,
   "metadata": {},
   "outputs": [
    {
     "name": "stdout",
     "output_type": "stream",
     "text": [
      "              precision    recall  f1-score   support\n",
      "\n",
      "           0       0.71      0.73      0.72      5671\n",
      "           1       0.72      0.69      0.70      5583\n",
      "\n",
      "    accuracy                           0.71     11254\n",
      "   macro avg       0.71      0.71      0.71     11254\n",
      "weighted avg       0.71      0.71      0.71     11254\n",
      "\n"
     ]
    },
    {
     "data": {
      "image/png": "[encoded data removed]",
      "text/plain": [
       "<Figure size 432x288 with 2 Axes>"
      ]
     },
     "metadata": {
      "needs_background": "light"
     },
     "output_type": "display_data"
    }
   ],
   "source": [
    "df_metrics = getEvaMetrics(df_metrics, 'df_categorical_2', classifier_rfc_normal, X_val_cat2, y_val_cat2)"
   ]
  },
  {
   "cell_type": "code",
   "execution_count": 87,
   "metadata": {},
   "outputs": [
    {
     "data": {
      "text/html": [
       "<div>\n",
       "<style scoped>\n",
       "    .dataframe tbody tr th:only-of-type {\n",
       "        vertical-align: middle;\n",
       "    }\n",
       "\n",
       "    .dataframe tbody tr th {\n",
       "        vertical-align: top;\n",
       "    }\n",
       "\n",
       "    .dataframe thead th {\n",
       "        text-align: right;\n",
       "    }\n",
       "</style>\n",
       "<table border=\"1\" class=\"dataframe\">\n",
       "  <thead>\n",
       "    <tr style=\"text-align: right;\">\n",
       "      <th></th>\n",
       "      <th>dataset</th>\n",
       "      <th>model</th>\n",
       "      <th>recall</th>\n",
       "      <th>precision</th>\n",
       "    </tr>\n",
       "  </thead>\n",
       "  <tbody>\n",
       "    <tr>\n",
       "      <th>0</th>\n",
       "      <td>df_categorical_1</td>\n",
       "      <td>GridSearchCV(cv=5,\\n             estimator=Pip...</td>\n",
       "      <td>0.692280</td>\n",
       "      <td>0.708135</td>\n",
       "    </tr>\n",
       "    <tr>\n",
       "      <th>9</th>\n",
       "      <td>df_categorical_2</td>\n",
       "      <td>GridSearchCV(cv=5,\\n             estimator=Pip...</td>\n",
       "      <td>0.690310</td>\n",
       "      <td>0.719836</td>\n",
       "    </tr>\n",
       "    <tr>\n",
       "      <th>11</th>\n",
       "      <td>df_categorical_2</td>\n",
       "      <td>GridSearchCV(cv=5,\\n             estimator=Pip...</td>\n",
       "      <td>0.689773</td>\n",
       "      <td>0.716199</td>\n",
       "    </tr>\n",
       "    <tr>\n",
       "      <th>8</th>\n",
       "      <td>df_categorical_1</td>\n",
       "      <td>GridSearchCV(cv=5,\\n             estimator=Pip...</td>\n",
       "      <td>0.686548</td>\n",
       "      <td>0.702143</td>\n",
       "    </tr>\n",
       "    <tr>\n",
       "      <th>10</th>\n",
       "      <td>df_categorical_1</td>\n",
       "      <td>GridSearchCV(cv=5,\\n             estimator=Pip...</td>\n",
       "      <td>0.685474</td>\n",
       "      <td>0.702331</td>\n",
       "    </tr>\n",
       "    <tr>\n",
       "      <th>2</th>\n",
       "      <td>df_categorical_1</td>\n",
       "      <td>GridSearchCV(cv=5,\\n             estimator=Pip...</td>\n",
       "      <td>0.683862</td>\n",
       "      <td>0.708480</td>\n",
       "    </tr>\n",
       "    <tr>\n",
       "      <th>1</th>\n",
       "      <td>df_categorical_2</td>\n",
       "      <td>GridSearchCV(cv=5,\\n             estimator=Pip...</td>\n",
       "      <td>0.680459</td>\n",
       "      <td>0.724447</td>\n",
       "    </tr>\n",
       "    <tr>\n",
       "      <th>3</th>\n",
       "      <td>df_categorical_2</td>\n",
       "      <td>GridSearchCV(cv=5,\\n             estimator=Pip...</td>\n",
       "      <td>0.676518</td>\n",
       "      <td>0.724813</td>\n",
       "    </tr>\n",
       "    <tr>\n",
       "      <th>5</th>\n",
       "      <td>df_categorical_2</td>\n",
       "      <td>GridSearchCV(cv=5,\\n             estimator=Pip...</td>\n",
       "      <td>0.660935</td>\n",
       "      <td>0.746661</td>\n",
       "    </tr>\n",
       "    <tr>\n",
       "      <th>7</th>\n",
       "      <td>df_categorical_2</td>\n",
       "      <td>GridSearchCV(cv=5,\\n             estimator=Pip...</td>\n",
       "      <td>0.660577</td>\n",
       "      <td>0.746710</td>\n",
       "    </tr>\n",
       "    <tr>\n",
       "      <th>4</th>\n",
       "      <td>df_categorical_1</td>\n",
       "      <td>GridSearchCV(cv=5,\\n             estimator=Pip...</td>\n",
       "      <td>0.650725</td>\n",
       "      <td>0.746609</td>\n",
       "    </tr>\n",
       "    <tr>\n",
       "      <th>6</th>\n",
       "      <td>df_categorical_1</td>\n",
       "      <td>GridSearchCV(cv=5,\\n             estimator=Pip...</td>\n",
       "      <td>0.650725</td>\n",
       "      <td>0.746149</td>\n",
       "    </tr>\n",
       "  </tbody>\n",
       "</table>\n",
       "</div>"
      ],
      "text/plain": [
       "             dataset                                              model  \\\n",
       "0   df_categorical_1  GridSearchCV(cv=5,\\n             estimator=Pip...   \n",
       "9   df_categorical_2  GridSearchCV(cv=5,\\n             estimator=Pip...   \n",
       "11  df_categorical_2  GridSearchCV(cv=5,\\n             estimator=Pip...   \n",
       "8   df_categorical_1  GridSearchCV(cv=5,\\n             estimator=Pip...   \n",
       "10  df_categorical_1  GridSearchCV(cv=5,\\n             estimator=Pip...   \n",
       "2   df_categorical_1  GridSearchCV(cv=5,\\n             estimator=Pip...   \n",
       "1   df_categorical_2  GridSearchCV(cv=5,\\n             estimator=Pip...   \n",
       "3   df_categorical_2  GridSearchCV(cv=5,\\n             estimator=Pip...   \n",
       "5   df_categorical_2  GridSearchCV(cv=5,\\n             estimator=Pip...   \n",
       "7   df_categorical_2  GridSearchCV(cv=5,\\n             estimator=Pip...   \n",
       "4   df_categorical_1  GridSearchCV(cv=5,\\n             estimator=Pip...   \n",
       "6   df_categorical_1  GridSearchCV(cv=5,\\n             estimator=Pip...   \n",
       "\n",
       "      recall  precision  \n",
       "0   0.692280   0.708135  \n",
       "9   0.690310   0.719836  \n",
       "11  0.689773   0.716199  \n",
       "8   0.686548   0.702143  \n",
       "10  0.685474   0.702331  \n",
       "2   0.683862   0.708480  \n",
       "1   0.680459   0.724447  \n",
       "3   0.676518   0.724813  \n",
       "5   0.660935   0.746661  \n",
       "7   0.660577   0.746710  \n",
       "4   0.650725   0.746609  \n",
       "6   0.650725   0.746149  "
      ]
     },
     "execution_count": 87,
     "metadata": {},
     "output_type": "execute_result"
    }
   ],
   "source": [
    "df_metrics = df_metrics.sort_values('recall', ascending=False)\n",
    "df_metrics"
   ]
  },
  {
   "cell_type": "code",
   "execution_count": 90,
   "metadata": {},
   "outputs": [
    {
     "name": "stdout",
     "output_type": "stream",
     "text": [
      "The best dataset is: df_categorical_1, \n",
      "\n",
      "the best model is: GridSearchCV(cv=5,\n",
      "             estimator=Pipeline(steps=[('scaler', StandardScaler()),\n",
      "                                       ('knn', KNeighborsClassifier())]),\n",
      "             param_grid={'knn__n_neighbors': [1, 2, 3, 4, 5, 6, 7, 8, 9, 10, 11,\n",
      "                                              12, 13, 14, 15, 16, 17, 18, 19]},\n",
      "             scoring='recall'), \n",
      "\n",
      "the corresponding recall ratio is: 0.69228013612753, \n",
      "\n",
      "the corresponding precision ratio is: 0.7081348479296445\n"
     ]
    }
   ],
   "source": [
    "print(f\"The best dataset is: {df_metrics.iloc[0,0]}, \\n\\nthe best model is: {df_metrics.iloc[0,1]}, \\n\\nthe corresponding recall ratio is: {df_metrics.iloc[0,2]}, \\n\\nthe corresponding precision ratio is: {df_metrics.iloc[0,3]}\")"
   ]
  },
  {
   "cell_type": "code",
   "execution_count": 91,
   "metadata": {},
   "outputs": [
    {
     "name": "stdout",
     "output_type": "stream",
     "text": [
      "{'memory': None, 'steps': [('scaler', StandardScaler()), ('knn', KNeighborsClassifier(n_neighbors=15))], 'verbose': False, 'scaler': StandardScaler(), 'knn': KNeighborsClassifier(n_neighbors=15), 'scaler__copy': True, 'scaler__with_mean': True, 'scaler__with_std': True, 'knn__algorithm': 'auto', 'knn__leaf_size': 30, 'knn__metric': 'minkowski', 'knn__metric_params': None, 'knn__n_jobs': None, 'knn__n_neighbors': 15, 'knn__p': 2, 'knn__weights': 'uniform'}\n"
     ]
    }
   ],
   "source": [
    "print(classifier_KNN_standard.best_estimator_.get_params())"
   ]
  },
  {
   "cell_type": "markdown",
   "metadata": {},
   "source": [
    "I choose the choice with the lowest false negative since patients with true disease should take treatment as early as possible, compare to have false positive. The best model in this case is KNN model with n_neighbors=15, and standardscaler."
   ]
  },
  {
   "cell_type": "markdown",
   "metadata": {},
   "source": [
    "---\n",
    "### 2.5 Ensemble\n",
    "Använd VotingClassifier() på datasetet som du valt och lägg in de bästa parametrarna för respektive modell."
   ]
  },
  {
   "cell_type": "markdown",
   "metadata": {},
   "source": [
    "**dataset I use: test data for df_categorical_1**\n",
    "\n",
    "In the ensemble step, I train with the most training samples that I have: train+validation data, in order to make maximal use of the available information. \n",
    "\n",
    "Then I test Votingclassifier() with test data because these models did not see our test data before. So there is no data leakage problem."
   ]
  },
  {
   "cell_type": "code",
   "execution_count": 111,
   "metadata": {},
   "outputs": [],
   "source": [
    "X_train_val_cat1=pd.concat([X_train_cat1, X_val_cat1], axis=0)\n",
    "y_train_val_cat1=pd.concat([y_train_cat1, y_val_cat1], axis=0)"
   ]
  },
  {
   "cell_type": "code",
   "execution_count": 112,
   "metadata": {},
   "outputs": [
    {
     "data": {
      "text/plain": [
       "((56952, 19), (56952,))"
      ]
     },
     "execution_count": 112,
     "metadata": {},
     "output_type": "execute_result"
    }
   ],
   "source": [
    "X_train_val_cat1.shape, y_train_val_cat1.shape"
   ]
  },
  {
   "cell_type": "code",
   "execution_count": 107,
   "metadata": {},
   "outputs": [
    {
     "name": "stdout",
     "output_type": "stream",
     "text": [
      "rank 1. {'memory': None, 'steps': [('scaler', StandardScaler()), ('knn', KNeighborsClassifier(n_neighbors=15))], 'verbose': False, 'scaler': StandardScaler(), 'knn': KNeighborsClassifier(n_neighbors=15), 'scaler__copy': True, 'scaler__with_mean': True, 'scaler__with_std': True, 'knn__algorithm': 'auto', 'knn__leaf_size': 30, 'knn__metric': 'minkowski', 'knn__metric_params': None, 'knn__n_jobs': None, 'knn__n_neighbors': 15, 'knn__p': 2, 'knn__weights': 'uniform'}\n",
      "\n",
      "\n",
      "rank 2. {'memory': None, 'steps': [('scaler', StandardScaler()), ('random_forest', RandomForestClassifier(max_features='sqrt', n_estimators=300))], 'verbose': False, 'scaler': StandardScaler(), 'random_forest': RandomForestClassifier(max_features='sqrt', n_estimators=300), 'scaler__copy': True, 'scaler__with_mean': True, 'scaler__with_std': True, 'random_forest__bootstrap': True, 'random_forest__ccp_alpha': 0.0, 'random_forest__class_weight': None, 'random_forest__criterion': 'gini', 'random_forest__max_depth': None, 'random_forest__max_features': 'sqrt', 'random_forest__max_leaf_nodes': None, 'random_forest__max_samples': None, 'random_forest__min_impurity_decrease': 0.0, 'random_forest__min_samples_leaf': 1, 'random_forest__min_samples_split': 2, 'random_forest__min_weight_fraction_leaf': 0.0, 'random_forest__n_estimators': 300, 'random_forest__n_jobs': None, 'random_forest__oob_score': False, 'random_forest__random_state': None, 'random_forest__verbose': 0, 'random_forest__warm_start': False}\n",
      "\n",
      "\n",
      "rank 3. {'memory': None, 'steps': [('scaler', MinMaxScaler()), ('random_forest', RandomForestClassifier(max_features='sqrt', n_estimators=300))], 'verbose': False, 'scaler': MinMaxScaler(), 'random_forest': RandomForestClassifier(max_features='sqrt', n_estimators=300), 'scaler__clip': False, 'scaler__copy': True, 'scaler__feature_range': (0, 1), 'random_forest__bootstrap': True, 'random_forest__ccp_alpha': 0.0, 'random_forest__class_weight': None, 'random_forest__criterion': 'gini', 'random_forest__max_depth': None, 'random_forest__max_features': 'sqrt', 'random_forest__max_leaf_nodes': None, 'random_forest__max_samples': None, 'random_forest__min_impurity_decrease': 0.0, 'random_forest__min_samples_leaf': 1, 'random_forest__min_samples_split': 2, 'random_forest__min_weight_fraction_leaf': 0.0, 'random_forest__n_estimators': 300, 'random_forest__n_jobs': None, 'random_forest__oob_score': False, 'random_forest__random_state': None, 'random_forest__verbose': 0, 'random_forest__warm_start': False}\n",
      "\n",
      "\n",
      "rank 4. {'memory': None, 'steps': [('scaler', MinMaxScaler()), ('knn', KNeighborsClassifier(n_neighbors=17))], 'verbose': False, 'scaler': MinMaxScaler(), 'knn': KNeighborsClassifier(n_neighbors=17), 'scaler__clip': False, 'scaler__copy': True, 'scaler__feature_range': (0, 1), 'knn__algorithm': 'auto', 'knn__leaf_size': 30, 'knn__metric': 'minkowski', 'knn__metric_params': None, 'knn__n_jobs': None, 'knn__n_neighbors': 17, 'knn__p': 2, 'knn__weights': 'uniform'}\n",
      "\n",
      "\n",
      "rank 5. {'memory': None, 'steps': [('scaler', StandardScaler()), ('log', LogisticRegression(l1_ratio=0.7368421052631579, multi_class='ovr',\n",
      "                   penalty='elasticnet', solver='saga'))], 'verbose': False, 'scaler': StandardScaler(), 'log': LogisticRegression(l1_ratio=0.7368421052631579, multi_class='ovr',\n",
      "                   penalty='elasticnet', solver='saga'), 'scaler__copy': True, 'scaler__with_mean': True, 'scaler__with_std': True, 'log__C': 1.0, 'log__class_weight': None, 'log__dual': False, 'log__fit_intercept': True, 'log__intercept_scaling': 1, 'log__l1_ratio': 0.7368421052631579, 'log__max_iter': 100, 'log__multi_class': 'ovr', 'log__n_jobs': None, 'log__penalty': 'elasticnet', 'log__random_state': None, 'log__solver': 'saga', 'log__tol': 0.0001, 'log__verbose': 0, 'log__warm_start': False}\n",
      "\n",
      "\n",
      "rank 6. {'memory': None, 'steps': [('scaler', MinMaxScaler()), ('log', LogisticRegression(l1_ratio=0.631578947368421, multi_class='ovr',\n",
      "                   penalty='elasticnet', solver='saga'))], 'verbose': False, 'scaler': MinMaxScaler(), 'log': LogisticRegression(l1_ratio=0.631578947368421, multi_class='ovr',\n",
      "                   penalty='elasticnet', solver='saga'), 'scaler__clip': False, 'scaler__copy': True, 'scaler__feature_range': (0, 1), 'log__C': 1.0, 'log__class_weight': None, 'log__dual': False, 'log__fit_intercept': True, 'log__intercept_scaling': 1, 'log__l1_ratio': 0.631578947368421, 'log__max_iter': 100, 'log__multi_class': 'ovr', 'log__n_jobs': None, 'log__penalty': 'elasticnet', 'log__random_state': None, 'log__solver': 'saga', 'log__tol': 0.0001, 'log__verbose': 0, 'log__warm_start': False}\n",
      "\n",
      "\n"
     ]
    }
   ],
   "source": [
    "df_metrics_cat1 = df_metrics[df_metrics['dataset']=='df_categorical_1']\n",
    "for i, model_cat1 in enumerate(df_metrics_cat1['model']):\n",
    "    print(f'rank {i+1}. {model_cat1.best_estimator_.get_params()}\\n\\n')"
   ]
  },
  {
   "cell_type": "markdown",
   "metadata": {},
   "source": [
    "It is clearly presented that logistical models are ranked worst in the models, but actually the recall ratio is only 0.04 smaller. I do not think I should abslutely avoid logistical regression. \n",
    "\n",
    "Furthmore, to make ensemble based on variety of choices. I would compare the best parametrics for each algorithm that I used from the previous ranking, which means I include logistical regression in ensemble. \n",
    "\n",
    "The choosen models therefore are:\n",
    "pipe_KNN_standard, pipe_rfc_standard, pipe_log_reg_standard"
   ]
  },
  {
   "cell_type": "code",
   "execution_count": 118,
   "metadata": {},
   "outputs": [
    {
     "data": {
      "text/plain": [
       "VotingClassifier(estimators=[('KNN',\n",
       "                              Pipeline(steps=[('scaler', StandardScaler()),\n",
       "                                              ('knn',\n",
       "                                               KNeighborsClassifier(n_neighbors=15))])),\n",
       "                             ('log_reg',\n",
       "                              Pipeline(steps=[('scaler', StandardScaler()),\n",
       "                                              ('log',\n",
       "                                               LogisticRegression(l1_ratio=0.7368421052631579,\n",
       "                                                                  multi_class='ovr',\n",
       "                                                                  penalty='elasticnet',\n",
       "                                                                  solver='saga'))])),\n",
       "                             ('rfc',\n",
       "                              Pipeline(steps=[('scaler', StandardScaler()),\n",
       "                                              ('random_forest',\n",
       "                                               RandomForestClassifier(max_features='sqrt',\n",
       "                                                                      n_estimators=300))]))])"
      ]
     },
     "execution_count": 118,
     "metadata": {},
     "output_type": "execute_result"
    }
   ],
   "source": [
    "from sklearn.ensemble import VotingClassifier\n",
    "\n",
    "pipe_KNN = Pipeline([(\"scaler\", StandardScaler()), (\"knn\", KNeighborsClassifier(n_neighbors=15, metric= 'minkowski', weights='uniform'))])\n",
    "pipe_rfc = Pipeline([(\"scaler\", StandardScaler()), (\"random_forest\", RandomForestClassifier(max_features='sqrt', n_estimators=300, criterion=\"gini\"))])\n",
    "pipe_log = Pipeline([(\"scaler\", StandardScaler()), (\"log\", LogisticRegression(\n",
    "    l1_ratio=0.7368421052631579, C=1.0, tol=0.0001, solver=\"saga\", multi_class = \"ovr\", max_iter=100, penalty=\"elasticnet\"))])\n",
    "\n",
    "\n",
    "vote_clf = VotingClassifier(\n",
    "    [(\"KNN\", pipe_KNN),\n",
    "     (\"log_reg\", pipe_log),\n",
    "     (\"rfc\", pipe_rfc)])\n",
    "\n",
    "vote_clf.fit(X_train_val_cat1, y_train_val_cat1)\n",
    "\n"
   ]
  },
  {
   "cell_type": "code",
   "execution_count": 119,
   "metadata": {},
   "outputs": [
    {
     "name": "stdout",
     "output_type": "stream",
     "text": [
      "              precision    recall  f1-score   support\n",
      "\n",
      "           0       0.72      0.76      0.74      5730\n",
      "           1       0.74      0.68      0.71      5525\n",
      "\n",
      "    accuracy                           0.72     11255\n",
      "   macro avg       0.73      0.72      0.72     11255\n",
      "weighted avg       0.73      0.72      0.72     11255\n",
      "\n"
     ]
    },
    {
     "data": {
      "text/html": [
       "<div>\n",
       "<style scoped>\n",
       "    .dataframe tbody tr th:only-of-type {\n",
       "        vertical-align: middle;\n",
       "    }\n",
       "\n",
       "    .dataframe tbody tr th {\n",
       "        vertical-align: top;\n",
       "    }\n",
       "\n",
       "    .dataframe thead th {\n",
       "        text-align: right;\n",
       "    }\n",
       "</style>\n",
       "<table border=\"1\" class=\"dataframe\">\n",
       "  <thead>\n",
       "    <tr style=\"text-align: right;\">\n",
       "      <th></th>\n",
       "      <th>dataset</th>\n",
       "      <th>model</th>\n",
       "      <th>recall</th>\n",
       "      <th>precision</th>\n",
       "    </tr>\n",
       "  </thead>\n",
       "  <tbody>\n",
       "    <tr>\n",
       "      <th>0</th>\n",
       "      <td>df_categorical_1</td>\n",
       "      <td>GridSearchCV(cv=5,\\n             estimator=Pip...</td>\n",
       "      <td>0.692280</td>\n",
       "      <td>0.708135</td>\n",
       "    </tr>\n",
       "    <tr>\n",
       "      <th>9</th>\n",
       "      <td>df_categorical_2</td>\n",
       "      <td>GridSearchCV(cv=5,\\n             estimator=Pip...</td>\n",
       "      <td>0.690310</td>\n",
       "      <td>0.719836</td>\n",
       "    </tr>\n",
       "    <tr>\n",
       "      <th>11</th>\n",
       "      <td>df_categorical_2</td>\n",
       "      <td>GridSearchCV(cv=5,\\n             estimator=Pip...</td>\n",
       "      <td>0.689773</td>\n",
       "      <td>0.716199</td>\n",
       "    </tr>\n",
       "    <tr>\n",
       "      <th>8</th>\n",
       "      <td>df_categorical_1</td>\n",
       "      <td>GridSearchCV(cv=5,\\n             estimator=Pip...</td>\n",
       "      <td>0.686548</td>\n",
       "      <td>0.702143</td>\n",
       "    </tr>\n",
       "    <tr>\n",
       "      <th>10</th>\n",
       "      <td>df_categorical_1</td>\n",
       "      <td>GridSearchCV(cv=5,\\n             estimator=Pip...</td>\n",
       "      <td>0.685474</td>\n",
       "      <td>0.702331</td>\n",
       "    </tr>\n",
       "    <tr>\n",
       "      <th>2</th>\n",
       "      <td>df_categorical_1</td>\n",
       "      <td>GridSearchCV(cv=5,\\n             estimator=Pip...</td>\n",
       "      <td>0.683862</td>\n",
       "      <td>0.708480</td>\n",
       "    </tr>\n",
       "    <tr>\n",
       "      <th>1</th>\n",
       "      <td>df_categorical_2</td>\n",
       "      <td>GridSearchCV(cv=5,\\n             estimator=Pip...</td>\n",
       "      <td>0.680459</td>\n",
       "      <td>0.724447</td>\n",
       "    </tr>\n",
       "    <tr>\n",
       "      <th>3</th>\n",
       "      <td>df_categorical_2</td>\n",
       "      <td>GridSearchCV(cv=5,\\n             estimator=Pip...</td>\n",
       "      <td>0.676518</td>\n",
       "      <td>0.724813</td>\n",
       "    </tr>\n",
       "    <tr>\n",
       "      <th>5</th>\n",
       "      <td>df_categorical_2</td>\n",
       "      <td>GridSearchCV(cv=5,\\n             estimator=Pip...</td>\n",
       "      <td>0.660935</td>\n",
       "      <td>0.746661</td>\n",
       "    </tr>\n",
       "    <tr>\n",
       "      <th>7</th>\n",
       "      <td>df_categorical_2</td>\n",
       "      <td>GridSearchCV(cv=5,\\n             estimator=Pip...</td>\n",
       "      <td>0.660577</td>\n",
       "      <td>0.746710</td>\n",
       "    </tr>\n",
       "    <tr>\n",
       "      <th>4</th>\n",
       "      <td>df_categorical_1</td>\n",
       "      <td>GridSearchCV(cv=5,\\n             estimator=Pip...</td>\n",
       "      <td>0.650725</td>\n",
       "      <td>0.746609</td>\n",
       "    </tr>\n",
       "    <tr>\n",
       "      <th>6</th>\n",
       "      <td>df_categorical_1</td>\n",
       "      <td>GridSearchCV(cv=5,\\n             estimator=Pip...</td>\n",
       "      <td>0.650725</td>\n",
       "      <td>0.746149</td>\n",
       "    </tr>\n",
       "    <tr>\n",
       "      <th>12</th>\n",
       "      <td>df_catogorical_1</td>\n",
       "      <td>VotingClassifier(estimators=[('KNN',\\n        ...</td>\n",
       "      <td>0.684525</td>\n",
       "      <td>0.735941</td>\n",
       "    </tr>\n",
       "  </tbody>\n",
       "</table>\n",
       "</div>"
      ],
      "text/plain": [
       "             dataset                                              model  \\\n",
       "0   df_categorical_1  GridSearchCV(cv=5,\\n             estimator=Pip...   \n",
       "9   df_categorical_2  GridSearchCV(cv=5,\\n             estimator=Pip...   \n",
       "11  df_categorical_2  GridSearchCV(cv=5,\\n             estimator=Pip...   \n",
       "8   df_categorical_1  GridSearchCV(cv=5,\\n             estimator=Pip...   \n",
       "10  df_categorical_1  GridSearchCV(cv=5,\\n             estimator=Pip...   \n",
       "2   df_categorical_1  GridSearchCV(cv=5,\\n             estimator=Pip...   \n",
       "1   df_categorical_2  GridSearchCV(cv=5,\\n             estimator=Pip...   \n",
       "3   df_categorical_2  GridSearchCV(cv=5,\\n             estimator=Pip...   \n",
       "5   df_categorical_2  GridSearchCV(cv=5,\\n             estimator=Pip...   \n",
       "7   df_categorical_2  GridSearchCV(cv=5,\\n             estimator=Pip...   \n",
       "4   df_categorical_1  GridSearchCV(cv=5,\\n             estimator=Pip...   \n",
       "6   df_categorical_1  GridSearchCV(cv=5,\\n             estimator=Pip...   \n",
       "12  df_catogorical_1  VotingClassifier(estimators=[('KNN',\\n        ...   \n",
       "\n",
       "      recall  precision  \n",
       "0   0.692280   0.708135  \n",
       "9   0.690310   0.719836  \n",
       "11  0.689773   0.716199  \n",
       "8   0.686548   0.702143  \n",
       "10  0.685474   0.702331  \n",
       "2   0.683862   0.708480  \n",
       "1   0.680459   0.724447  \n",
       "3   0.676518   0.724813  \n",
       "5   0.660935   0.746661  \n",
       "7   0.660577   0.746710  \n",
       "4   0.650725   0.746609  \n",
       "6   0.650725   0.746149  \n",
       "12  0.684525   0.735941  "
      ]
     },
     "execution_count": 119,
     "metadata": {},
     "output_type": "execute_result"
    },
    {
     "data": {
      "image/png": "[encoded data removed]",
      "text/plain": [
       "<Figure size 432x288 with 2 Axes>"
      ]
     },
     "metadata": {
      "needs_background": "light"
     },
     "output_type": "display_data"
    }
   ],
   "source": [
    "getEvaMetrics(df_metrics, 'df_catogorical_1', vote_clf, X_test_cat1, y_test_cat1)"
   ]
  },
  {
   "cell_type": "markdown",
   "metadata": {},
   "source": [
    "The votingclassifier has a 0.684525 recall ratio using train+validation for training, and test for prediction.\n"
   ]
  },
  {
   "cell_type": "markdown",
   "metadata": {},
   "source": [
    "### Checking my best model with recall ratio of test data\n",
    "I am interested in checking my best model from the 2.4 section. \n",
    "The best model is KNN with n_neighbors=15 and standardscaler. It is selected by using validation data prediction. I am now using to predict a totally new dataset to this model: test dataset."
   ]
  },
  {
   "cell_type": "code",
   "execution_count": 121,
   "metadata": {},
   "outputs": [
    {
     "data": {
      "text/plain": [
       "array([0, 0, 0, ..., 1, 0, 0], dtype=int64)"
      ]
     },
     "execution_count": 121,
     "metadata": {},
     "output_type": "execute_result"
    }
   ],
   "source": [
    "pipe_KNN.fit(X_train_val_cat1, y_train_val_cat1)\n",
    "pipe_KNN.predict(X_test_cat1)"
   ]
  },
  {
   "cell_type": "code",
   "execution_count": 122,
   "metadata": {},
   "outputs": [
    {
     "name": "stdout",
     "output_type": "stream",
     "text": [
      "              precision    recall  f1-score   support\n",
      "\n",
      "           0       0.72      0.73      0.72      5730\n",
      "           1       0.72      0.71      0.71      5525\n",
      "\n",
      "    accuracy                           0.72     11255\n",
      "   macro avg       0.72      0.72      0.72     11255\n",
      "weighted avg       0.72      0.72      0.72     11255\n",
      "\n"
     ]
    },
    {
     "data": {
      "text/html": [
       "<div>\n",
       "<style scoped>\n",
       "    .dataframe tbody tr th:only-of-type {\n",
       "        vertical-align: middle;\n",
       "    }\n",
       "\n",
       "    .dataframe tbody tr th {\n",
       "        vertical-align: top;\n",
       "    }\n",
       "\n",
       "    .dataframe thead th {\n",
       "        text-align: right;\n",
       "    }\n",
       "</style>\n",
       "<table border=\"1\" class=\"dataframe\">\n",
       "  <thead>\n",
       "    <tr style=\"text-align: right;\">\n",
       "      <th></th>\n",
       "      <th>dataset</th>\n",
       "      <th>model</th>\n",
       "      <th>recall</th>\n",
       "      <th>precision</th>\n",
       "    </tr>\n",
       "  </thead>\n",
       "  <tbody>\n",
       "    <tr>\n",
       "      <th>0</th>\n",
       "      <td>df_categorical_1</td>\n",
       "      <td>GridSearchCV(cv=5,\\n             estimator=Pip...</td>\n",
       "      <td>0.692280</td>\n",
       "      <td>0.708135</td>\n",
       "    </tr>\n",
       "    <tr>\n",
       "      <th>9</th>\n",
       "      <td>df_categorical_2</td>\n",
       "      <td>GridSearchCV(cv=5,\\n             estimator=Pip...</td>\n",
       "      <td>0.690310</td>\n",
       "      <td>0.719836</td>\n",
       "    </tr>\n",
       "    <tr>\n",
       "      <th>11</th>\n",
       "      <td>df_categorical_2</td>\n",
       "      <td>GridSearchCV(cv=5,\\n             estimator=Pip...</td>\n",
       "      <td>0.689773</td>\n",
       "      <td>0.716199</td>\n",
       "    </tr>\n",
       "    <tr>\n",
       "      <th>8</th>\n",
       "      <td>df_categorical_1</td>\n",
       "      <td>GridSearchCV(cv=5,\\n             estimator=Pip...</td>\n",
       "      <td>0.686548</td>\n",
       "      <td>0.702143</td>\n",
       "    </tr>\n",
       "    <tr>\n",
       "      <th>10</th>\n",
       "      <td>df_categorical_1</td>\n",
       "      <td>GridSearchCV(cv=5,\\n             estimator=Pip...</td>\n",
       "      <td>0.685474</td>\n",
       "      <td>0.702331</td>\n",
       "    </tr>\n",
       "    <tr>\n",
       "      <th>2</th>\n",
       "      <td>df_categorical_1</td>\n",
       "      <td>GridSearchCV(cv=5,\\n             estimator=Pip...</td>\n",
       "      <td>0.683862</td>\n",
       "      <td>0.708480</td>\n",
       "    </tr>\n",
       "    <tr>\n",
       "      <th>1</th>\n",
       "      <td>df_categorical_2</td>\n",
       "      <td>GridSearchCV(cv=5,\\n             estimator=Pip...</td>\n",
       "      <td>0.680459</td>\n",
       "      <td>0.724447</td>\n",
       "    </tr>\n",
       "    <tr>\n",
       "      <th>3</th>\n",
       "      <td>df_categorical_2</td>\n",
       "      <td>GridSearchCV(cv=5,\\n             estimator=Pip...</td>\n",
       "      <td>0.676518</td>\n",
       "      <td>0.724813</td>\n",
       "    </tr>\n",
       "    <tr>\n",
       "      <th>5</th>\n",
       "      <td>df_categorical_2</td>\n",
       "      <td>GridSearchCV(cv=5,\\n             estimator=Pip...</td>\n",
       "      <td>0.660935</td>\n",
       "      <td>0.746661</td>\n",
       "    </tr>\n",
       "    <tr>\n",
       "      <th>7</th>\n",
       "      <td>df_categorical_2</td>\n",
       "      <td>GridSearchCV(cv=5,\\n             estimator=Pip...</td>\n",
       "      <td>0.660577</td>\n",
       "      <td>0.746710</td>\n",
       "    </tr>\n",
       "    <tr>\n",
       "      <th>4</th>\n",
       "      <td>df_categorical_1</td>\n",
       "      <td>GridSearchCV(cv=5,\\n             estimator=Pip...</td>\n",
       "      <td>0.650725</td>\n",
       "      <td>0.746609</td>\n",
       "    </tr>\n",
       "    <tr>\n",
       "      <th>6</th>\n",
       "      <td>df_categorical_1</td>\n",
       "      <td>GridSearchCV(cv=5,\\n             estimator=Pip...</td>\n",
       "      <td>0.650725</td>\n",
       "      <td>0.746149</td>\n",
       "    </tr>\n",
       "    <tr>\n",
       "      <th>12</th>\n",
       "      <td>df_catogorical_1</td>\n",
       "      <td>VotingClassifier(estimators=[('KNN',\\n        ...</td>\n",
       "      <td>0.684525</td>\n",
       "      <td>0.735941</td>\n",
       "    </tr>\n",
       "    <tr>\n",
       "      <th>13</th>\n",
       "      <td>df_catogorical_1</td>\n",
       "      <td>(StandardScaler(), KNeighborsClassifier(n_neig...</td>\n",
       "      <td>0.705701</td>\n",
       "      <td>0.715544</td>\n",
       "    </tr>\n",
       "  </tbody>\n",
       "</table>\n",
       "</div>"
      ],
      "text/plain": [
       "             dataset                                              model  \\\n",
       "0   df_categorical_1  GridSearchCV(cv=5,\\n             estimator=Pip...   \n",
       "9   df_categorical_2  GridSearchCV(cv=5,\\n             estimator=Pip...   \n",
       "11  df_categorical_2  GridSearchCV(cv=5,\\n             estimator=Pip...   \n",
       "8   df_categorical_1  GridSearchCV(cv=5,\\n             estimator=Pip...   \n",
       "10  df_categorical_1  GridSearchCV(cv=5,\\n             estimator=Pip...   \n",
       "2   df_categorical_1  GridSearchCV(cv=5,\\n             estimator=Pip...   \n",
       "1   df_categorical_2  GridSearchCV(cv=5,\\n             estimator=Pip...   \n",
       "3   df_categorical_2  GridSearchCV(cv=5,\\n             estimator=Pip...   \n",
       "5   df_categorical_2  GridSearchCV(cv=5,\\n             estimator=Pip...   \n",
       "7   df_categorical_2  GridSearchCV(cv=5,\\n             estimator=Pip...   \n",
       "4   df_categorical_1  GridSearchCV(cv=5,\\n             estimator=Pip...   \n",
       "6   df_categorical_1  GridSearchCV(cv=5,\\n             estimator=Pip...   \n",
       "12  df_catogorical_1  VotingClassifier(estimators=[('KNN',\\n        ...   \n",
       "13  df_catogorical_1  (StandardScaler(), KNeighborsClassifier(n_neig...   \n",
       "\n",
       "      recall  precision  \n",
       "0   0.692280   0.708135  \n",
       "9   0.690310   0.719836  \n",
       "11  0.689773   0.716199  \n",
       "8   0.686548   0.702143  \n",
       "10  0.685474   0.702331  \n",
       "2   0.683862   0.708480  \n",
       "1   0.680459   0.724447  \n",
       "3   0.676518   0.724813  \n",
       "5   0.660935   0.746661  \n",
       "7   0.660577   0.746710  \n",
       "4   0.650725   0.746609  \n",
       "6   0.650725   0.746149  \n",
       "12  0.684525   0.735941  \n",
       "13  0.705701   0.715544  "
      ]
     },
     "execution_count": 122,
     "metadata": {},
     "output_type": "execute_result"
    },
    {
     "data": {
      "image/png": "[encoded data removed]",
      "text/plain": [
       "<Figure size 432x288 with 2 Axes>"
      ]
     },
     "metadata": {
      "needs_background": "light"
     },
     "output_type": "display_data"
    }
   ],
   "source": [
    "getEvaMetrics(df_metrics, 'df_catogorical_1', pipe_KNN, X_test_cat1, y_test_cat1)"
   ]
  },
  {
   "cell_type": "markdown",
   "metadata": {},
   "source": [
    "The results is quite encouraging. My best model beats the VotingClassifier by 0.02. "
   ]
  },
  {
   "cell_type": "markdown",
   "metadata": {},
   "source": [
    "---\n",
    "## 2.6 Evalueringar\n",
    "Gör confusion matrices och classification reports för 2.4 och 2.5."
   ]
  },
  {
   "cell_type": "markdown",
   "metadata": {},
   "source": [
    "I presented the matrix and classification reports individually in 2.4 and 2.5."
   ]
  },
  {
   "cell_type": "markdown",
   "metadata": {},
   "source": [
    "---\n",
    "### 2.7 \"Deploy\" - spara modell\n",
    "Börja med att plocka ut 100 slumpmässigt valda rader från ditt dataset. Exportera dessa 100 samples i\n",
    "test_samples.csv. Därefter tar du den bästa modellen och träna på all data vi har förutom de 100\n",
    "datapunkterna du plockade ut. Spara därefter modellen i en .pkl-fil med hjälp av joblib.dump(). För\n",
    "modellen kan du behöva använda argumentet compress för att komprimera om filstorleken för stor."
   ]
  },
  {
   "cell_type": "markdown",
   "metadata": {},
   "source": [
    "**Answers**:\n",
    "Remember I randomly selected 100 samples in the stage of train, validation, test, 100 split. I have 100 samples which did not shown in the previous model selection process. Now I am going to use it as new coming dataset: test_samples.csv."
   ]
  },
  {
   "cell_type": "markdown",
   "metadata": {},
   "source": [
    "I train with alla train validation test data (without 100 patients): to get the final model. save 100 patients data as new patients and use as test data. 100 patients no labels, no evaluation metrics."
   ]
  },
  {
   "cell_type": "code",
   "execution_count": 124,
   "metadata": {},
   "outputs": [],
   "source": [
    "df_100_cat1.to_csv('data/test_samples.csv')"
   ]
  },
  {
   "cell_type": "code",
   "execution_count": 125,
   "metadata": {},
   "outputs": [],
   "source": [
    "X_100 = df_100_cat1.drop(\"cardio\", axis=1)\n",
    "# use only the X part of df_100_cat1"
   ]
  },
  {
   "cell_type": "code",
   "execution_count": 126,
   "metadata": {},
   "outputs": [],
   "source": [
    "# df_remain_cat1 contains the whole dataset without 100 choosen samples.\n",
    "\n",
    "X_remain, y_remain = df_remain_cat1.drop(\"cardio\", axis=1), df_remain_cat1[\"cardio\"] \n"
   ]
  },
  {
   "cell_type": "code",
   "execution_count": null,
   "metadata": {},
   "outputs": [],
   "source": [
    "pipe_KNN.fit(X_remain, y_remain)\n"
   ]
  },
  {
   "cell_type": "code",
   "execution_count": 127,
   "metadata": {},
   "outputs": [
    {
     "data": {
      "text/plain": [
       "['cardio_disease_predictor']"
      ]
     },
     "execution_count": 127,
     "metadata": {},
     "output_type": "execute_result"
    }
   ],
   "source": [
    "import joblib\n",
    "joblib.dump(pipe_KNN, \"cardio_disease_predictor\")"
   ]
  },
  {
   "cell_type": "code",
   "execution_count": 129,
   "metadata": {},
   "outputs": [],
   "source": [
    "# Reload joblib\n",
    "myBestModel = joblib.load('cardio_disease_predictor')"
   ]
  },
  {
   "cell_type": "code",
   "execution_count": 130,
   "metadata": {},
   "outputs": [
    {
     "data": {
      "text/plain": [
       "array([1, 1, 1, 0, 0, 0, 0, 0, 0, 1, 1, 1, 0, 0, 1, 0, 0, 0, 1, 0, 0, 1,\n",
       "       0, 0, 1, 1, 0, 0, 1, 0, 0, 0, 0, 1, 1, 1, 1, 0, 0, 1, 1, 1, 1, 0,\n",
       "       0, 0, 0, 1, 1, 0, 0, 0, 0, 1, 1, 0, 1, 1, 0, 0, 0, 0, 0, 0, 0, 1,\n",
       "       1, 1, 1, 1, 0, 1, 1, 0, 1, 0, 1, 0, 1, 1, 1, 0, 0, 0, 0, 0, 1, 0,\n",
       "       0, 1, 1, 1, 0, 0, 0, 0, 0, 0, 0, 1], dtype=int64)"
      ]
     },
     "execution_count": 130,
     "metadata": {},
     "output_type": "execute_result"
    }
   ],
   "source": [
    "# use the model\n",
    "myBestModel.predict(X_100)"
   ]
  }
 ],
 "metadata": {
  "interpreter": {
   "hash": "4b4b6acbae5a80fa52687d6cfe26b17b58271eb94125fc5bdb7b9b1f3cd1f65d"
  },
  "kernelspec": {
   "display_name": "Python 3.9.6 ('Maskininlarning-Yuna-Liu-sgUjmrCu')",
   "language": "python",
   "name": "python3"
  },
  "language_info": {
   "codemirror_mode": {
    "name": "ipython",
    "version": 3
   },
   "file_extension": ".py",
   "mimetype": "text/x-python",
   "name": "python",
   "nbconvert_exporter": "python",
   "pygments_lexer": "ipython3",
   "version": "3.9.6"
  },
  "orig_nbformat": 4
 },
 "nbformat": 4,
 "nbformat_minor": 2
}
