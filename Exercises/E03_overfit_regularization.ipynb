{
 "cells": [
  {
   "cell_type": "markdown",
   "metadata": {},
   "source": [
    "\n",
    "<a href=\"https://colab.research.google.com/github/kokchun/Maskininlarning-AI21/blob/main/Exercises/E03_overfit_regularization.ipynb\" target=\"_parent\"><img align=\"left\" src=\"https://colab.research.google.com/assets/colab-badge.svg\" alt=\"Open In Colab\"/></a> &nbsp; to see hints and answers."
   ]
  },
  {
   "cell_type": "markdown",
   "metadata": {},
   "source": [
    "---\n",
    "# Overfit and regularization exercises \n",
    "\n",
    "---\n",
    "These are introductory exercises in Machine learning with focus in **overfitting and regularization** .\n",
    "\n",
    "<p class = \"alert alert-info\" role=\"alert\"><b>Note</b> that sometimes you don't get exactly the same answer as I get, but it doesn't neccessarily mean it is wrong. Could be some parameters, randomization, that we have different. Also very important is that in the future there won't be any answer sheets, use your skills in data analysis, mathematics and statistics to back up your work.</p>\n",
    "\n",
    "<p class = \"alert alert-info\" role=\"alert\"><b>Note</b> that in cases when you start to repeat code, try not to. Create functions to reuse code instead. </p>\n",
    "\n",
    "<p class = \"alert alert-info\" role=\"alert\"><b>Remember</b> to use <b>descriptive variable, function, index </b> and <b> column names</b> in order to get readable code </p>\n",
    "\n",
    "The number of stars (\\*), (\\*\\*), (\\*\\*\\*) denotes the difficulty level of the task\n",
    "\n",
    "---"
   ]
  },
  {
   "cell_type": "markdown",
   "metadata": {},
   "source": [
    "## 0. Tips data EDA (*)\n",
    "\n",
    "In the whole exercise, we will work with the \"tips\" dataset from seaborn dataset. Start by loading dataset \"tips\" from the ```load_dataset``` method in seaborn module. The goal will be to use polynomial linear regression to predict tips. \n",
    "\n",
    "&nbsp; a) Start by doing some initial EDA such as info(), describe().\n",
    "\n",
    "&nbsp; b) Use describe only on those columns that are relevant to get statistical information from. Plot the descriptive statistics for each numerical column, with a adequate plot type (e.g. barplot).\n",
    "\n",
    "&nbsp; c) Based on the initial EDA, make some more plots on things you think could be worthwhile to investigate. \n",
    "\n",
    "&nbsp; d) Try discuss your findings with yourself/colleague and draw some conclusions if possible. Note that in reality, it is important to be able to communicate your findings so that other people in your team/customers/stakeholders etc. get an understanding of the data and realizes the importance of your role as a data scientist/analyst.\n",
    "\n",
    "<details>\n",
    "\n",
    "<summary>Answer</summary>\n",
    "\n",
    "\n",
    "b)\n",
    "<img src=\"../assets/df_describe.png\" height=\"300\"/>\n",
    "\n",
    "c) Here are some example plots\n",
    "\n",
    "<img src=\"../assets/tips_EDA.png\" height=\"300\"/>\n",
    "\n",
    "<img src=\"../assets/tips_smoke_sex.png\" width=\"500\"/>\n",
    "\n",
    "<img src=\"../assets/tips_pie_sex.png\" width=\"300\"/>\n",
    "\n",
    "\n",
    "d) For example: \n",
    "- there are almost double amount of females represented in the dataset\n",
    "- there are very few tables with 1 person eating, and they usually give very low tip\n",
    "- female and male tip somewhat similar\n",
    "\n",
    "</details>\n",
    "\n",
    "---"
   ]
  },
  {
   "cell_type": "code",
   "execution_count": 1,
   "metadata": {},
   "outputs": [],
   "source": [
    "import pandas as pd\n",
    "import numpy as np \n",
    "import matplotlib.pyplot as plt \n",
    "import seaborn as sns\n",
    "\n",
    "tips_copy = sns.load_dataset('tips')"
   ]
  },
  {
   "cell_type": "code",
   "execution_count": 2,
   "metadata": {},
   "outputs": [
    {
     "name": "stdout",
     "output_type": "stream",
     "text": [
      "<class 'pandas.core.frame.DataFrame'>\n",
      "RangeIndex: 244 entries, 0 to 243\n",
      "Data columns (total 7 columns):\n",
      " #   Column      Non-Null Count  Dtype   \n",
      "---  ------      --------------  -----   \n",
      " 0   total_bill  244 non-null    float64 \n",
      " 1   tip         244 non-null    float64 \n",
      " 2   sex         244 non-null    category\n",
      " 3   smoker      244 non-null    category\n",
      " 4   day         244 non-null    category\n",
      " 5   time        244 non-null    category\n",
      " 6   size        244 non-null    int64   \n",
      "dtypes: category(4), float64(2), int64(1)\n",
      "memory usage: 7.4 KB\n"
     ]
    }
   ],
   "source": [
    "tips_copy.info()"
   ]
  },
  {
   "cell_type": "code",
   "execution_count": 3,
   "metadata": {},
   "outputs": [
    {
     "data": {
      "text/html": [
       "<div>\n",
       "<style scoped>\n",
       "    .dataframe tbody tr th:only-of-type {\n",
       "        vertical-align: middle;\n",
       "    }\n",
       "\n",
       "    .dataframe tbody tr th {\n",
       "        vertical-align: top;\n",
       "    }\n",
       "\n",
       "    .dataframe thead th {\n",
       "        text-align: right;\n",
       "    }\n",
       "</style>\n",
       "<table border=\"1\" class=\"dataframe\">\n",
       "  <thead>\n",
       "    <tr style=\"text-align: right;\">\n",
       "      <th></th>\n",
       "      <th>count</th>\n",
       "      <th>mean</th>\n",
       "      <th>std</th>\n",
       "      <th>min</th>\n",
       "      <th>25%</th>\n",
       "      <th>50%</th>\n",
       "      <th>75%</th>\n",
       "      <th>max</th>\n",
       "    </tr>\n",
       "  </thead>\n",
       "  <tbody>\n",
       "    <tr>\n",
       "      <th>total_bill</th>\n",
       "      <td>244.0</td>\n",
       "      <td>19.785943</td>\n",
       "      <td>8.902412</td>\n",
       "      <td>3.07</td>\n",
       "      <td>13.3475</td>\n",
       "      <td>17.795</td>\n",
       "      <td>24.1275</td>\n",
       "      <td>50.81</td>\n",
       "    </tr>\n",
       "    <tr>\n",
       "      <th>tip</th>\n",
       "      <td>244.0</td>\n",
       "      <td>2.998279</td>\n",
       "      <td>1.383638</td>\n",
       "      <td>1.00</td>\n",
       "      <td>2.0000</td>\n",
       "      <td>2.900</td>\n",
       "      <td>3.5625</td>\n",
       "      <td>10.00</td>\n",
       "    </tr>\n",
       "    <tr>\n",
       "      <th>size</th>\n",
       "      <td>244.0</td>\n",
       "      <td>2.569672</td>\n",
       "      <td>0.951100</td>\n",
       "      <td>1.00</td>\n",
       "      <td>2.0000</td>\n",
       "      <td>2.000</td>\n",
       "      <td>3.0000</td>\n",
       "      <td>6.00</td>\n",
       "    </tr>\n",
       "  </tbody>\n",
       "</table>\n",
       "</div>"
      ],
      "text/plain": [
       "            count       mean       std   min      25%     50%      75%    max\n",
       "total_bill  244.0  19.785943  8.902412  3.07  13.3475  17.795  24.1275  50.81\n",
       "tip         244.0   2.998279  1.383638  1.00   2.0000   2.900   3.5625  10.00\n",
       "size        244.0   2.569672  0.951100  1.00   2.0000   2.000   3.0000   6.00"
      ]
     },
     "execution_count": 3,
     "metadata": {},
     "output_type": "execute_result"
    }
   ],
   "source": [
    "tips_copy.describe().T"
   ]
  },
  {
   "cell_type": "code",
   "execution_count": 4,
   "metadata": {},
   "outputs": [
    {
     "data": {
      "text/plain": [
       "0"
      ]
     },
     "execution_count": 4,
     "metadata": {},
     "output_type": "execute_result"
    }
   ],
   "source": [
    "tips_copy.isnull().sum().sum()"
   ]
  },
  {
   "cell_type": "code",
   "execution_count": 5,
   "metadata": {},
   "outputs": [
    {
     "data": {
      "text/html": [
       "<div>\n",
       "<style scoped>\n",
       "    .dataframe tbody tr th:only-of-type {\n",
       "        vertical-align: middle;\n",
       "    }\n",
       "\n",
       "    .dataframe tbody tr th {\n",
       "        vertical-align: top;\n",
       "    }\n",
       "\n",
       "    .dataframe thead th {\n",
       "        text-align: right;\n",
       "    }\n",
       "</style>\n",
       "<table border=\"1\" class=\"dataframe\">\n",
       "  <thead>\n",
       "    <tr style=\"text-align: right;\">\n",
       "      <th></th>\n",
       "      <th>total_bill</th>\n",
       "      <th>tip</th>\n",
       "      <th>size</th>\n",
       "    </tr>\n",
       "  </thead>\n",
       "  <tbody>\n",
       "    <tr>\n",
       "      <th>0</th>\n",
       "      <td>16.99</td>\n",
       "      <td>1.01</td>\n",
       "      <td>2</td>\n",
       "    </tr>\n",
       "    <tr>\n",
       "      <th>1</th>\n",
       "      <td>10.34</td>\n",
       "      <td>1.66</td>\n",
       "      <td>3</td>\n",
       "    </tr>\n",
       "    <tr>\n",
       "      <th>2</th>\n",
       "      <td>21.01</td>\n",
       "      <td>3.50</td>\n",
       "      <td>3</td>\n",
       "    </tr>\n",
       "    <tr>\n",
       "      <th>3</th>\n",
       "      <td>23.68</td>\n",
       "      <td>3.31</td>\n",
       "      <td>2</td>\n",
       "    </tr>\n",
       "    <tr>\n",
       "      <th>4</th>\n",
       "      <td>24.59</td>\n",
       "      <td>3.61</td>\n",
       "      <td>4</td>\n",
       "    </tr>\n",
       "  </tbody>\n",
       "</table>\n",
       "</div>"
      ],
      "text/plain": [
       "   total_bill   tip  size\n",
       "0       16.99  1.01     2\n",
       "1       10.34  1.66     3\n",
       "2       21.01  3.50     3\n",
       "3       23.68  3.31     2\n",
       "4       24.59  3.61     4"
      ]
     },
     "execution_count": 5,
     "metadata": {},
     "output_type": "execute_result"
    }
   ],
   "source": [
    "tips_float = tips_copy[['total_bill', 'tip', 'size']]\n",
    "tips_float.head()"
   ]
  },
  {
   "cell_type": "code",
   "execution_count": 6,
   "metadata": {},
   "outputs": [
    {
     "data": {
      "text/html": [
       "<div>\n",
       "<style scoped>\n",
       "    .dataframe tbody tr th:only-of-type {\n",
       "        vertical-align: middle;\n",
       "    }\n",
       "\n",
       "    .dataframe tbody tr th {\n",
       "        vertical-align: top;\n",
       "    }\n",
       "\n",
       "    .dataframe thead th {\n",
       "        text-align: right;\n",
       "    }\n",
       "</style>\n",
       "<table border=\"1\" class=\"dataframe\">\n",
       "  <thead>\n",
       "    <tr style=\"text-align: right;\">\n",
       "      <th></th>\n",
       "      <th>total_bill</th>\n",
       "      <th>tip</th>\n",
       "      <th>size</th>\n",
       "    </tr>\n",
       "  </thead>\n",
       "  <tbody>\n",
       "    <tr>\n",
       "      <th>mean</th>\n",
       "      <td>19.785943</td>\n",
       "      <td>2.998279</td>\n",
       "      <td>2.569672</td>\n",
       "    </tr>\n",
       "    <tr>\n",
       "      <th>std</th>\n",
       "      <td>8.902412</td>\n",
       "      <td>1.383638</td>\n",
       "      <td>0.951100</td>\n",
       "    </tr>\n",
       "    <tr>\n",
       "      <th>min</th>\n",
       "      <td>3.070000</td>\n",
       "      <td>1.000000</td>\n",
       "      <td>1.000000</td>\n",
       "    </tr>\n",
       "    <tr>\n",
       "      <th>25%</th>\n",
       "      <td>13.347500</td>\n",
       "      <td>2.000000</td>\n",
       "      <td>2.000000</td>\n",
       "    </tr>\n",
       "    <tr>\n",
       "      <th>50%</th>\n",
       "      <td>17.795000</td>\n",
       "      <td>2.900000</td>\n",
       "      <td>2.000000</td>\n",
       "    </tr>\n",
       "    <tr>\n",
       "      <th>75%</th>\n",
       "      <td>24.127500</td>\n",
       "      <td>3.562500</td>\n",
       "      <td>3.000000</td>\n",
       "    </tr>\n",
       "    <tr>\n",
       "      <th>max</th>\n",
       "      <td>50.810000</td>\n",
       "      <td>10.000000</td>\n",
       "      <td>6.000000</td>\n",
       "    </tr>\n",
       "  </tbody>\n",
       "</table>\n",
       "</div>"
      ],
      "text/plain": [
       "      total_bill        tip      size\n",
       "mean   19.785943   2.998279  2.569672\n",
       "std     8.902412   1.383638  0.951100\n",
       "min     3.070000   1.000000  1.000000\n",
       "25%    13.347500   2.000000  2.000000\n",
       "50%    17.795000   2.900000  2.000000\n",
       "75%    24.127500   3.562500  3.000000\n",
       "max    50.810000  10.000000  6.000000"
      ]
     },
     "execution_count": 6,
     "metadata": {},
     "output_type": "execute_result"
    }
   ],
   "source": [
    "tips_float_des = tips_float.describe()\n",
    "tips_float_des = tips_float_des[1:]\n",
    "tips_float_des"
   ]
  },
  {
   "cell_type": "markdown",
   "metadata": {},
   "source": [
    "b) Plot the descriptive statistics"
   ]
  },
  {
   "cell_type": "code",
   "execution_count": 7,
   "metadata": {},
   "outputs": [
    {
     "data": {
      "text/plain": [
       "Text(0.5, 1.03, 'Descriptive statisctis of float datatype')"
      ]
     },
     "execution_count": 7,
     "metadata": {},
     "output_type": "execute_result"
    },
    {
     "data": {
      "image/png": "[encoded data removed]",
      "text/plain": [
       "<Figure size 2400x800 with 3 Axes>"
      ]
     },
     "metadata": {
      "needs_background": "light"
     },
     "output_type": "display_data"
    }
   ],
   "source": [
    "fig, axes = plt.subplots(1, tips_float_des.shape[1], figsize=(24,8), dpi=100)\n",
    "for i, feature in enumerate(tips_float_des.columns[:]):\n",
    "    sns.barplot(data=tips_float_des, x=tips_float_des.index, y=feature, ax=axes[i])\n",
    "    \n",
    "fig.tight_layout()\n",
    "fig.suptitle('Descriptive statisctis of float datatype', y=1.03, fontweight='bold')"
   ]
  },
  {
   "cell_type": "markdown",
   "metadata": {},
   "source": [
    "c) Plots"
   ]
  },
  {
   "cell_type": "code",
   "execution_count": null,
   "metadata": {},
   "outputs": [],
   "source": []
  },
  {
   "cell_type": "markdown",
   "metadata": {},
   "source": [
    "## 1. Train|test split (*)\n",
    "\n",
    "Split the data into training part and testing part, using sklearn's train_test_split with test size of 0.3 and random_state 42."
   ]
  },
  {
   "cell_type": "markdown",
   "metadata": {},
   "source": [
    "---\n",
    "## 2. Feature standardization (*)\n",
    "\n",
    "We need to normalize the data and in this case will be using feature standardization. Implement this yourself following this formula:\n",
    "\n",
    "$$X_{train}' = \\frac{X_{train}-\\mu_{train}}{\\sigma_{train}}$$\n",
    "\n",
    "$$X_{test}' = \\frac{X_{test}-\\mu_{train}}{\\sigma_{train}}$$\n",
    "\n",
    ", where $'$ denotes scaled, $\\mu_{train}$ is the mean of the training data, $\\sigma_{train}$ is the standard deviation of the training data. Note that it is very important that the mean and standard deviation is computed from the training data and not from testing data to avoid data leakage. Control the standard deviation and mean of $X_{train}'$ and $X_{test}'$. Is the results as you expect, why, why not?\n",
    "\n",
    "<details>\n",
    "\n",
    "<summary>Answer</summary>\n",
    "\n",
    "scaled_X_train (total_bill, size) mean: [ 6.79195262e-17 -1.98534000e-16]\n",
    "\n",
    "scaled_X_test (total_bill, size) mean: [-0.19137999 -0.04477934]\n",
    "\n",
    "scaled_X_train (total_bill, size) std: [1. 1.]\n",
    "\n",
    "scaled_X_test (total_bill, size) std: [0.92495673 1.06638889]\n",
    "\n",
    "</details>"
   ]
  },
  {
   "cell_type": "markdown",
   "metadata": {},
   "source": [
    "---\n",
    "## 3. Polynomial features (*)\n",
    "\n",
    "We want to investigate ```Polynomialfeatures``` from scikit-klearn in this task. Start by instantiating an object of type ```PolynomialFeatures``` with degree 2. Now do the following: \n",
    "\n",
    "- use the method fit on $X_{train}'$\n",
    "- transform $X_{train}'$\n",
    "- transform $X_{test}'$\n",
    "\n",
    "Compare this transformed $X_{test}'$ with $X_{test}''$ where $X_{test}''$ comes from fitting the polynomial features to $X_{test}'$ and transforming $X_{test}'$. You can check directly by using ```==``` and then sum it up. If the value is same as the length, then you know that they are the same, as a boolean True evaluates to 1. \n"
   ]
  },
  {
   "cell_type": "markdown",
   "metadata": {},
   "source": [
    "---\n",
    "## 4. Polynomial regression  (*)\n",
    "\n",
    "We will now investigate the training loss and testing loss for different degrees of polynomial. Loop through degrees 1 to 4 (inclusive) and:\n",
    "- instantiate an object of PolynomialFeatures with that degree\n",
    "- fit and transform $X_{train}'$ and $X_{test}$ to create polynomial features\n",
    "- perform linear regression on these polynomial features (polynomial regression)\n",
    "- predict on both the training and testing data to record RMSE for training and testing for each iteration of the loop\n",
    "\n",
    "Now plot the results in the same figure. Do you notice anything special? \n",
    "\n",
    "<details>\n",
    "\n",
    "<summary>Answer</summary>\n",
    "\n",
    "<img src=\"../assets/E3_overfitting.png\" height=\"300\"/>\n",
    "\n",
    "</details>"
   ]
  },
  {
   "cell_type": "markdown",
   "metadata": {},
   "source": [
    "---\n",
    "## 5. Regularization methods (*)\n",
    "\n",
    "Now we will try the regularization methods: ridge regression, lasso regression and elasticnet regression. In the following tasks, use degree = 4. \n",
    "\n",
    "&nbsp; a) Use ridge regression with cross-validation and test out different alpha-values. I used $\\alpha=[0.01, 0.1, 0.5, 1, 5, 10]$ in the cross-validation. \n",
    "- Check which alpha, that the cross-validation chose as the best one. \n",
    "- Check the weights.\n",
    "- Check MAE, MSE, RMSE.\n",
    "\n",
    "&nbsp; b) Use lasso regression with cross-validation and choose number of alphas to 100. If you get a warning that the algorithm is not converging, increase the max iterations, I chose 10000 iterations. \n",
    "- Check which alpha, that the cross-validation chose as the best one. \n",
    "- Check the weights.\n",
    "- Check MAE, MSE, RMSE.\n",
    "\n",
    "&nbsp; c) Use elasticnet regression with cross-validation and choose number of alphas to 100. If you get a warning that the algorithm is not converging, increase the max iterations, I chose 10000 iterations. Choose a set of $\\ell_1$ ratios for it to try out. I chose $\\ell_1 = [.001, .01, .05, .1, .5, .9, .95, 1]$\n",
    "- Check which alpha, that the cross-validation chose as the best one. \n",
    "- Check the weights.\n",
    "- Check MAE, MSE, RMSE.\n",
    "\n",
    "<details>\n",
    "\n",
    "<summary>Answer</summary>\n",
    "\n",
    "a) \n",
    "\n",
    "Chosen alpha from cross-validation 5.0\n",
    "\n",
    "Weights: [ 0.          0.91469637  0.23893931 -0.67583593  0.20550801 -0.01369317\n",
    " -0.26007685  0.31867863 -0.03429744 -0.12484035  0.16000319 -0.18105113\n",
    "  0.24878399 -0.12692847  0.05002613]\n",
    "\n",
    "Mean absolute error: 0.831\n",
    "\n",
    "Mean squared error: 2.208\n",
    "\n",
    "Root mean squared error: 1.486\n",
    "\n",
    "b) \n",
    "\n",
    "Chosen alpha from cross-validation 0.208\n",
    "\n",
    "Weights: [ 0.          0.23469707  0.         -0.         -0.          0.\n",
    "  0.08814685  0.09735986  0.          0.03219702  0.          0.\n",
    "  0.         -0.          0.        ]\n",
    "\n",
    "Mean absolute error: 0.823\n",
    "\n",
    "Mean squared error: 1.345\n",
    "\n",
    "Root mean squared error: 1.160\n",
    "\n",
    "c)\n",
    "\n",
    "Chosen alpha from cross-validation 0.107\n",
    "\n",
    "Mean absolute error: 0.761\n",
    "\n",
    "Root mean squared error: 1.139\n",
    "\n",
    "L1_ratio: 0.9\n",
    "\n",
    "Weights: [ 0.          0.23469707  0.         -0.         -0.          0.\n",
    "  0.08814685  0.09735986  0.          0.03219702  0.          0.\n",
    "  0.         -0.          0.        ]\n",
    "\n",
    "\n",
    "</details>"
   ]
  }
 ],
 "metadata": {
  "interpreter": {
   "hash": "4b4b6acbae5a80fa52687d6cfe26b17b58271eb94125fc5bdb7b9b1f3cd1f65d"
  },
  "kernelspec": {
   "display_name": "Python 3.9.6 ('Maskininlarning-Yuna-Liu-sgUjmrCu')",
   "language": "python",
   "name": "python3"
  },
  "language_info": {
   "codemirror_mode": {
    "name": "ipython",
    "version": 3
   },
   "file_extension": ".py",
   "mimetype": "text/x-python",
   "name": "python",
   "nbconvert_exporter": "python",
   "pygments_lexer": "ipython3",
   "version": "3.9.6"
  },
  "orig_nbformat": 4
 },
 "nbformat": 4,
 "nbformat_minor": 2
}
