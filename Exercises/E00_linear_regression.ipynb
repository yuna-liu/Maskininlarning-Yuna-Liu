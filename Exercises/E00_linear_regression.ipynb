{
 "cells": [
  {
   "cell_type": "markdown",
   "metadata": {},
   "source": [
    "\n",
    "<a href=\"https://colab.research.google.com/github/kokchun/Maskininlarning-AI21/blob/main/Exercises/E00_linear_regression.ipynb\" target=\"_parent\"><img align=\"left\" src=\"https://colab.research.google.com/assets/colab-badge.svg\" alt=\"Open In Colab\"/></a> &nbsp; to see hints and answers."
   ]
  },
  {
   "cell_type": "markdown",
   "metadata": {},
   "source": [
    "---\n",
    "# Linear regression exercises\n",
    "\n",
    "---\n",
    "These are introductory exercises in Machine learning with focus in **linear regression** .\n",
    "\n",
    "<p class = \"alert alert-info\" role=\"alert\"><b>Note</b> all datasets used in this exercise can be found under Data folder of the course Github repo</p>\n",
    "\n",
    "<p class = \"alert alert-info\" role=\"alert\"><b>Note</b> that in cases when you start to repeat code, try not to. Create functions to reuse code instead. </p>\n",
    "\n",
    "<p class = \"alert alert-info\" role=\"alert\"><b>Remember</b> to use <b>descriptive variable, function, index </b> and <b> column names</b> in order to get readable code </p>\n",
    "\n",
    "The number of stars (\\*), (\\*\\*), (\\*\\*\\*) denotes the difficulty level of the task\n",
    "\n",
    "---"
   ]
  },
  {
   "cell_type": "markdown",
   "metadata": {},
   "source": [
    "## 0. Simulate phone dataset (*)\n",
    "\n",
    "We want to simulate data $(x,y)$ to represent cost for phone subscriptions, with: \n",
    "\n",
    "- $x$ - called minutes per month\n",
    "- $y$ - SEK per month \n",
    "\n",
    "&nbsp; a) Use ```numpy.random.normal()``` to simulate a dataset with the following requirements:(*)\n",
    "- set a seed to 42 (for reproducibility and reference)\n",
    "- simulate 400 x-values from the r.v. $X \\sim \\mathcal{N}(100, 100)$ \n",
    "- take absolute value of these x-values\n",
    "- simulate noise 400 noise values from r.v. $\\epsilon \\sim \\mathcal{N(0, 50)}$ \n",
    "- Let $y = 2x+25+\\epsilon$\n",
    "- plot the data set \n",
    "\n",
    "&nbsp; b) Now we want to remove some outliers according to this assumption: (*)\n",
    "- no one talks more than 300 min using this type of subscription\n",
    "- no ones costs can be negative\n",
    "- plot the new dataset\n",
    "- also plot ground truth using the true parameters $\\beta_0 = 25, \\beta_1 = 2$\n",
    "\n",
    "&nbsp; c) Insert the values into a DataFrame (*)\n",
    "\n",
    "<details>\n",
    "\n",
    "<summary>Answer</summary>\n",
    "\n",
    "<img src=\"../assets/simulated_phone_dataset_0.png\" height=\"200\"/>\n",
    "\n",
    "a) \n",
    "\n",
    "Number of points x ≥ 300 min: 8\n",
    "\n",
    "Number of points y < 0 kr: 6\n",
    "\n",
    "\n",
    "b)\n",
    "\n",
    "Length of x, outliers removed 386\n",
    "\n",
    "Length of y, outliers removed 386\n",
    "\n",
    "c)\n",
    "\n",
    "df.head()\n",
    "\n",
    "|    |   Minutes |     Cost |\n",
    "|---:|----------:|---------:|\n",
    "|  0 |   59.4428 | 168.721  |\n",
    "|  1 |   40.0625 |  98.2118 |\n",
    "|  2 |  100.524  | 258.433  |\n",
    "|  3 |  104.698  | 310.548  |\n",
    "|  4 |   54.9935 | 123.279  |\n",
    "\n",
    "\n",
    "</details>\n",
    "\n",
    "---"
   ]
  },
  {
   "cell_type": "code",
   "execution_count": 1,
   "metadata": {},
   "outputs": [],
   "source": [
    "import numpy as np\n",
    "import pandas as pd\n",
    "import matplotlib.pyplot as plt\n",
    "import seaborn as sns"
   ]
  },
  {
   "cell_type": "markdown",
   "metadata": {},
   "source": [
    "a) simulate phone dataset"
   ]
  },
  {
   "cell_type": "code",
   "execution_count": 2,
   "metadata": {},
   "outputs": [
    {
     "data": {
      "text/plain": [
       "array([1.49671415e+02, 8.61735699e+01, 1.64768854e+02, 2.52302986e+02,\n",
       "       7.65846625e+01, 7.65863043e+01, 2.57921282e+02, 1.76743473e+02,\n",
       "       5.30525614e+01, 1.54256004e+02, 5.36582307e+01, 5.34270246e+01,\n",
       "       1.24196227e+02, 9.13280245e+01, 7.24917833e+01, 4.37712471e+01,\n",
       "       1.28311203e+00, 1.31424733e+02, 9.19759245e+00, 4.12303701e+01,\n",
       "       2.46564877e+02, 7.74223700e+01, 1.06752820e+02, 4.24748186e+01,\n",
       "       4.55617275e+01, 1.11092259e+02, 1.50993577e+01, 1.37569802e+02,\n",
       "       3.99361310e+01, 7.08306250e+01, 3.98293388e+01, 2.85227818e+02,\n",
       "       9.86502775e+01, 5.77109290e+00, 1.82254491e+02, 2.20843650e+01,\n",
       "       1.20886360e+02, 9.59670124e+01, 3.28186049e+01, 1.19686124e+02,\n",
       "       1.73846658e+02, 1.17136828e+02, 8.84351718e+01, 6.98896304e+01,\n",
       "       4.78521990e+01, 2.80155792e+01, 5.39361229e+01, 2.05712223e+02,\n",
       "       1.34361829e+02, 7.63040155e+01, 1.32408397e+02, 6.14917720e+01,\n",
       "       3.23078000e+01, 1.61167629e+02, 2.03099952e+02, 1.93128012e+02,\n",
       "       1.60782477e+01, 6.90787624e+01, 1.33126343e+02, 1.97554513e+02,\n",
       "       5.20825762e+01, 8.14341023e+01, 1.06334974e+01, 1.96206624e+01,\n",
       "       1.81252582e+02, 2.35624003e+02, 9.27989878e+01, 2.00353290e+02,\n",
       "       1.36163603e+02, 3.54880245e+01, 1.36139561e+02, 2.53803657e+02,\n",
       "       9.64173961e+01, 2.56464366e+02, 1.61974510e+02, 1.82190250e+02,\n",
       "       1.08704707e+02, 7.00992650e+01, 1.09176078e+02, 9.87568915e+01,\n",
       "       7.80328112e+01, 1.35711257e+02, 2.47789404e+02, 4.81729782e+01,\n",
       "       1.91506397e+01, 4.98242956e+01, 1.91540212e+02, 1.32875111e+02,\n",
       "       4.70239796e+01, 1.51326743e+02, 1.09707755e+02, 1.96864499e+02,\n",
       "       2.97946906e+01, 6.72337853e+01, 6.07891847e+01, 4.63514948e+01,\n",
       "       1.29612028e+02, 1.26105527e+02, 1.00511346e+02, 7.65412867e+01,\n",
       "       4.15370742e+01, 5.79354677e+01, 6.57285483e+01, 1.97722731e+01,\n",
       "       8.38714288e+01, 1.40405086e+02, 2.88618590e+02, 1.17457781e+02,\n",
       "       1.25755039e+02, 9.25554084e+01, 9.18771215e+01, 9.73486125e+01,\n",
       "       1.06023021e+02, 3.46324211e+02, 8.07639035e+01, 1.30154734e+02,\n",
       "       9.65288230e+01, 1.68678038e+01, 2.14282281e+02, 1.75193303e+02,\n",
       "       1.79103195e+02, 9.06125452e+00, 2.40279431e+02, 4.01851063e+01,\n",
       "       1.58685709e+02, 3.19045563e+02, 9.46367487e-01, 4.33702270e+01,\n",
       "       1.09965137e+02, 4.96524346e+01, 5.50663431e+01, 1.06856297e+02,\n",
       "       6.23037137e+00, 1.47359243e+02, 8.05757658e+00, 2.54993441e+02,\n",
       "       2.16746708e+01, 6.77938484e+01, 1.81351722e+02, 2.30864316e+01,\n",
       "       1.22745993e+02, 2.30714275e+02, 6.07483235e+01, 1.18463386e+02,\n",
       "       1.25988279e+02, 1.78182287e+02, 2.36950711e+01, 3.20456613e+01,\n",
       "       1.52194157e+02, 1.29698467e+02, 1.25049285e+02, 1.34644821e+02,\n",
       "       3.19975278e+01, 1.23225370e+02, 1.29307247e+02, 2.85648582e+01,\n",
       "       2.86577451e+02, 1.47383292e+02, 1.91303497e+01, 1.65655361e+02,\n",
       "       2.53183298e+00, 1.78708460e+02, 2.15859558e+02, 1.79317682e+01,\n",
       "       1.96337613e+02, 1.41278093e+02, 1.82206016e+02, 2.89679298e+02,\n",
       "       7.54611884e+01, 2.46263836e+01, 1.10485570e+01, 1.84189715e+01,\n",
       "       9.22898291e+01, 1.34115197e+02, 1.27669080e+02, 1.82718325e+02,\n",
       "       1.01300189e+02, 2.45353408e+02, 7.35343167e+01, 3.72016917e+02,\n",
       "       1.62566735e+02, 1.42842444e+01, 7.08924981e+00, 1.48247242e+02,\n",
       "       7.76537215e+01, 1.71400049e+02, 1.47323762e+02, 9.27171087e+01,\n",
       "       1.53206282e+01, 5.14847225e+01, 5.53485048e+01, 1.85639879e+02,\n",
       "       1.21409374e+02, 2.45738779e+01, 1.17318093e+02, 1.38531738e+02,\n",
       "       1.16142564e+01, 1.15372511e+02, 1.05820872e+02, 1.42970298e+01,\n",
       "       1.35778736e+02, 1.56078453e+02, 2.08305124e+02, 2.05380205e+02,\n",
       "       3.77669368e+01, 6.21749601e+00, 1.51503527e+02, 1.51378595e+02,\n",
       "       1.51504769e+02, 4.85273149e+02, 1.57089051e+02, 2.13556564e+02,\n",
       "       1.95400176e+02, 1.65139125e+02, 6.84730755e+01, 1.75896922e+02,\n",
       "       2.27174785e+01, 7.63181393e+01, 5.14636452e+01, 1.08187414e+02,\n",
       "       3.31465857e+02, 8.67265193e+01, 1.68626019e+02, 6.12715871e+01,\n",
       "       5.28068134e+01, 2.08895060e+02, 1.06428002e+02, 7.77447779e+00,\n",
       "       2.84696291e+01, 1.67959775e+02, 2.69633368e+01, 1.21645859e+02,\n",
       "       1.04557184e+02, 3.48399652e+01, 3.14394409e+02, 1.63391902e+02,\n",
       "       1.02514259e+02, 1.18645431e+02, 3.38213535e+01, 1.85243333e+02,\n",
       "       2.07479262e+01, 8.85263559e+01, 1.50498728e+02, 1.86575519e+02,\n",
       "       2.00296407e+01, 6.65498764e+01, 5.25054689e+01, 3.46670767e+01,\n",
       "       2.76545424e+02, 1.40498171e+02, 2.60883954e+01, 1.91786195e+02,\n",
       "       3.12215620e+02, 2.03246526e+02, 5.19369966e+01, 5.15765927e+01,\n",
       "       2.26691115e+02, 2.92330534e+01, 1.44381943e+02, 1.77463405e+02,\n",
       "       7.30695284e+00, 9.40474644e+01, 2.24126734e+02, 2.43876413e+00,\n",
       "       7.47431849e+01, 2.47783182e+01, 2.63241130e+02, 4.30141378e+01,\n",
       "       5.59955513e+01, 1.13074058e+02, 2.44127329e+02, 4.35862151e+01,\n",
       "       2.16316375e+02, 1.01023306e+02, 1.84913490e+00, 1.46210347e+02,\n",
       "       1.19905970e+02, 3.99783123e+01, 1.06980208e+02, 6.14686403e+01,\n",
       "       1.11351735e+02, 1.66213067e+02, 2.58601682e+02, 2.37815499e+01,\n",
       "       3.13303337e+02, 9.52087800e+01, 8.48214905e+01, 1.58831721e+02,\n",
       "       1.28099187e+02, 3.77300480e+01, 7.91877750e+01, 5.06999065e+01,\n",
       "       4.10635243e+01, 1.84960210e+02, 1.35701549e+02, 3.07090405e+01,\n",
       "       1.89959988e+02, 1.30729952e+02, 1.81286212e+02, 1.62962884e+02,\n",
       "       1.71004989e+01, 4.39818960e+01, 1.74729361e+02, 1.61037027e+02,\n",
       "       9.79098406e+01, 1.11732738e+02, 2.27766490e+02, 4.08428611e+01,\n",
       "       1.54709738e+02, 7.97807348e+01, 7.82318797e+01, 2.09877685e+02,\n",
       "       1.82541635e+02, 1.81350964e+02, 2.30547881e+02, 1.02100384e+02,\n",
       "       1.68195297e+02, 6.89733243e+01, 1.32416635e+02, 8.69856946e+01,\n",
       "       1.09699596e+02, 1.59515703e+02, 1.81779317e+01, 3.09238728e+02,\n",
       "       6.01738150e-01, 2.14188613e+01, 2.15811087e+02, 1.79166269e+02,\n",
       "       1.62411982e+02, 1.62834551e+02, 9.87753227e+01, 1.02745629e+01,\n",
       "       1.07580456e+02, 3.22838288e+01, 1.97511973e+02, 8.52942618e+01,\n",
       "       1.74502803e+01, 6.78614158e+01, 1.41293145e+02, 4.36275447e+01,\n",
       "       1.77779604e+01, 1.24368721e+02, 1.24496657e+02, 4.93056825e+01,\n",
       "       5.28961694e+01, 1.23204994e+02, 4.48084341e+01, 4.07463774e+01,\n",
       "       2.81555779e+01, 7.86552848e+01, 1.31090757e+02, 2.47535622e+02,\n",
       "       1.85765962e+02, 8.40061470e+01, 9.80983792e+01, 2.52936464e-01,\n",
       "       9.81486864e+01, 7.11341361e+01, 1.32271856e+02, 1.72769056e+01,\n",
       "       1.51934651e+02, 2.53273891e+02, 8.91239852e+01, 1.40171172e+02,\n",
       "       1.69014399e+02, 5.98779528e+01, 1.22409248e+02, 1.01259240e+02,\n",
       "       1.09767610e+02, 2.26990216e+01, 1.02451017e+02, 1.49799829e+02,\n",
       "       2.45114361e+02, 1.95927083e+02, 3.15318246e+02, 2.32652437e+01,\n",
       "       1.87232064e+02, 1.18334201e+02, 3.18980293e+02, 1.91701715e+01,\n",
       "       1.60278158e+01, 4.00607355e+01, 1.12389572e+02, 4.74244978e+01,\n",
       "       2.40867338e+01, 1.15039379e+02, 1.34175598e+02, 2.87617084e+02,\n",
       "       1.95042384e+02, 4.23096344e+01, 1.01585329e+01, 1.49191917e+02,\n",
       "       3.20233207e+01, 2.83145877e+02, 2.17944012e+02, 5.30824348e+01,\n",
       "       7.13134529e+01, 2.35387237e+02, 8.85460155e+01, 2.23781631e+02])"
      ]
     },
     "execution_count": 2,
     "metadata": {},
     "output_type": "execute_result"
    }
   ],
   "source": [
    "mu=100\n",
    "sigma=100\n",
    "size=400\n",
    "np.random.seed(42)\n",
    "phone_x=np.abs(np.random.normal(mu,sigma,size))\n",
    "phone_x"
   ]
  },
  {
   "cell_type": "code",
   "execution_count": 3,
   "metadata": {},
   "outputs": [
    {
     "data": {
      "text/plain": [
       "array([ -79.72138294,  -29.96875115,    0.26218499,    2.34902969,\n",
       "        -22.50327357,   31.14249662,  -53.38102147,   -7.11897425,\n",
       "          6.01478159,   25.7219417 ,   35.5807439 ,  -56.23210459,\n",
       "        -76.70570854,   63.88384109,   16.6157006 ,  -37.42432683,\n",
       "         77.55759878,    5.78373171,   58.9648592 ,    3.37592407,\n",
       "        103.03739624,   87.76704212,  -12.44820742,   48.57854755,\n",
       "         32.26879748,   68.43157788,  -48.24617303,   34.302573  ,\n",
       "         52.92122434,  -87.93697432,  -59.16292563, -101.96160889,\n",
       "        -13.47034172,   35.87711279,   75.1178526 ,    3.70473902,\n",
       "         81.43077728,  -69.00507291,  -85.16912197,   -2.77738494,\n",
       "         19.20327245,   -1.6347374 , -103.372105  ,   -4.45600198,\n",
       "        -65.22347503,   33.48362744,   18.3299123 ,  -46.99398932,\n",
       "        -25.69334587,  -52.96067609,   -3.13395486,   47.75711603,\n",
       "        -49.28630232,   25.20232578,  -26.51288092,  -39.64364161,\n",
       "         -5.351518  ,  -51.76211612,  -27.68246527,  -59.89389463,\n",
       "         98.23625665,    1.7631776 ,  -34.9862754 ,   10.69899554,\n",
       "         -5.61640248,  -11.04847998,   30.708335  ,   37.8753855 ,\n",
       "        -26.52505738,  -28.79091203,  -13.75258486, -115.09605824,\n",
       "        -75.75955311,   68.34371337,   82.24838568,  -12.45180198,\n",
       "         28.82784815,   15.56250773,  153.94404042,   55.97874557,\n",
       "         -6.39587957,  -47.77702203,  -80.32231601,   10.17318179,\n",
       "        -37.81753726,  -71.11268548,  -32.32864421,  -54.07740018,\n",
       "         84.35708175,   44.08198785,   -0.39863207,   73.99720694,\n",
       "          3.86841538,  -43.06421007,   76.15620386,   26.94550218,\n",
       "        -51.86230772,   -9.5169339 ,  -43.78091267,  -69.13998655,\n",
       "         46.30887738,   95.47083202,  -69.92837869,   28.14846183,\n",
       "        -32.53212846,  -24.35626919,  -29.61969621,  -43.19953848,\n",
       "          2.4260814 ,  -41.54750582,   13.52284129,   -2.51190547,\n",
       "        -11.94740234,  -45.3781831 ,  -28.83856653,   37.76956129,\n",
       "         25.04585938,  -48.87776224,    4.96661527,   37.56935617,\n",
       "        -83.47026406,   27.16800962,  -33.13118795,   28.52993343,\n",
       "        -38.16295783,  -90.24410503,  -81.37712189,    2.40424733,\n",
       "         12.98612509,  -45.21583126,   31.92962294,  -83.07600311,\n",
       "         -3.30398993,  -60.55080999,  -32.59180539,    2.36993357,\n",
       "        -43.02066826,  -19.22777721,   50.31464046,  -28.84459348,\n",
       "         41.7846056 ,  -56.48534273,   26.4902089 ,   72.07843103,\n",
       "       -123.58222501,  -39.84476277,   28.85360636,  -10.1522693 ,\n",
       "         18.55729367,  -30.19925934,    4.32948937,   -7.78386177,\n",
       "         58.38910308,   12.72104217,   16.8801331 ,  -20.59384831,\n",
       "        -24.3803112 ,  -21.62790939,   19.72260712,  -21.04922404,\n",
       "         14.48874284,  103.77003993,   43.55623517,  -16.30117661,\n",
       "         60.06069611,  -20.40376865, -101.90622676,  -50.40431555,\n",
       "        -93.53959605,  -17.5756742 ,    0.92091896,   83.82186561,\n",
       "         16.34636869,  -10.95502644,   41.47027906, -110.55676545,\n",
       "         11.78072791,   38.54325969,  -73.92931229,   57.18770216,\n",
       "         16.92482037,  -20.7643957 ,   31.63909331,  113.53464289,\n",
       "          9.09331275,   12.41102932,  -22.96804498,  -42.49221847,\n",
       "         41.51679083,  -42.8041913 ,    3.57831186,  -23.88287234,\n",
       "         23.94899129,   16.68310526,   51.87699721,  -25.50081994,\n",
       "        -13.49374676,  -48.93818579,  -22.214663  ,   18.86502465,\n",
       "         37.84943083,  -46.10826621,   43.48029601,   67.78189294,\n",
       "         20.67174516,   93.83979063,  -38.68945996,  -62.23273517,\n",
       "        -88.93601245,   74.80221557,   32.71828282,   -2.77923355,\n",
       "         13.99843132,  -56.27445236,  122.28759898,    6.4610591 ,\n",
       "          5.46973973,   36.28833119,   24.05046159,   11.19420121,\n",
       "        -39.52372277,   23.57341786,   94.10122482,   67.27100231,\n",
       "         79.65933133,  -25.56078382,  -49.48024101,   -6.289346  ,\n",
       "          2.78624561,   54.70957592,  -84.62323149,   76.47751597,\n",
       "         -7.90039493,  -21.3440535 ,  -50.60521876,  -82.74283359,\n",
       "         41.1585292 ,    3.66589836,  -64.49804499,  -64.7539386 ,\n",
       "        -16.78923496,   83.45107626,  -12.97956757,  -75.15714766,\n",
       "        -12.2871532 ,  -13.63617849, -134.84433215,   -2.71474333,\n",
       "        -11.54672651,   34.81031824,   92.44780475,   56.32825148,\n",
       "        -13.44443453,  -55.32629544,  128.66799016,    2.9609217 ,\n",
       "          0.6964646 ,   -1.20625436,    9.90423804,   -7.2180206 ,\n",
       "        -28.68310034,  -27.34294706,   -1.63766351,  -27.17123856,\n",
       "        -35.64228913,    5.32151138,  -12.74886087,   75.19964943,\n",
       "       -132.54849042,   54.5753426 ,   62.30425962, -103.66951162,\n",
       "        -17.1343797 ,  -18.5720433 ,  -70.37558474,  -38.89083438,\n",
       "        -55.52879227,   87.61352217,   46.78391966,   63.57775475,\n",
       "         36.0836032 ,  -56.45258856,  -26.22601331,   24.46872806,\n",
       "        -61.10639044,   35.64992151,  -12.01626991,  -18.74104038,\n",
       "         35.54799841,   22.21316557,  -18.04830829,   57.96649017,\n",
       "        -54.05316638,   30.79678035,   29.6550629 ,  -15.47732197,\n",
       "         16.30665111,  -62.55567882,   46.20135096,   -9.24510682,\n",
       "        -26.13615103,   52.45046129,  -35.21718453,  -70.42306482,\n",
       "        -77.83145868,   30.30049757,  -64.02146762,   87.7397091 ,\n",
       "       -104.09647039,   84.82281841,   10.55087336,   -4.83565559,\n",
       "        -27.24595434,   19.95680572,   -1.88173512,   55.1650941 ,\n",
       "          5.71138243,    7.51508807,  -18.18061061,   -2.84728119,\n",
       "         15.39008844,  -85.50841963,  -67.40927111,   37.1632047 ,\n",
       "          8.54327191,   -9.19916682,    0.92169665,   17.37908527,\n",
       "        -26.98798402,  -38.91523627,    9.79226275,  -48.91863888,\n",
       "         20.41263779,  -85.12918021,   51.45778187,   23.62987412,\n",
       "         12.80148672,   49.1345492 ,   83.27372222,   50.71850325,\n",
       "        -92.04371157,  -63.97884834,  -31.24092888,    1.30455251,\n",
       "         25.88295102,  -36.28719066,    9.33833822,  -37.76914662,\n",
       "        -30.57589015,  -70.33305484,  -46.16166231,  -67.58423028,\n",
       "        -48.79366265,   52.68208983,  -47.46994444,  131.61910324,\n",
       "         24.66589504,    9.24180618,  -42.91788901,   35.01549397,\n",
       "        -28.78189131,    6.10049073,  128.00422691,   -4.80299499,\n",
       "         57.46366631,  -35.15882126,   -1.74942452,   88.54003178,\n",
       "        -31.34835289,   90.6224279 ,   35.38759677,  -28.12333879,\n",
       "         31.62038695,   48.62772248,   31.09049811,  -78.51123599,\n",
       "        -36.35685879,  -12.37593178,   -3.72167146,   31.03360488,\n",
       "          8.88505005,  -66.76721794,   19.00989255,   30.52928726,\n",
       "         27.9895224 ,   54.03903628,   41.69610773,   22.95900396,\n",
       "         -3.50828557,  -83.04804668,   21.48091096,   10.38438436,\n",
       "         13.57894186,  -63.83742879,  -54.05282702,   52.65764267,\n",
       "         -1.97775769,   34.07503487,    1.41591881,    1.48780697])"
      ]
     },
     "execution_count": 3,
     "metadata": {},
     "output_type": "execute_result"
    }
   ],
   "source": [
    "error_term = np.random.normal(loc=0,scale=50,size=400)\n",
    "error_term"
   ]
  },
  {
   "cell_type": "code",
   "execution_count": 4,
   "metadata": {},
   "outputs": [
    {
     "data": {
      "text/plain": [
       "array([ 244.62144766,  167.37838862,  354.79989261,  531.95500097,\n",
       "        155.66605148,  209.31510523,  487.46154163,  371.36797158,\n",
       "        137.1199044 ,  359.23395042,  167.89720534,   75.62194469,\n",
       "        196.68674578,  271.53989003,  186.5992671 ,   75.11816732,\n",
       "        105.12382284,  293.63319823,  102.3600441 ,  110.83666434,\n",
       "        621.16715003,  267.61178202,  226.05743351,  158.52818479,\n",
       "        148.39225257,  315.61609582,    6.95254246,  334.44217667,\n",
       "        157.79348636,   78.72427572,   45.49575192,  493.49402801,\n",
       "        208.83021333,   72.41929858,  464.62683503,   72.87346902,\n",
       "        348.20349628,  147.92895187,    5.46808781,  261.59486223,\n",
       "        391.89658845,  257.63891883,   98.49823852,  160.32325891,\n",
       "         55.48092305,  114.51478576,  151.20215811,  389.43045593,\n",
       "        268.03031205,  124.64735498,  286.68283902,  195.74065994,\n",
       "         40.32929762,  372.53758354,  404.68702358,  371.61238221,\n",
       "         51.80497736,  111.39540871,  263.57022101,  360.2151308 ,\n",
       "        227.40140908,  189.63138227,   11.2807194 ,   74.94032035,\n",
       "        381.88876199,  485.19952574,  241.30631069,  463.58196508,\n",
       "        270.80214763,   67.18513705,  283.52653624,  417.51125506,\n",
       "        142.07523907,  606.27244454,  431.19740649,  376.9286989 ,\n",
       "        271.2372618 ,  180.76103763,  397.29619573,  278.49252849,\n",
       "        174.66974286,  248.64549227,  440.25649294,  131.51913814,\n",
       "         25.48374216,   53.5359058 ,  375.75177933,  236.67282175,\n",
       "        203.405041  ,  371.73547447,  244.0168778 ,  492.72620505,\n",
       "         88.45779661,  116.40336061,  222.73457324,  144.64849181,\n",
       "        232.3617477 ,  267.69412053,  182.24177866,  108.94258678,\n",
       "        154.38302579,  236.34176747,   86.528718  ,   92.69300799,\n",
       "        160.21072921,  281.45390217,  572.61748403,  216.71602408,\n",
       "        278.93615954,  168.56331103,  222.27708435,  217.18531944,\n",
       "        225.09863964,  672.27023939,  157.68924052,  323.07902976,\n",
       "        243.10350544,    9.85784528,  458.53117817,  412.95596271,\n",
       "        299.73612535,   70.29051866,  472.42767424,  133.90014599,\n",
       "        304.20846093,  572.84702013,  -54.48438692,  114.14470141,\n",
       "        257.9163981 ,   79.08903792,  167.06230915,  155.63659185,\n",
       "         34.15675281,  259.16767614,    8.52334776,  537.35681457,\n",
       "         25.32867327,  141.35991955,  438.01808393,   42.32826981,\n",
       "        312.27659252,  429.94320812,  172.98685581,  334.00520274,\n",
       "        153.39433384,  341.51981158,  101.24374853,   78.93905331,\n",
       "        347.94560679,  254.19767531,  279.42805944,  286.50578013,\n",
       "        147.38415877,  284.1717816 ,  300.49462776,   61.53586809,\n",
       "        573.77459103,  298.13867479,   82.98330656,  335.26149769,\n",
       "         44.5524088 ,  486.18696068,  500.27535097,   44.56235972,\n",
       "        477.73592196,  287.15241674,  287.50580524,  553.95428098,\n",
       "         82.38278075,   56.67709293,   48.01803303,  145.65980862,\n",
       "        225.92602681,  282.27536852,  321.80843893,  279.87988436,\n",
       "        239.38110628,  554.25007513,   98.13932106,  826.22153548,\n",
       "        367.05828993,   32.80409302,   70.81759292,  435.02912594,\n",
       "        189.40075569,  380.21112813,  296.67947994,  167.941999  ,\n",
       "         97.15804721,   85.16525364,  139.27532145,  372.39688653,\n",
       "        291.76774011,   90.83086101,  311.51318238,  276.562656  ,\n",
       "         34.734766  ,  206.8068354 ,  214.42708069,   72.45908422,\n",
       "        334.4069029 ,  291.04863906,  485.09054464,  503.54230335,\n",
       "        121.20561875,  131.27478264,  289.31759349,  265.52445502,\n",
       "        239.07352482, 1070.34851371,  371.89638496,  449.33389449,\n",
       "        429.79878401,  299.0037979 ,  284.23375005,  383.2549032 ,\n",
       "         75.90469682,  213.92460985,  151.97775202,  252.56902909,\n",
       "        648.40799056,  222.02645638,  456.3532629 ,  214.81417655,\n",
       "        210.27295817,  417.22933557,  188.37576281,   34.25960958,\n",
       "         84.72550376,  415.62912571,   -5.69655783,  344.76923389,\n",
       "        226.21397305,   73.33587698,  603.1835991 ,  269.04097087,\n",
       "        271.18704653,  265.95676131,   28.14466206,  330.73272836,\n",
       "         49.70661735,  285.50378797,  313.01788823,  322.99389118,\n",
       "         52.77212821,  144.46357434,   -4.83339438,   91.61941016,\n",
       "        566.54412155,  340.80666043,  169.62459561,  464.90064089,\n",
       "        635.98680487,  376.16675667,  257.54198335,  131.11410713,\n",
       "        479.07869443,   82.25985252,  323.66812367,  372.70879009,\n",
       "         10.93080534,  185.75198173,  471.6158045 ,    2.70628971,\n",
       "        138.84408059,   79.87814778,  538.73339992,  186.22792502,\n",
       "          4.44261224,  305.72345805,  575.55891744,    8.50291862,\n",
       "        440.49837073,  208.4745689 ,  -41.67731495,  278.52986047,\n",
       "        209.28314684,  192.57014674,  285.74433666,  211.51503538,\n",
       "        283.78707225,  300.97354634,  515.97734992,   97.03182783,\n",
       "        590.50028449,  251.06748141,  182.62671108,  323.92240092,\n",
       "        316.74637196,  122.67326161,  165.32724164,  184.36630324,\n",
       "         53.07388223,  425.71719975,  326.05816009,   70.94075898,\n",
       "        421.2266262 ,  223.90422536,  433.77377473,  341.68066156,\n",
       "         33.06484679,  165.41425325,  339.2415365 ,  276.65098827,\n",
       "        142.98822253,  278.76597423,  416.51151153,  194.42543133,\n",
       "        230.32300584,  269.38428793,  192.01463271,  439.9197148 ,\n",
       "        362.83731546,  407.65873292,  484.21402631,  284.36586243,\n",
       "        367.10197669,  170.46173675,  271.65265989,  196.12410794,\n",
       "        259.78928144,  258.52298545,   -6.05340775,  680.64065984,\n",
       "         34.74674821,   58.63855574,  457.54387135,  400.71162406,\n",
       "        322.83597939,  311.75386558,  232.34290819,   -3.36951318,\n",
       "        260.57354942,    4.43847749,  471.48172855,  219.21839782,\n",
       "         72.70204736,  209.85738087,  390.86001308,  162.97359269,\n",
       "        -31.48779068,  209.75859396,  242.75238534,  124.91591744,\n",
       "        156.6752899 ,  235.12279681,  123.95520652,   68.72360826,\n",
       "         50.7352656 ,  111.97751482,  241.01985081,  452.48701311,\n",
       "        347.73826199,  245.69438384,  173.72681398,  157.12497617,\n",
       "        245.96326785,  176.5100784 ,  246.62582306,   94.56930526,\n",
       "        300.08741154,  537.64827333,  331.25219722,  300.53934943,\n",
       "        420.49246466,  109.59708437,  268.06907184,  316.05851194,\n",
       "        213.18686682,  161.02047113,  265.28963162,  296.47631945,\n",
       "        546.84910851,  465.4818877 ,  686.72698961,   -6.98074857,\n",
       "        363.10726855,  249.29246937,  659.23891519,   94.37394781,\n",
       "         65.94068161,   38.35425298,  268.78903741,  150.37828293,\n",
       "        101.16299009,  309.11779357,  335.04730288,  623.1931718 ,\n",
       "        411.57648206,   26.57122219,   66.79797669,  333.76821866,\n",
       "        102.62558326,  527.45432438,  406.83519712,  183.82251225,\n",
       "        165.64914813,  529.8495097 ,  203.50794976,  474.05106937])"
      ]
     },
     "execution_count": 4,
     "metadata": {},
     "output_type": "execute_result"
    }
   ],
   "source": [
    "def y(x): return 2*x+25+error_term\n",
    "def y_truth(x): return 2*x+25\n",
    "phone_y = y(phone_x)\n",
    "phone_y"
   ]
  },
  {
   "cell_type": "code",
   "execution_count": 5,
   "metadata": {},
   "outputs": [
    {
     "data": {
      "text/html": [
       "<div>\n",
       "<style scoped>\n",
       "    .dataframe tbody tr th:only-of-type {\n",
       "        vertical-align: middle;\n",
       "    }\n",
       "\n",
       "    .dataframe tbody tr th {\n",
       "        vertical-align: top;\n",
       "    }\n",
       "\n",
       "    .dataframe thead th {\n",
       "        text-align: right;\n",
       "    }\n",
       "</style>\n",
       "<table border=\"1\" class=\"dataframe\">\n",
       "  <thead>\n",
       "    <tr style=\"text-align: right;\">\n",
       "      <th></th>\n",
       "      <th>y</th>\n",
       "      <th>x</th>\n",
       "      <th>error term</th>\n",
       "    </tr>\n",
       "  </thead>\n",
       "  <tbody>\n",
       "    <tr>\n",
       "      <th>count</th>\n",
       "      <td>400.000000</td>\n",
       "      <td>400.000000</td>\n",
       "      <td>400.000000</td>\n",
       "    </tr>\n",
       "    <tr>\n",
       "      <th>mean</th>\n",
       "      <td>253.238056</td>\n",
       "      <td>115.077633</td>\n",
       "      <td>-1.917210</td>\n",
       "    </tr>\n",
       "    <tr>\n",
       "      <th>std</th>\n",
       "      <td>164.248516</td>\n",
       "      <td>80.175179</td>\n",
       "      <td>50.337080</td>\n",
       "    </tr>\n",
       "    <tr>\n",
       "      <th>min</th>\n",
       "      <td>-54.484387</td>\n",
       "      <td>0.252936</td>\n",
       "      <td>-134.844332</td>\n",
       "    </tr>\n",
       "    <tr>\n",
       "      <th>25%</th>\n",
       "      <td>131.234614</td>\n",
       "      <td>48.092783</td>\n",
       "      <td>-37.510532</td>\n",
       "    </tr>\n",
       "    <tr>\n",
       "      <th>50%</th>\n",
       "      <td>242.927945</td>\n",
       "      <td>106.804559</td>\n",
       "      <td>-1.693544</td>\n",
       "    </tr>\n",
       "    <tr>\n",
       "      <th>75%</th>\n",
       "      <td>347.790098</td>\n",
       "      <td>163.736140</td>\n",
       "      <td>31.103498</td>\n",
       "    </tr>\n",
       "    <tr>\n",
       "      <th>max</th>\n",
       "      <td>1070.348514</td>\n",
       "      <td>485.273149</td>\n",
       "      <td>153.944040</td>\n",
       "    </tr>\n",
       "  </tbody>\n",
       "</table>\n",
       "</div>"
      ],
      "text/plain": [
       "                 y           x  error term\n",
       "count   400.000000  400.000000  400.000000\n",
       "mean    253.238056  115.077633   -1.917210\n",
       "std     164.248516   80.175179   50.337080\n",
       "min     -54.484387    0.252936 -134.844332\n",
       "25%     131.234614   48.092783  -37.510532\n",
       "50%     242.927945  106.804559   -1.693544\n",
       "75%     347.790098  163.736140   31.103498\n",
       "max    1070.348514  485.273149  153.944040"
      ]
     },
     "execution_count": 5,
     "metadata": {},
     "output_type": "execute_result"
    }
   ],
   "source": [
    "phone_df = pd.DataFrame({'y':phone_y, 'x':phone_x, 'error term': error_term})\n",
    "phone_df.describe()"
   ]
  },
  {
   "cell_type": "code",
   "execution_count": 6,
   "metadata": {},
   "outputs": [
    {
     "data": {
      "text/plain": [
       "([Text(0.5, 0, 'called minutes per month'),\n",
       "  Text(0, 0.5, 'sek per month'),\n",
       "  Text(0.5, 1.0, 'phone subscription')],)"
      ]
     },
     "execution_count": 6,
     "metadata": {},
     "output_type": "execute_result"
    },
    {
     "data": {
      "image/png": "[encoded data removed]",
      "text/plain": [
       "<Figure size 800x300 with 1 Axes>"
      ]
     },
     "metadata": {
      "needs_background": "light"
     },
     "output_type": "display_data"
    }
   ],
   "source": [
    "fig, ax = plt.subplots(figsize=(8,3),dpi=100)\n",
    "sns.scatterplot(data=phone_df, x='x', y='y')\n",
    "ax.set(xlabel='called minutes per month', ylabel='sek per month', title='phone subscription'),"
   ]
  },
  {
   "cell_type": "markdown",
   "metadata": {},
   "source": [
    "b) remove outliers"
   ]
  },
  {
   "cell_type": "code",
   "execution_count": 7,
   "metadata": {},
   "outputs": [
    {
     "data": {
      "text/html": [
       "<div>\n",
       "<style scoped>\n",
       "    .dataframe tbody tr th:only-of-type {\n",
       "        vertical-align: middle;\n",
       "    }\n",
       "\n",
       "    .dataframe tbody tr th {\n",
       "        vertical-align: top;\n",
       "    }\n",
       "\n",
       "    .dataframe thead th {\n",
       "        text-align: right;\n",
       "    }\n",
       "</style>\n",
       "<table border=\"1\" class=\"dataframe\">\n",
       "  <thead>\n",
       "    <tr style=\"text-align: right;\">\n",
       "      <th></th>\n",
       "      <th>y</th>\n",
       "      <th>x</th>\n",
       "      <th>error term</th>\n",
       "      <th>y_truth</th>\n",
       "    </tr>\n",
       "  </thead>\n",
       "  <tbody>\n",
       "    <tr>\n",
       "      <th>0</th>\n",
       "      <td>244.621448</td>\n",
       "      <td>149.671415</td>\n",
       "      <td>-79.721383</td>\n",
       "      <td>324.342831</td>\n",
       "    </tr>\n",
       "    <tr>\n",
       "      <th>1</th>\n",
       "      <td>167.378389</td>\n",
       "      <td>86.173570</td>\n",
       "      <td>-29.968751</td>\n",
       "      <td>197.347140</td>\n",
       "    </tr>\n",
       "    <tr>\n",
       "      <th>2</th>\n",
       "      <td>354.799893</td>\n",
       "      <td>164.768854</td>\n",
       "      <td>0.262185</td>\n",
       "      <td>354.537708</td>\n",
       "    </tr>\n",
       "    <tr>\n",
       "      <th>3</th>\n",
       "      <td>531.955001</td>\n",
       "      <td>252.302986</td>\n",
       "      <td>2.349030</td>\n",
       "      <td>529.605971</td>\n",
       "    </tr>\n",
       "    <tr>\n",
       "      <th>4</th>\n",
       "      <td>155.666051</td>\n",
       "      <td>76.584663</td>\n",
       "      <td>-22.503274</td>\n",
       "      <td>178.169325</td>\n",
       "    </tr>\n",
       "    <tr>\n",
       "      <th>...</th>\n",
       "      <td>...</td>\n",
       "      <td>...</td>\n",
       "      <td>...</td>\n",
       "      <td>...</td>\n",
       "    </tr>\n",
       "    <tr>\n",
       "      <th>395</th>\n",
       "      <td>183.822512</td>\n",
       "      <td>53.082435</td>\n",
       "      <td>52.657643</td>\n",
       "      <td>131.164870</td>\n",
       "    </tr>\n",
       "    <tr>\n",
       "      <th>396</th>\n",
       "      <td>165.649148</td>\n",
       "      <td>71.313453</td>\n",
       "      <td>-1.977758</td>\n",
       "      <td>167.626906</td>\n",
       "    </tr>\n",
       "    <tr>\n",
       "      <th>397</th>\n",
       "      <td>529.849510</td>\n",
       "      <td>235.387237</td>\n",
       "      <td>34.075035</td>\n",
       "      <td>495.774475</td>\n",
       "    </tr>\n",
       "    <tr>\n",
       "      <th>398</th>\n",
       "      <td>203.507950</td>\n",
       "      <td>88.546015</td>\n",
       "      <td>1.415919</td>\n",
       "      <td>202.092031</td>\n",
       "    </tr>\n",
       "    <tr>\n",
       "      <th>399</th>\n",
       "      <td>474.051069</td>\n",
       "      <td>223.781631</td>\n",
       "      <td>1.487807</td>\n",
       "      <td>472.563262</td>\n",
       "    </tr>\n",
       "  </tbody>\n",
       "</table>\n",
       "<p>381 rows × 4 columns</p>\n",
       "</div>"
      ],
      "text/plain": [
       "              y           x  error term     y_truth\n",
       "0    244.621448  149.671415  -79.721383  324.342831\n",
       "1    167.378389   86.173570  -29.968751  197.347140\n",
       "2    354.799893  164.768854    0.262185  354.537708\n",
       "3    531.955001  252.302986    2.349030  529.605971\n",
       "4    155.666051   76.584663  -22.503274  178.169325\n",
       "..          ...         ...         ...         ...\n",
       "395  183.822512   53.082435   52.657643  131.164870\n",
       "396  165.649148   71.313453   -1.977758  167.626906\n",
       "397  529.849510  235.387237   34.075035  495.774475\n",
       "398  203.507950   88.546015    1.415919  202.092031\n",
       "399  474.051069  223.781631    1.487807  472.563262\n",
       "\n",
       "[381 rows x 4 columns]"
      ]
     },
     "execution_count": 7,
     "metadata": {},
     "output_type": "execute_result"
    }
   ],
   "source": [
    "phone_df_remove_outliers = phone_df[phone_df['y']>=0]\n",
    "phone_df_remove_outliers = phone_df_remove_outliers[phone_df_remove_outliers['x']<=300]\n",
    "phone_df_remove_outliers['y_truth']= y_truth(phone_df_remove_outliers['x'])\n",
    "phone_df_remove_outliers"
   ]
  },
  {
   "cell_type": "code",
   "execution_count": 8,
   "metadata": {},
   "outputs": [
    {
     "data": {
      "text/html": [
       "<div>\n",
       "<style scoped>\n",
       "    .dataframe tbody tr th:only-of-type {\n",
       "        vertical-align: middle;\n",
       "    }\n",
       "\n",
       "    .dataframe tbody tr th {\n",
       "        vertical-align: top;\n",
       "    }\n",
       "\n",
       "    .dataframe thead th {\n",
       "        text-align: right;\n",
       "    }\n",
       "</style>\n",
       "<table border=\"1\" class=\"dataframe\">\n",
       "  <thead>\n",
       "    <tr style=\"text-align: right;\">\n",
       "      <th></th>\n",
       "      <th>y</th>\n",
       "      <th>x</th>\n",
       "      <th>error term</th>\n",
       "      <th>y_truth</th>\n",
       "    </tr>\n",
       "  </thead>\n",
       "  <tbody>\n",
       "    <tr>\n",
       "      <th>count</th>\n",
       "      <td>381.000000</td>\n",
       "      <td>381.000000</td>\n",
       "      <td>381.000000</td>\n",
       "      <td>381.000000</td>\n",
       "    </tr>\n",
       "    <tr>\n",
       "      <th>mean</th>\n",
       "      <td>246.203236</td>\n",
       "      <td>110.608181</td>\n",
       "      <td>-0.013125</td>\n",
       "      <td>246.216361</td>\n",
       "    </tr>\n",
       "    <tr>\n",
       "      <th>std</th>\n",
       "      <td>143.270223</td>\n",
       "      <td>70.695220</td>\n",
       "      <td>49.324505</td>\n",
       "      <td>141.390441</td>\n",
       "    </tr>\n",
       "    <tr>\n",
       "      <th>min</th>\n",
       "      <td>2.706290</td>\n",
       "      <td>0.252936</td>\n",
       "      <td>-132.548490</td>\n",
       "      <td>25.505873</td>\n",
       "    </tr>\n",
       "    <tr>\n",
       "      <th>25%</th>\n",
       "      <td>137.119904</td>\n",
       "      <td>49.652435</td>\n",
       "      <td>-32.591805</td>\n",
       "      <td>124.304869</td>\n",
       "    </tr>\n",
       "    <tr>\n",
       "      <th>50%</th>\n",
       "      <td>241.306311</td>\n",
       "      <td>106.428002</td>\n",
       "      <td>0.696465</td>\n",
       "      <td>237.856004</td>\n",
       "    </tr>\n",
       "    <tr>\n",
       "      <th>75%</th>\n",
       "      <td>335.261498</td>\n",
       "      <td>161.167629</td>\n",
       "      <td>31.620387</td>\n",
       "      <td>347.335258</td>\n",
       "    </tr>\n",
       "    <tr>\n",
       "      <th>max</th>\n",
       "      <td>623.193172</td>\n",
       "      <td>289.679298</td>\n",
       "      <td>153.944040</td>\n",
       "      <td>604.358597</td>\n",
       "    </tr>\n",
       "  </tbody>\n",
       "</table>\n",
       "</div>"
      ],
      "text/plain": [
       "                y           x  error term     y_truth\n",
       "count  381.000000  381.000000  381.000000  381.000000\n",
       "mean   246.203236  110.608181   -0.013125  246.216361\n",
       "std    143.270223   70.695220   49.324505  141.390441\n",
       "min      2.706290    0.252936 -132.548490   25.505873\n",
       "25%    137.119904   49.652435  -32.591805  124.304869\n",
       "50%    241.306311  106.428002    0.696465  237.856004\n",
       "75%    335.261498  161.167629   31.620387  347.335258\n",
       "max    623.193172  289.679298  153.944040  604.358597"
      ]
     },
     "execution_count": 8,
     "metadata": {},
     "output_type": "execute_result"
    }
   ],
   "source": [
    "phone_df_remove_outliers.describe()"
   ]
  },
  {
   "cell_type": "code",
   "execution_count": 9,
   "metadata": {},
   "outputs": [
    {
     "data": {
      "text/plain": [
       "<matplotlib.legend.Legend at 0x289c4b83ac0>"
      ]
     },
     "execution_count": 9,
     "metadata": {},
     "output_type": "execute_result"
    },
    {
     "data": {
      "image/png": "[encoded data removed]",
      "text/plain": [
       "<Figure size 800x300 with 1 Axes>"
      ]
     },
     "metadata": {
      "needs_background": "light"
     },
     "output_type": "display_data"
    }
   ],
   "source": [
    "fig, ax = plt.subplots(figsize=(8,3),dpi=100)\n",
    "sns.scatterplot(data=phone_df_remove_outliers, x='x', y='y')\n",
    "sns.lineplot(x=phone_df_remove_outliers['x'], y=phone_df_remove_outliers['y_truth'], color='green')\n",
    "ax.set(xlabel='called minutes per month', ylabel='sek per month', title='phone subscription after removing outliers')\n",
    "ax.legend(['Traning data','Ground truth'])"
   ]
  },
  {
   "cell_type": "code",
   "execution_count": 10,
   "metadata": {},
   "outputs": [],
   "source": [
    "phone_cost = phone_df_remove_outliers.copy()"
   ]
  },
  {
   "cell_type": "markdown",
   "metadata": {},
   "source": [
    "## 1. Train|test split (*)\n",
    "\n",
    "Before moving on with linear regression we shall first perform a train-test-split. \n",
    "\n",
    "&nbsp; a) Create a train-test-split function with the following call signature: (*)\n",
    "\n",
    "```py\n",
    "def train_test_split(X: pd.DataFrame, y: pd.DataFrame, train_fraction=.7: float, random_state=42: int, replace=False: bool) -> tuple\n",
    "```\n",
    "\n",
    "that returns the tuple:\n",
    "```\n",
    "(X_train, X_test, y_train, y_test)\n",
    "```\n",
    "\n",
    "&nbsp; b) Now use this to split up your data into a training set and test set. Check manually that the split is performed correctly. (*)\n",
    "\n",
    "\n",
    "<details>\n",
    "\n",
    "<summary>Hint</summary>\n",
    "\n",
    "b) Check the length of each set, and check the indices of the sorted sets that they don't overlap and are not missing. Also check that they sum up to what you expect.\n",
    "\n",
    "</details>\n",
    "\n",
    "<br/>\n",
    "\n",
    "<details>\n",
    "\n",
    "<summary>Answer</summary>\n",
    "\n",
    "Using default 0.7: \n",
    "- length of X_train: 270\n",
    "- length of X_test: 116\n",
    "- length of y_train: 270\n",
    "- length of X_test: 116\n",
    "\n",
    "</details>\n",
    "\n",
    "---"
   ]
  },
  {
   "cell_type": "code",
   "execution_count": 11,
   "metadata": {},
   "outputs": [],
   "source": [
    "def train_test_split(X: pd.DataFrame, y: pd.DataFrame, train_fraction=.7, random_state=42, replace=False) -> tuple:\n",
    "    X_train = X.sample(frac=train_fraction, random_state=random_state, replace=replace)\n",
    "    X_test = X.drop(X_train.index)\n",
    "    y_train = y.sample(frac=train_fraction, random_state=random_state, replace=replace)\n",
    "    y_test = y.drop(y_train.index)\n",
    "    \n",
    "    return (X_train, X_test, y_train, y_test)"
   ]
  },
  {
   "cell_type": "code",
   "execution_count": 12,
   "metadata": {},
   "outputs": [
    {
     "data": {
      "text/html": [
       "<div>\n",
       "<style scoped>\n",
       "    .dataframe tbody tr th:only-of-type {\n",
       "        vertical-align: middle;\n",
       "    }\n",
       "\n",
       "    .dataframe tbody tr th {\n",
       "        vertical-align: top;\n",
       "    }\n",
       "\n",
       "    .dataframe thead th {\n",
       "        text-align: right;\n",
       "    }\n",
       "</style>\n",
       "<table border=\"1\" class=\"dataframe\">\n",
       "  <thead>\n",
       "    <tr style=\"text-align: right;\">\n",
       "      <th></th>\n",
       "      <th>y</th>\n",
       "      <th>x</th>\n",
       "      <th>error term</th>\n",
       "      <th>y_truth</th>\n",
       "    </tr>\n",
       "  </thead>\n",
       "  <tbody>\n",
       "    <tr>\n",
       "      <th>0</th>\n",
       "      <td>244.621448</td>\n",
       "      <td>149.671415</td>\n",
       "      <td>-79.721383</td>\n",
       "      <td>324.342831</td>\n",
       "    </tr>\n",
       "    <tr>\n",
       "      <th>1</th>\n",
       "      <td>167.378389</td>\n",
       "      <td>86.173570</td>\n",
       "      <td>-29.968751</td>\n",
       "      <td>197.347140</td>\n",
       "    </tr>\n",
       "    <tr>\n",
       "      <th>2</th>\n",
       "      <td>354.799893</td>\n",
       "      <td>164.768854</td>\n",
       "      <td>0.262185</td>\n",
       "      <td>354.537708</td>\n",
       "    </tr>\n",
       "    <tr>\n",
       "      <th>3</th>\n",
       "      <td>531.955001</td>\n",
       "      <td>252.302986</td>\n",
       "      <td>2.349030</td>\n",
       "      <td>529.605971</td>\n",
       "    </tr>\n",
       "    <tr>\n",
       "      <th>4</th>\n",
       "      <td>155.666051</td>\n",
       "      <td>76.584663</td>\n",
       "      <td>-22.503274</td>\n",
       "      <td>178.169325</td>\n",
       "    </tr>\n",
       "  </tbody>\n",
       "</table>\n",
       "</div>"
      ],
      "text/plain": [
       "            y           x  error term     y_truth\n",
       "0  244.621448  149.671415  -79.721383  324.342831\n",
       "1  167.378389   86.173570  -29.968751  197.347140\n",
       "2  354.799893  164.768854    0.262185  354.537708\n",
       "3  531.955001  252.302986    2.349030  529.605971\n",
       "4  155.666051   76.584663  -22.503274  178.169325"
      ]
     },
     "execution_count": 12,
     "metadata": {},
     "output_type": "execute_result"
    }
   ],
   "source": [
    "phone_cost.head()"
   ]
  },
  {
   "cell_type": "code",
   "execution_count": 13,
   "metadata": {},
   "outputs": [
    {
     "name": "stdout",
     "output_type": "stream",
     "text": [
      "Length of X_train: 267 \n",
      "Length of X_test: 114 \n",
      "Length of y_train: 267 \n",
      "Length of y_test: 114 \n"
     ]
    }
   ],
   "source": [
    "X_train, X_test, y_train, y_test = train_test_split(X=phone_cost['x'], y=phone_cost['y'])\n",
    "print(f\"Length of X_train: {len(X_train)} \")\n",
    "print(f\"Length of X_test: {len(X_test)} \")\n",
    "print(f\"Length of y_train: {len(y_train)} \")\n",
    "print(f\"Length of y_test: {len(y_test)} \")"
   ]
  },
  {
   "cell_type": "code",
   "execution_count": 14,
   "metadata": {},
   "outputs": [
    {
     "name": "stdout",
     "output_type": "stream",
     "text": [
      "X: there are 0 data from train in testing\n",
      "y: there are 0 data from train in testing\n"
     ]
    }
   ],
   "source": [
    "print(f'X: there are {X_train.index.isin(X_test.index).sum()} data from train in testing')\n",
    "print(f'y: there are {y_train.index.isin(y_test.index).sum()} data from train in testing')"
   ]
  },
  {
   "cell_type": "code",
   "execution_count": 15,
   "metadata": {},
   "outputs": [
    {
     "name": "stdout",
     "output_type": "stream",
     "text": [
      "summing the lengths of X_train and X_test data, I get 381 observations. And there are totally 381 observations in phone dataset.\n"
     ]
    }
   ],
   "source": [
    "print(f'summing the lengths of X_train and X_test data, I get {len(X_train) + len(X_test)} observations. And there are totally {phone_cost.shape[0]} observations in phone dataset.')"
   ]
  },
  {
   "cell_type": "markdown",
   "metadata": {},
   "source": [
    "## 2. Simple linear regression with normal equation (*)\n",
    "\n",
    "Use the normal equation for simple linear regression to solve for the coefficients $\\hat{\\beta} = (\\beta_0, \\beta_1)$. Note that you should only use the training data to fit the regression line, and not data from the test set. Plot the the regression line, together with ground truth and training data. \n",
    "\n",
    "<details>\n",
    "\n",
    "<summary>Hint</summary>\n",
    "\n",
    "It is important to keep track of the shapes of the vectors, matrices in order for matrix multiplication matmul \"@\" to work correctly. Also, if you have series object, you need to convert it to numpy. \n",
    "\n",
    "</details>\n",
    "\n",
    "<br/>\n",
    "\n",
    "<details>\n",
    "\n",
    "<summary>Answer</summary>\n",
    "\n",
    "\n",
    "<img src=\"../assets/Reg_line_normal_eq.png\" height=\"200\"/>\n",
    "\n",
    "</details>\n",
    "\n",
    "---"
   ]
  },
  {
   "cell_type": "code",
   "execution_count": 16,
   "metadata": {},
   "outputs": [],
   "source": [
    "beta_1, beta_0 = np.polyfit(X_train, y_train, deg=1)"
   ]
  },
  {
   "cell_type": "code",
   "execution_count": 17,
   "metadata": {},
   "outputs": [
    {
     "data": {
      "text/plain": [
       "<matplotlib.legend.Legend at 0x289c4c30d00>"
      ]
     },
     "execution_count": 17,
     "metadata": {},
     "output_type": "execute_result"
    },
    {
     "data": {
      "image/png": "[encoded data removed]",
      "text/plain": [
       "<Figure size 800x300 with 1 Axes>"
      ]
     },
     "metadata": {
      "needs_background": "light"
     },
     "output_type": "display_data"
    }
   ],
   "source": [
    "def y_hat(x): return beta_0 + beta_1*x\n",
    "fig, ax= plt.subplots(dpi=100, figsize=(8,3))\n",
    "sns.scatterplot(x=X_train, y=y_train)\n",
    "sns.lineplot(x=X_train, y= y_truth(X_train), color='green')\n",
    "sns.lineplot(x=X_train, y=y_hat(X_train), color='red')\n",
    "ax.set(xlabel='call minutes', ylabel='SEK/month', title='Regression line')\n",
    "ax.legend(['Traning data','Ground truth','Regression line'])"
   ]
  },
  {
   "cell_type": "markdown",
   "metadata": {},
   "source": [
    "## 3. Prediction and evaluation (*)\n",
    "\n",
    "&nbsp; a) Use your model to make prediction on testing data. Plot the prediction cost against X_test, and y_test against X_test. (*)\n",
    "\n",
    "&nbsp; b) Calculate MAE, MSE, RMSE (*)\n",
    "\n",
    "<details>\n",
    "\n",
    "<summary>Hint</summary>\n",
    "\n",
    "Calculate y_pred from X_test and use y_test and y_pred to compute different evaluation metrics.\n",
    "\n",
    "Careful with dimensions when computing the evaluation metrics, else it can be catastrophical logical errors due to numpy broadcasting feature.\n",
    "\n",
    "Note that after you have calculate the error metrics on test data you are not allowed to change any parameters to make the line fit better to the testing data.\n",
    "\n",
    "</details>\n",
    "\n",
    "<br/>\n",
    "\n",
    "<details>\n",
    "\n",
    "<summary>Answer</summary>\n",
    "\n",
    "a) \n",
    "\n",
    "<img src=\"../assets/eval_simple_lin_reg.png\" height=\"200\"/>\n",
    "\n",
    "b)\n",
    "\n",
    "Mean absolute error on testing data: 36.97 kr\n",
    "\n",
    "Mean squared error on testing data: 2374 kr^2\n",
    "\n",
    "Root mean squared error on testing data: 48.72 kr\n",
    "\n",
    "</details>\n",
    "\n",
    "---"
   ]
  },
  {
   "cell_type": "code",
   "execution_count": 18,
   "metadata": {},
   "outputs": [
    {
     "data": {
      "text/plain": [
       "<matplotlib.legend.Legend at 0x289c4c07130>"
      ]
     },
     "execution_count": 18,
     "metadata": {},
     "output_type": "execute_result"
    },
    {
     "data": {
      "image/png": "[encoded data removed]",
      "text/plain": [
       "<Figure size 800x300 with 1 Axes>"
      ]
     },
     "metadata": {
      "needs_background": "light"
     },
     "output_type": "display_data"
    }
   ],
   "source": [
    "fig, ax = plt.subplots(figsize=(8,3), dpi=100)\n",
    "sns.scatterplot(x=X_test, y=y_test)\n",
    "sns.lineplot(x=X_test, y=y_hat(X_test), color='orange')\n",
    "ax.set(xlabel='X_test minutes', ylabel='Cost(kr)', title='Compare prediction and test data')\n",
    "ax.legend(['Test data','Prediction'])"
   ]
  },
  {
   "cell_type": "code",
   "execution_count": 19,
   "metadata": {},
   "outputs": [
    {
     "data": {
      "text/plain": [
       "(40.28516651297973, 2419.67593453563, 49.19020161104882)"
      ]
     },
     "execution_count": 19,
     "metadata": {},
     "output_type": "execute_result"
    }
   ],
   "source": [
    "m = len(y_test)\n",
    "y_test_hat = y_hat(X_test)\n",
    "\n",
    "#y_test_hat= np.reshape(y_test_hat, m)\n",
    "\n",
    "MAE = 1/m * np.sum(np.abs(y_test-y_test_hat))\n",
    "MSE = 1/m * np.sum((y_test-y_test_hat)**2)\n",
    "RMSE = np.sqrt(MSE)\n",
    "\n",
    "MAE, MSE, RMSE"
   ]
  },
  {
   "cell_type": "markdown",
   "metadata": {},
   "source": [
    "## 4. Simulate more explanatory variables (\\*)\n",
    "\n",
    "Now we will simulate the explanatory variables for minutes, text messages and amount of surf. For reference and reproducibility use numpy random seed 42. Assume there is:\n",
    "\n",
    "- mean start cost: 25kr\n",
    "- mean cost per minute: 2kr\n",
    "- mean cost per sms: 50 öre\n",
    "- mean cost per GB: 50kr\n",
    "\n",
    "Then the model for the cost will be:\n",
    "$y = 25 + 2x_1 + 0.5x_2 + 50x_3 + \\epsilon$, where\n",
    "\n",
    "- $x_i$ sampled from r.v. $X_i$ for $i = \\{1,2,3\\}$\n",
    "- $X_1 \\sim |\\mathcal{N}(100,100)|$, (absolute value)\n",
    "- $X_2 \\sim \\mathcal{U}(0,50)$, (discrete uniform distribution)\n",
    "- $X_3 \\sim |\\mathcal{N}(0,2)|$,\n",
    "- $\\epsilon \\sim \\mathcal{N}(0,50)$\n",
    "\n",
    "&nbsp; a) Simulate 10000 samples of each of $x_1, x_2, x_3$ and $y$ and save them in a DataFrame. Also add an intercept column containing ones. (\\*)\n",
    "\n",
    "&nbsp; b) Make histograms for each of the explanatory variables $x_1, x_2, x_3$ and the response variable $y$ (\\*)\n",
    "\n",
    "&nbsp; c) Clean the data using the following constraints (\\*)\n",
    "\n",
    "- surf should be less than 4\n",
    "- minutes should be less than 300\n",
    "- cost should be larger than 0\n",
    "\n",
    "&nbsp; d) Make new histograms for the variables. (\\*)\n",
    "\n",
    "<details>\n",
    "\n",
    "<summary>Hint</summary>\n",
    "Your data analysis skill toolbox together with statistics and linear algebra skills are getting quite handy here.\n",
    "\n",
    "</details>\n",
    "\n",
    "<br/>\n",
    "\n",
    "<details>\n",
    "\n",
    "<summary>Answer</summary>\n",
    "\n",
    "a)\n",
    "\n",
    "|      | Intercept | Minutes | SMS | Surf (GB) |    Cost |\n",
    "| ---: | --------: | ------: | --: | --------: | ------: |\n",
    "|    0 |         1 | 149.671 |  41 |   2.26301 | 502.396 |\n",
    "|    1 |         1 | 86.1736 |  16 | 0.0315695 | 179.072 |\n",
    "|  ... |       ... |     ... | ... |       ... |     ... |\n",
    "| 9318 |         1 | 149.577 |  31 |   3.43929 | 536.176 |\n",
    "| 9319 |         1 | 164.439 |  43 |   1.40641 | 406.674 |\n",
    "\n",
    "b)\n",
    "\n",
    "<img src=\"../assets/hist_variables.png\" height=\"200\"/>\n",
    "\n",
    "d)\n",
    "\n",
    "<img src=\"../assets/hist_var_cleaned.png\" height=\"200\"/>\n",
    "\n",
    "</details>\n",
    "\n",
    "---\n"
   ]
  },
  {
   "cell_type": "code",
   "execution_count": 58,
   "metadata": {},
   "outputs": [],
   "source": [
    "np.random.seed(42)\n",
    "X1 = np.abs(np.random.normal(100, 100, 10000))\n",
    "X2 = np.random.randint(0,50, 10000)\n",
    "X3 = np.abs(np.random.normal(0,2, 10000))\n",
    "e = np.random.normal(0,50, 10000)\n",
    "def y(X1, X2, X3, e):\n",
    "    return 25+2*X1+0.5*X2+50*X3+e\n",
    "y = y(X1, X2, X3, e)\n",
    "df4 = pd.DataFrame({'Minutes': X1, 'SMS':X2, 'Surf(GB)':X3, 'Cost':y, 'error term': e})\n",
    "df4.insert(0, 'Intercept', 1)"
   ]
  },
  {
   "cell_type": "code",
   "execution_count": 59,
   "metadata": {},
   "outputs": [
    {
     "data": {
      "text/html": [
       "<div>\n",
       "<style scoped>\n",
       "    .dataframe tbody tr th:only-of-type {\n",
       "        vertical-align: middle;\n",
       "    }\n",
       "\n",
       "    .dataframe tbody tr th {\n",
       "        vertical-align: top;\n",
       "    }\n",
       "\n",
       "    .dataframe thead th {\n",
       "        text-align: right;\n",
       "    }\n",
       "</style>\n",
       "<table border=\"1\" class=\"dataframe\">\n",
       "  <thead>\n",
       "    <tr style=\"text-align: right;\">\n",
       "      <th></th>\n",
       "      <th>Intercept</th>\n",
       "      <th>Minutes</th>\n",
       "      <th>SMS</th>\n",
       "      <th>Surf(GB)</th>\n",
       "      <th>Cost</th>\n",
       "      <th>error term</th>\n",
       "    </tr>\n",
       "  </thead>\n",
       "  <tbody>\n",
       "    <tr>\n",
       "      <th>0</th>\n",
       "      <td>1</td>\n",
       "      <td>149.671415</td>\n",
       "      <td>41</td>\n",
       "      <td>2.263011</td>\n",
       "      <td>502.396003</td>\n",
       "      <td>44.402643</td>\n",
       "    </tr>\n",
       "    <tr>\n",
       "      <th>1</th>\n",
       "      <td>1</td>\n",
       "      <td>86.173570</td>\n",
       "      <td>16</td>\n",
       "      <td>0.031570</td>\n",
       "      <td>179.072107</td>\n",
       "      <td>-27.853510</td>\n",
       "    </tr>\n",
       "    <tr>\n",
       "      <th>2</th>\n",
       "      <td>1</td>\n",
       "      <td>164.768854</td>\n",
       "      <td>30</td>\n",
       "      <td>0.808925</td>\n",
       "      <td>430.008213</td>\n",
       "      <td>20.024276</td>\n",
       "    </tr>\n",
       "    <tr>\n",
       "      <th>3</th>\n",
       "      <td>1</td>\n",
       "      <td>252.302986</td>\n",
       "      <td>33</td>\n",
       "      <td>2.625826</td>\n",
       "      <td>647.244277</td>\n",
       "      <td>-30.152991</td>\n",
       "    </tr>\n",
       "    <tr>\n",
       "      <th>4</th>\n",
       "      <td>1</td>\n",
       "      <td>76.584663</td>\n",
       "      <td>37</td>\n",
       "      <td>3.388079</td>\n",
       "      <td>398.016588</td>\n",
       "      <td>31.943335</td>\n",
       "    </tr>\n",
       "    <tr>\n",
       "      <th>...</th>\n",
       "      <td>...</td>\n",
       "      <td>...</td>\n",
       "      <td>...</td>\n",
       "      <td>...</td>\n",
       "      <td>...</td>\n",
       "      <td>...</td>\n",
       "    </tr>\n",
       "    <tr>\n",
       "      <th>9995</th>\n",
       "      <td>1</td>\n",
       "      <td>230.110206</td>\n",
       "      <td>36</td>\n",
       "      <td>0.611639</td>\n",
       "      <td>473.661741</td>\n",
       "      <td>-60.140618</td>\n",
       "    </tr>\n",
       "    <tr>\n",
       "      <th>9996</th>\n",
       "      <td>1</td>\n",
       "      <td>99.834497</td>\n",
       "      <td>18</td>\n",
       "      <td>1.328020</td>\n",
       "      <td>298.342321</td>\n",
       "      <td>-1.727650</td>\n",
       "    </tr>\n",
       "    <tr>\n",
       "      <th>9997</th>\n",
       "      <td>1</td>\n",
       "      <td>29.468328</td>\n",
       "      <td>19</td>\n",
       "      <td>2.811456</td>\n",
       "      <td>252.973057</td>\n",
       "      <td>18.963587</td>\n",
       "    </tr>\n",
       "    <tr>\n",
       "      <th>9998</th>\n",
       "      <td>1</td>\n",
       "      <td>149.576557</td>\n",
       "      <td>31</td>\n",
       "      <td>3.439294</td>\n",
       "      <td>536.176482</td>\n",
       "      <td>24.558653</td>\n",
       "    </tr>\n",
       "    <tr>\n",
       "      <th>9999</th>\n",
       "      <td>1</td>\n",
       "      <td>164.438845</td>\n",
       "      <td>43</td>\n",
       "      <td>1.406414</td>\n",
       "      <td>406.673658</td>\n",
       "      <td>-39.024721</td>\n",
       "    </tr>\n",
       "  </tbody>\n",
       "</table>\n",
       "<p>10000 rows × 6 columns</p>\n",
       "</div>"
      ],
      "text/plain": [
       "      Intercept     Minutes  SMS  Surf(GB)        Cost  error term\n",
       "0             1  149.671415   41  2.263011  502.396003   44.402643\n",
       "1             1   86.173570   16  0.031570  179.072107  -27.853510\n",
       "2             1  164.768854   30  0.808925  430.008213   20.024276\n",
       "3             1  252.302986   33  2.625826  647.244277  -30.152991\n",
       "4             1   76.584663   37  3.388079  398.016588   31.943335\n",
       "...         ...         ...  ...       ...         ...         ...\n",
       "9995          1  230.110206   36  0.611639  473.661741  -60.140618\n",
       "9996          1   99.834497   18  1.328020  298.342321   -1.727650\n",
       "9997          1   29.468328   19  2.811456  252.973057   18.963587\n",
       "9998          1  149.576557   31  3.439294  536.176482   24.558653\n",
       "9999          1  164.438845   43  1.406414  406.673658  -39.024721\n",
       "\n",
       "[10000 rows x 6 columns]"
      ]
     },
     "execution_count": 59,
     "metadata": {},
     "output_type": "execute_result"
    }
   ],
   "source": [
    "df4"
   ]
  },
  {
   "cell_type": "code",
   "execution_count": 79,
   "metadata": {},
   "outputs": [
    {
     "data": {
      "text/plain": [
       "Text(0.5, 0.96, 'Histograms')"
      ]
     },
     "execution_count": 79,
     "metadata": {},
     "output_type": "execute_result"
    },
    {
     "data": {
      "image/png": "[encoded data removed]",
      "text/plain": [
       "<Figure size 1000x600 with 4 Axes>"
      ]
     },
     "metadata": {
      "needs_background": "light"
     },
     "output_type": "display_data"
    }
   ],
   "source": [
    "fig, axes = plt.subplots(2,2, figsize=(10,6), dpi=100)\n",
    "for ax, feature in zip(axes.flatten(), df4.columns[-5: -1]):\n",
    "    sns.histplot(data=df4, x=feature, ax = ax, bins=10)\n",
    "fig.suptitle(\"Histograms\", y=0.96, fontweight=\"bold\")\n",
    "    "
   ]
  },
  {
   "cell_type": "code",
   "execution_count": 80,
   "metadata": {},
   "outputs": [],
   "source": [
    "def remove_outliers(df):\n",
    "    df_remove_outliers = df[df['Surf(GB)']<4]\n",
    "    df_remove_outliers = df_remove_outliers[df_remove_outliers['Minutes']<300]\n",
    "    df_remove_outliers = df_remove_outliers[df_remove_outliers['Cost']>=0]\n",
    "    return df_remove_outliers"
   ]
  },
  {
   "cell_type": "code",
   "execution_count": 82,
   "metadata": {},
   "outputs": [
    {
     "data": {
      "text/plain": [
       "(9320, 6)"
      ]
     },
     "execution_count": 82,
     "metadata": {},
     "output_type": "execute_result"
    }
   ],
   "source": [
    "df4_remove_outliers =  remove_outliers(df4)\n",
    "df4_remove_outliers.shape"
   ]
  },
  {
   "cell_type": "code",
   "execution_count": 83,
   "metadata": {},
   "outputs": [
    {
     "data": {
      "text/plain": [
       "Text(0.5, 0.96, 'Histograms of data removed outliers')"
      ]
     },
     "execution_count": 83,
     "metadata": {},
     "output_type": "execute_result"
    },
    {
     "data": {
      "image/png": "[encoded data removed]",
      "text/plain": [
       "<Figure size 1000x600 with 4 Axes>"
      ]
     },
     "metadata": {
      "needs_background": "light"
     },
     "output_type": "display_data"
    }
   ],
   "source": [
    "fig, axes = plt.subplots(2,2, figsize=(10,6), dpi=100)\n",
    "for ax, feature in zip(axes.flatten(), df4_remove_outliers.columns[-5: -1]):\n",
    "    sns.histplot(data=df4_remove_outliers, x=feature, ax = ax, bins=10)\n",
    "fig.suptitle(\"Histograms of data removed outliers\", y=0.96, fontweight=\"bold\")"
   ]
  },
  {
   "cell_type": "markdown",
   "metadata": {},
   "source": [
    "## 5. Multiple linear regression (*)\n",
    "\n",
    "&nbsp; a) Perform a train|test split with 0.8 of the data for training. (*)\n",
    "\n",
    "&nbsp; b) Use the normal equation to compute $\\hat{\\beta}$ (*)\n",
    "\n",
    "&nbsp; c) Predict on the test data and compute MAE, MSE and RMSE. (*)\n",
    "\n",
    "&nbsp; d) Now repeat 4a), 4c), 5a), 5b) using 10, 100, 1000, 10000, 100000, 1000000 samples, and calculate RMSE for each of these simulations. Plot the RMSE against sample size. (**)\n",
    "\n",
    "\n",
    "<details>\n",
    "\n",
    "<summary>Hint</summary>\n",
    "\n",
    "It is important to keep track of the shapes of the vectors, matrices in order for matrix multiplication matmul \"@\" to work correctly. Also, if you have series object, you need to convert it to numpy. \n",
    "\n",
    "</details>\n",
    "\n",
    "<br/>\n",
    "\n",
    "<details>\n",
    "<summary>Answer</summary>\n",
    "\n",
    "\n",
    "<img src=\"../assets/RMSE_simulation.png\" height=\"200\"/>\n",
    "\n",
    "</details>"
   ]
  },
  {
   "cell_type": "markdown",
   "metadata": {},
   "source": [
    "a) Perform a train|test split with 0.8 of the data for training. (*)"
   ]
  },
  {
   "cell_type": "code",
   "execution_count": 111,
   "metadata": {},
   "outputs": [],
   "source": [
    "df5 = df4_remove_outliers.copy()\n",
    "X_train, X_test, y_train, y_test = train_test_split(df5.iloc[:,-6:-2], df5.iloc[:, -2:-1], train_fraction=0.8)\n"
   ]
  },
  {
   "cell_type": "code",
   "execution_count": 112,
   "metadata": {},
   "outputs": [
    {
     "data": {
      "text/plain": [
       "0"
      ]
     },
     "execution_count": 112,
     "metadata": {},
     "output_type": "execute_result"
    }
   ],
   "source": [
    "X_train.index.isin(X_test.index).sum()"
   ]
  },
  {
   "cell_type": "code",
   "execution_count": 89,
   "metadata": {},
   "outputs": [
    {
     "data": {
      "text/html": [
       "<div>\n",
       "<style scoped>\n",
       "    .dataframe tbody tr th:only-of-type {\n",
       "        vertical-align: middle;\n",
       "    }\n",
       "\n",
       "    .dataframe tbody tr th {\n",
       "        vertical-align: top;\n",
       "    }\n",
       "\n",
       "    .dataframe thead th {\n",
       "        text-align: right;\n",
       "    }\n",
       "</style>\n",
       "<table border=\"1\" class=\"dataframe\">\n",
       "  <thead>\n",
       "    <tr style=\"text-align: right;\">\n",
       "      <th></th>\n",
       "      <th>Intercept</th>\n",
       "      <th>Minutes</th>\n",
       "      <th>SMS</th>\n",
       "      <th>Surf(GB)</th>\n",
       "    </tr>\n",
       "  </thead>\n",
       "  <tbody>\n",
       "    <tr>\n",
       "      <th>1633</th>\n",
       "      <td>1</td>\n",
       "      <td>202.996082</td>\n",
       "      <td>39</td>\n",
       "      <td>1.536647</td>\n",
       "    </tr>\n",
       "    <tr>\n",
       "      <th>8188</th>\n",
       "      <td>1</td>\n",
       "      <td>168.233878</td>\n",
       "      <td>23</td>\n",
       "      <td>3.498326</td>\n",
       "    </tr>\n",
       "    <tr>\n",
       "      <th>7632</th>\n",
       "      <td>1</td>\n",
       "      <td>196.532667</td>\n",
       "      <td>25</td>\n",
       "      <td>0.075701</td>\n",
       "    </tr>\n",
       "    <tr>\n",
       "      <th>1035</th>\n",
       "      <td>1</td>\n",
       "      <td>257.398676</td>\n",
       "      <td>33</td>\n",
       "      <td>1.201828</td>\n",
       "    </tr>\n",
       "    <tr>\n",
       "      <th>2977</th>\n",
       "      <td>1</td>\n",
       "      <td>15.368402</td>\n",
       "      <td>0</td>\n",
       "      <td>0.822560</td>\n",
       "    </tr>\n",
       "    <tr>\n",
       "      <th>...</th>\n",
       "      <td>...</td>\n",
       "      <td>...</td>\n",
       "      <td>...</td>\n",
       "      <td>...</td>\n",
       "    </tr>\n",
       "    <tr>\n",
       "      <th>682</th>\n",
       "      <td>1</td>\n",
       "      <td>47.547973</td>\n",
       "      <td>0</td>\n",
       "      <td>1.727655</td>\n",
       "    </tr>\n",
       "    <tr>\n",
       "      <th>8948</th>\n",
       "      <td>1</td>\n",
       "      <td>133.276048</td>\n",
       "      <td>46</td>\n",
       "      <td>1.182865</td>\n",
       "    </tr>\n",
       "    <tr>\n",
       "      <th>3310</th>\n",
       "      <td>1</td>\n",
       "      <td>18.187413</td>\n",
       "      <td>23</td>\n",
       "      <td>0.880496</td>\n",
       "    </tr>\n",
       "    <tr>\n",
       "      <th>3729</th>\n",
       "      <td>1</td>\n",
       "      <td>131.614386</td>\n",
       "      <td>0</td>\n",
       "      <td>1.927903</td>\n",
       "    </tr>\n",
       "    <tr>\n",
       "      <th>6910</th>\n",
       "      <td>1</td>\n",
       "      <td>110.983824</td>\n",
       "      <td>19</td>\n",
       "      <td>0.095159</td>\n",
       "    </tr>\n",
       "  </tbody>\n",
       "</table>\n",
       "<p>7456 rows × 4 columns</p>\n",
       "</div>"
      ],
      "text/plain": [
       "      Intercept     Minutes  SMS  Surf(GB)\n",
       "1633          1  202.996082   39  1.536647\n",
       "8188          1  168.233878   23  3.498326\n",
       "7632          1  196.532667   25  0.075701\n",
       "1035          1  257.398676   33  1.201828\n",
       "2977          1   15.368402    0  0.822560\n",
       "...         ...         ...  ...       ...\n",
       "682           1   47.547973    0  1.727655\n",
       "8948          1  133.276048   46  1.182865\n",
       "3310          1   18.187413   23  0.880496\n",
       "3729          1  131.614386    0  1.927903\n",
       "6910          1  110.983824   19  0.095159\n",
       "\n",
       "[7456 rows x 4 columns]"
      ]
     },
     "execution_count": 89,
     "metadata": {},
     "output_type": "execute_result"
    }
   ],
   "source": [
    "X_train"
   ]
  },
  {
   "cell_type": "code",
   "execution_count": 113,
   "metadata": {},
   "outputs": [
    {
     "data": {
      "text/html": [
       "<div>\n",
       "<style scoped>\n",
       "    .dataframe tbody tr th:only-of-type {\n",
       "        vertical-align: middle;\n",
       "    }\n",
       "\n",
       "    .dataframe tbody tr th {\n",
       "        vertical-align: top;\n",
       "    }\n",
       "\n",
       "    .dataframe thead th {\n",
       "        text-align: right;\n",
       "    }\n",
       "</style>\n",
       "<table border=\"1\" class=\"dataframe\">\n",
       "  <thead>\n",
       "    <tr style=\"text-align: right;\">\n",
       "      <th></th>\n",
       "      <th>Cost</th>\n",
       "    </tr>\n",
       "  </thead>\n",
       "  <tbody>\n",
       "    <tr>\n",
       "      <th>27267</th>\n",
       "      <td>481.068567</td>\n",
       "    </tr>\n",
       "    <tr>\n",
       "      <th>946504</th>\n",
       "      <td>84.930825</td>\n",
       "    </tr>\n",
       "    <tr>\n",
       "      <th>422828</th>\n",
       "      <td>266.518389</td>\n",
       "    </tr>\n",
       "    <tr>\n",
       "      <th>732024</th>\n",
       "      <td>417.833751</td>\n",
       "    </tr>\n",
       "    <tr>\n",
       "      <th>885147</th>\n",
       "      <td>467.255918</td>\n",
       "    </tr>\n",
       "    <tr>\n",
       "      <th>...</th>\n",
       "      <td>...</td>\n",
       "    </tr>\n",
       "    <tr>\n",
       "      <th>629747</th>\n",
       "      <td>430.967006</td>\n",
       "    </tr>\n",
       "    <tr>\n",
       "      <th>608395</th>\n",
       "      <td>504.182630</td>\n",
       "    </tr>\n",
       "    <tr>\n",
       "      <th>829026</th>\n",
       "      <td>113.045603</td>\n",
       "    </tr>\n",
       "    <tr>\n",
       "      <th>219515</th>\n",
       "      <td>197.542965</td>\n",
       "    </tr>\n",
       "    <tr>\n",
       "      <th>191593</th>\n",
       "      <td>261.528040</td>\n",
       "    </tr>\n",
       "  </tbody>\n",
       "</table>\n",
       "<p>743975 rows × 1 columns</p>\n",
       "</div>"
      ],
      "text/plain": [
       "              Cost\n",
       "27267   481.068567\n",
       "946504   84.930825\n",
       "422828  266.518389\n",
       "732024  417.833751\n",
       "885147  467.255918\n",
       "...            ...\n",
       "629747  430.967006\n",
       "608395  504.182630\n",
       "829026  113.045603\n",
       "219515  197.542965\n",
       "191593  261.528040\n",
       "\n",
       "[743975 rows x 1 columns]"
      ]
     },
     "execution_count": 113,
     "metadata": {},
     "output_type": "execute_result"
    }
   ],
   "source": [
    "y_train"
   ]
  },
  {
   "cell_type": "markdown",
   "metadata": {},
   "source": [
    "b) Use the normal equation to compute  β_hat  (*)"
   ]
  },
  {
   "cell_type": "code",
   "execution_count": 121,
   "metadata": {},
   "outputs": [],
   "source": [
    "regression_fit = lambda X, y: np.linalg.inv(X.T @ X) @ X.T @ y"
   ]
  },
  {
   "cell_type": "code",
   "execution_count": 122,
   "metadata": {},
   "outputs": [
    {
     "name": "stdout",
     "output_type": "stream",
     "text": [
      "[[26.57635622]\n",
      " [ 1.99405178]\n",
      " [ 0.49584977]\n",
      " [49.66511617]]\n"
     ]
    }
   ],
   "source": [
    "beta_hat = regression_fit(X_train.to_numpy(), y_train.to_numpy())\n",
    "print(beta_hat)"
   ]
  },
  {
   "cell_type": "code",
   "execution_count": 123,
   "metadata": {},
   "outputs": [],
   "source": [
    "predict = lambda x, beta : np.dot(x, beta)\n",
    "y_test_hat = predict (X_test.to_numpy(), beta_hat)"
   ]
  },
  {
   "cell_type": "code",
   "execution_count": 125,
   "metadata": {},
   "outputs": [
    {
     "data": {
      "text/plain": [
       "array([[332.33317123],\n",
       "       [404.31807234],\n",
       "       [206.4472975 ],\n",
       "       ...,\n",
       "       [533.88669401],\n",
       "       [410.45034725],\n",
       "       [279.00931741]])"
      ]
     },
     "execution_count": 125,
     "metadata": {},
     "output_type": "execute_result"
    }
   ],
   "source": [
    "y_test_hat"
   ]
  },
  {
   "cell_type": "code",
   "execution_count": 126,
   "metadata": {},
   "outputs": [
    {
     "data": {
      "text/html": [
       "<div>\n",
       "<style scoped>\n",
       "    .dataframe tbody tr th:only-of-type {\n",
       "        vertical-align: middle;\n",
       "    }\n",
       "\n",
       "    .dataframe tbody tr th {\n",
       "        vertical-align: top;\n",
       "    }\n",
       "\n",
       "    .dataframe thead th {\n",
       "        text-align: right;\n",
       "    }\n",
       "</style>\n",
       "<table border=\"1\" class=\"dataframe\">\n",
       "  <thead>\n",
       "    <tr style=\"text-align: right;\">\n",
       "      <th></th>\n",
       "      <th>Cost</th>\n",
       "    </tr>\n",
       "  </thead>\n",
       "  <tbody>\n",
       "    <tr>\n",
       "      <th>5</th>\n",
       "      <td>291.633013</td>\n",
       "    </tr>\n",
       "    <tr>\n",
       "      <th>7</th>\n",
       "      <td>348.470264</td>\n",
       "    </tr>\n",
       "    <tr>\n",
       "      <th>11</th>\n",
       "      <td>238.239108</td>\n",
       "    </tr>\n",
       "    <tr>\n",
       "      <th>16</th>\n",
       "      <td>78.040744</td>\n",
       "    </tr>\n",
       "    <tr>\n",
       "      <th>18</th>\n",
       "      <td>67.076035</td>\n",
       "    </tr>\n",
       "    <tr>\n",
       "      <th>...</th>\n",
       "      <td>...</td>\n",
       "    </tr>\n",
       "    <tr>\n",
       "      <th>999978</th>\n",
       "      <td>150.660508</td>\n",
       "    </tr>\n",
       "    <tr>\n",
       "      <th>999986</th>\n",
       "      <td>267.521898</td>\n",
       "    </tr>\n",
       "    <tr>\n",
       "      <th>999993</th>\n",
       "      <td>494.523486</td>\n",
       "    </tr>\n",
       "    <tr>\n",
       "      <th>999994</th>\n",
       "      <td>317.060737</td>\n",
       "    </tr>\n",
       "    <tr>\n",
       "      <th>999996</th>\n",
       "      <td>312.982358</td>\n",
       "    </tr>\n",
       "  </tbody>\n",
       "</table>\n",
       "<p>185994 rows × 1 columns</p>\n",
       "</div>"
      ],
      "text/plain": [
       "              Cost\n",
       "5       291.633013\n",
       "7       348.470264\n",
       "11      238.239108\n",
       "16       78.040744\n",
       "18       67.076035\n",
       "...            ...\n",
       "999978  150.660508\n",
       "999986  267.521898\n",
       "999993  494.523486\n",
       "999994  317.060737\n",
       "999996  312.982358\n",
       "\n",
       "[185994 rows x 1 columns]"
      ]
     },
     "execution_count": 126,
     "metadata": {},
     "output_type": "execute_result"
    }
   ],
   "source": [
    "y_test"
   ]
  },
  {
   "cell_type": "markdown",
   "metadata": {},
   "source": [
    "c) Predict on the test data and compute MAE, MSE and RMSE. (*)"
   ]
  },
  {
   "cell_type": "code",
   "execution_count": 127,
   "metadata": {},
   "outputs": [
    {
     "data": {
      "text/plain": [
       "(39.66540715012163, 2469.6284836336513, 49.69535676130771)"
      ]
     },
     "execution_count": 127,
     "metadata": {},
     "output_type": "execute_result"
    }
   ],
   "source": [
    "m = len(y_test)\n",
    "\n",
    "MAE = 1/m * np.sum(np.abs(y_test.to_numpy()-y_test_hat))\n",
    "MSE = 1/m * np.sum((y_test.to_numpy()-y_test_hat)**2)\n",
    "RMSE = np.sqrt(MSE)\n",
    "\n",
    "MAE, MSE, RMSE"
   ]
  },
  {
   "cell_type": "markdown",
   "metadata": {},
   "source": [
    "d) Now repeat 4a), 4c), 5a), 5b) using 10, 100, 1000, 10000, 100000, 1000000 samples, and calculate RMSE for each of these simulations. Plot the RMSE against sample size. (**)"
   ]
  },
  {
   "cell_type": "code",
   "execution_count": 128,
   "metadata": {},
   "outputs": [
    {
     "data": {
      "text/plain": [
       "[292.83858194521935,\n",
       " 45.285277036149054,\n",
       " 49.367505736967836,\n",
       " 49.20631541292368,\n",
       " 49.999668992880366,\n",
       " 49.69535676130771]"
      ]
     },
     "execution_count": 128,
     "metadata": {},
     "output_type": "execute_result"
    }
   ],
   "source": [
    "n = [10, 100, 1000, 10000, 100000, 1000000]\n",
    "RMSE_list =[]\n",
    "\n",
    "def remove_outliers(df):\n",
    "        df_remove_outliers = df[df['Surf(GB)']<4]\n",
    "        df_remove_outliers = df_remove_outliers[df_remove_outliers['Minutes']<300]\n",
    "        df_remove_outliers = df_remove_outliers[df_remove_outliers['Cost']>=0]\n",
    "        return df_remove_outliers\n",
    "\n",
    "for i in n:\n",
    "    np.random.seed(42)\n",
    "    X1 = np.abs(np.random.normal(100, 100, i))\n",
    "    X2 = np.random.randint(0,50, i)\n",
    "    X3 = np.abs(np.random.normal(0,2, i))\n",
    "    e = np.random.normal(0,50, i)\n",
    "    def y(X1, X2, X3, e):\n",
    "        return 25+2*X1+0.5*X2+50*X3+e\n",
    "    y = y(X1, X2, X3, e)\n",
    "    df4 = pd.DataFrame({'Minutes': X1, 'SMS':X2, 'Surf(GB)':X3, 'Cost':y, 'error term': e})\n",
    "    df4.insert(0, 'Intercept', 1)\n",
    "\n",
    "          \n",
    "    df4_remove_outliers =  remove_outliers(df4)\n",
    "\n",
    "    df5 = df4_remove_outliers.copy()\n",
    "    X_train, X_test, y_train, y_test = train_test_split(df5.iloc[:,-6:-2], df5.iloc[:, -2:-1], train_fraction=0.8)\n",
    "\n",
    "    regression_fit = lambda X, y: np.linalg.inv(X.T @ X) @ X.T @ y\n",
    "\n",
    "    beta_hat = regression_fit(X_train.to_numpy(), y_train.to_numpy())\n",
    "\n",
    "    predict = lambda x, beta : np.dot(x, beta)\n",
    "    y_test_hat = predict (X_test.to_numpy(), beta_hat)\n",
    "\n",
    "    m = len(y_test)\n",
    "\n",
    "    MAE = 1/m * np.sum(np.abs(y_test.to_numpy()-y_test_hat))\n",
    "    MSE = 1/m * np.sum((y_test.to_numpy()-y_test_hat)**2)\n",
    "    RMSE = np.sqrt(MSE)\n",
    "\n",
    "    RMSE_list.append(RMSE)\n",
    "\n",
    "RMSE_list\n"
   ]
  },
  {
   "cell_type": "code",
   "execution_count": 129,
   "metadata": {},
   "outputs": [
    {
     "data": {
      "text/html": [
       "<div>\n",
       "<style scoped>\n",
       "    .dataframe tbody tr th:only-of-type {\n",
       "        vertical-align: middle;\n",
       "    }\n",
       "\n",
       "    .dataframe tbody tr th {\n",
       "        vertical-align: top;\n",
       "    }\n",
       "\n",
       "    .dataframe thead th {\n",
       "        text-align: right;\n",
       "    }\n",
       "</style>\n",
       "<table border=\"1\" class=\"dataframe\">\n",
       "  <thead>\n",
       "    <tr style=\"text-align: right;\">\n",
       "      <th></th>\n",
       "      <th>Number of simulation</th>\n",
       "      <th>Root mean square error</th>\n",
       "    </tr>\n",
       "  </thead>\n",
       "  <tbody>\n",
       "    <tr>\n",
       "      <th>0</th>\n",
       "      <td>10</td>\n",
       "      <td>292.838582</td>\n",
       "    </tr>\n",
       "    <tr>\n",
       "      <th>1</th>\n",
       "      <td>100</td>\n",
       "      <td>45.285277</td>\n",
       "    </tr>\n",
       "    <tr>\n",
       "      <th>2</th>\n",
       "      <td>1000</td>\n",
       "      <td>49.367506</td>\n",
       "    </tr>\n",
       "    <tr>\n",
       "      <th>3</th>\n",
       "      <td>10000</td>\n",
       "      <td>49.206315</td>\n",
       "    </tr>\n",
       "    <tr>\n",
       "      <th>4</th>\n",
       "      <td>100000</td>\n",
       "      <td>49.999669</td>\n",
       "    </tr>\n",
       "    <tr>\n",
       "      <th>5</th>\n",
       "      <td>1000000</td>\n",
       "      <td>49.695357</td>\n",
       "    </tr>\n",
       "  </tbody>\n",
       "</table>\n",
       "</div>"
      ],
      "text/plain": [
       "   Number of simulation  Root mean square error\n",
       "0                    10              292.838582\n",
       "1                   100               45.285277\n",
       "2                  1000               49.367506\n",
       "3                 10000               49.206315\n",
       "4                100000               49.999669\n",
       "5               1000000               49.695357"
      ]
     },
     "execution_count": 129,
     "metadata": {},
     "output_type": "execute_result"
    }
   ],
   "source": [
    "RMSE_df = pd.DataFrame({'Number of simulation': n, 'Root mean square error':RMSE_list})\n",
    "RMSE_df"
   ]
  },
  {
   "cell_type": "code",
   "execution_count": 139,
   "metadata": {},
   "outputs": [
    {
     "data": {
      "text/plain": [
       "[<matplotlib.axis.XTick at 0x289cd6ef400>,\n",
       " <matplotlib.axis.XTick at 0x289cd6ef3d0>,\n",
       " <matplotlib.axis.XTick at 0x289cd7a75b0>,\n",
       " <matplotlib.axis.XTick at 0x289cd7d3250>,\n",
       " <matplotlib.axis.XTick at 0x289cd7d39a0>,\n",
       " <matplotlib.axis.XTick at 0x289cd7d9130>]"
      ]
     },
     "execution_count": 139,
     "metadata": {},
     "output_type": "execute_result"
    },
    {
     "data": {
      "image/png": "[encoded data removed]",
      "text/plain": [
       "<Figure size 432x288 with 1 Axes>"
      ]
     },
     "metadata": {
      "needs_background": "light"
     },
     "output_type": "display_data"
    }
   ],
   "source": [
    "sns.lineplot(data= RMSE_df, x='Number of simulation', y='Root mean square error')\n",
    "ax.set_xticks([10,100, 1000, 10000, 100000, 1000000])"
   ]
  }
 ],
 "metadata": {
  "interpreter": {
   "hash": "5d37ab873a4e1266968af8f21f39f3096a22cf64f0fcde0768a17dd77b4d4eb7"
  },
  "kernelspec": {
   "display_name": "Python 3.10.1 64-bit ('Machine_learning_-_shallow-dWQp8w_Y': venv)",
   "language": "python",
   "name": "python3"
  },
  "language_info": {
   "codemirror_mode": {
    "name": "ipython",
    "version": 3
   },
   "file_extension": ".py",
   "mimetype": "text/x-python",
   "name": "python",
   "nbconvert_exporter": "python",
   "pygments_lexer": "ipython3",
   "version": "3.9.6"
  },
  "orig_nbformat": 4
 },
 "nbformat": 4,
 "nbformat_minor": 2
}
